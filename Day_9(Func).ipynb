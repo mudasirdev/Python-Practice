{
 "cells": [
  {
   "cell_type": "code",
   "execution_count": 1,
   "id": "5a07027e-a008-4eac-9883-fa2a3945a642",
   "metadata": {},
   "outputs": [
    {
     "name": "stdout",
     "output_type": "stream",
     "text": [
      "5\n",
      "6\n",
      "5\n"
     ]
    }
   ],
   "source": [
    "def g(y):\n",
    "    print(x)    \n",
    "    print(x + 1) \n",
    "\n",
    "x = 5\n",
    "g(x)\n",
    "print(x)       "
   ]
  },
  {
   "cell_type": "code",
   "execution_count": 7,
   "id": "1ec6fca2-0c83-4fec-89e4-2087090ba674",
   "metadata": {},
   "outputs": [
    {
     "name": "stdout",
     "output_type": "stream",
     "text": [
      "6\n"
     ]
    }
   ],
   "source": [
    "def h(y):\n",
    "    global x \n",
    "    x += 1\n",
    "x = 5\n",
    "h(x)\n",
    "print(x)"
   ]
  },
  {
   "cell_type": "code",
   "execution_count": 9,
   "id": "46ee635a-dee6-4199-ada8-5f02361d772c",
   "metadata": {},
   "outputs": [
    {
     "name": "stdout",
     "output_type": "stream",
     "text": [
      "in f(x): x = 4\n",
      "in main proram scope: z = 4\n",
      "in main program scope: x = 3\n"
     ]
    }
   ],
   "source": [
    "def f(x):\n",
    "    x += 1\n",
    "    print(\"in f(x): x =\", x)\n",
    "    return x\n",
    "\n",
    "x = 3\n",
    "z = f(x)\n",
    "print(\"in main proram scope: z =\", z)\n",
    "print(\"in main program scope: x =\", x)"
   ]
  },
  {
   "cell_type": "markdown",
   "id": "21b86371-7ce4-4918-acdd-f50252cc2a12",
   "metadata": {},
   "source": [
    "**Nested Functions**"
   ]
  },
  {
   "cell_type": "code",
   "execution_count": 12,
   "id": "34f7d4f6-9f9b-46d8-9957-dde403447b96",
   "metadata": {},
   "outputs": [
    {
     "name": "stdout",
     "output_type": "stream",
     "text": [
      "Inside f\n",
      "Inside g\n"
     ]
    }
   ],
   "source": [
    "def f():\n",
    "    print(\"Inside f\")\n",
    "    def g():\n",
    "        print(\"Inside g\")\n",
    "    g()\n",
    "f()"
   ]
  },
  {
   "cell_type": "code",
   "execution_count": 14,
   "id": "2b85ff13-7900-42a2-97ef-a46bc4bfd603",
   "metadata": {},
   "outputs": [
    {
     "name": "stdout",
     "output_type": "stream",
     "text": [
      "in g(x): x = 4\n",
      "in h(x): x = 5\n",
      "in main proram scope: x = 3\n",
      "in main program scope: z = 4\n"
     ]
    }
   ],
   "source": [
    "def g(x):\n",
    "    def h(x):\n",
    "        x += 1\n",
    "        print(\"in h(x): x =\", x)\n",
    "    x += 1\n",
    "    print(\"in g(x): x =\", x)\n",
    "    h(x)\n",
    "    return x\n",
    "x = 3\n",
    "z = g(x)\n",
    "print(\"in main proram scope: x =\", x)\n",
    "print(\"in main program scope: z =\", z)"
   ]
  },
  {
   "cell_type": "markdown",
   "id": "9e7b9596-9acb-497e-88d8-b2b8fdf7ea2b",
   "metadata": {},
   "source": [
    "**Everything in Python an Object**"
   ]
  },
  {
   "cell_type": "code",
   "execution_count": 17,
   "id": "06018135-e99a-4de1-b035-768977aaa5e3",
   "metadata": {},
   "outputs": [
    {
     "data": {
      "text/plain": [
       "4"
      ]
     },
     "execution_count": 17,
     "metadata": {},
     "output_type": "execute_result"
    }
   ],
   "source": [
    "def f(num):\n",
    "    return num**2\n",
    "f(2)\n"
   ]
  },
  {
   "cell_type": "code",
   "execution_count": 19,
   "id": "612924e5-ac8c-434b-98bf-80d235fa71c6",
   "metadata": {},
   "outputs": [],
   "source": [
    "x = f # aliasing"
   ]
  },
  {
   "cell_type": "code",
   "execution_count": 21,
   "id": "bb70b705-13a6-4f62-af0d-6a8732bdc7ea",
   "metadata": {},
   "outputs": [
    {
     "data": {
      "text/plain": [
       "16"
      ]
     },
     "execution_count": 21,
     "metadata": {},
     "output_type": "execute_result"
    }
   ],
   "source": [
    "x(4)"
   ]
  },
  {
   "cell_type": "code",
   "execution_count": 23,
   "id": "2bf28cce-50fb-465c-9f39-313eaaf8ced0",
   "metadata": {},
   "outputs": [],
   "source": [
    "del f"
   ]
  },
  {
   "cell_type": "code",
   "execution_count": 29,
   "id": "b1e31354-c714-4faa-96d2-86e81f458f7f",
   "metadata": {},
   "outputs": [
    {
     "ename": "NameError",
     "evalue": "name 'f' is not defined",
     "output_type": "error",
     "traceback": [
      "\u001b[1;31m---------------------------------------------------------------------------\u001b[0m",
      "\u001b[1;31mNameError\u001b[0m                                 Traceback (most recent call last)",
      "Cell \u001b[1;32mIn[29], line 1\u001b[0m\n\u001b[1;32m----> 1\u001b[0m f(\u001b[38;5;241m2\u001b[39m)\n",
      "\u001b[1;31mNameError\u001b[0m: name 'f' is not defined"
     ]
    }
   ],
   "source": [
    "f(2)"
   ]
  },
  {
   "cell_type": "code",
   "execution_count": 27,
   "id": "169c966d-9077-45ad-af52-e4f8e748261b",
   "metadata": {},
   "outputs": [
    {
     "data": {
      "text/plain": [
       "4"
      ]
     },
     "execution_count": 27,
     "metadata": {},
     "output_type": "execute_result"
    }
   ],
   "source": [
    "x(2)"
   ]
  },
  {
   "cell_type": "code",
   "execution_count": 31,
   "id": "c22240d7-16d3-42ad-9e32-a74bc1532f4f",
   "metadata": {},
   "outputs": [
    {
     "data": {
      "text/plain": [
       "function"
      ]
     },
     "execution_count": 31,
     "metadata": {},
     "output_type": "execute_result"
    }
   ],
   "source": [
    "type(x)"
   ]
  },
  {
   "cell_type": "code",
   "execution_count": 33,
   "id": "ed18fd71-2f5c-457e-b60c-acea401076c3",
   "metadata": {},
   "outputs": [
    {
     "data": {
      "text/plain": [
       "[1, 2, 3, 4]"
      ]
     },
     "execution_count": 33,
     "metadata": {},
     "output_type": "execute_result"
    }
   ],
   "source": [
    "L = [1, 2, 3, 4]\n",
    "L\n"
   ]
  },
  {
   "cell_type": "code",
   "execution_count": 35,
   "id": "93c24348-7f26-4589-8df1-00061108dcd5",
   "metadata": {},
   "outputs": [
    {
     "data": {
      "text/plain": [
       "[1, 2, 3, 4, <function __main__.f(num)>]"
      ]
     },
     "execution_count": 35,
     "metadata": {},
     "output_type": "execute_result"
    }
   ],
   "source": [
    "L = [1, 2, 3, 4, x]\n",
    "L"
   ]
  },
  {
   "cell_type": "code",
   "execution_count": 39,
   "id": "c0f2ca1f-7440-474b-95f6-6c247e21f5fc",
   "metadata": {},
   "outputs": [
    {
     "data": {
      "text/plain": [
       "9"
      ]
     },
     "execution_count": 39,
     "metadata": {},
     "output_type": "execute_result"
    }
   ],
   "source": [
    "L[-1](-3) # sqr"
   ]
  },
  {
   "cell_type": "code",
   "execution_count": 41,
   "id": "2d4c6a36-833c-45bd-9c9d-ccb23896137f",
   "metadata": {},
   "outputs": [
    {
     "data": {
      "text/plain": [
       "[1, 2, 3, 4, 25]"
      ]
     },
     "execution_count": 41,
     "metadata": {},
     "output_type": "execute_result"
    }
   ],
   "source": [
    "L = [1, 2, 3, 4, x(5)]\n",
    "L"
   ]
  },
  {
   "cell_type": "code",
   "execution_count": 43,
   "id": "6a5e413f-43e5-4a52-8b04-9fef0528ae4c",
   "metadata": {},
   "outputs": [
    {
     "name": "stdout",
     "output_type": "stream",
     "text": [
      "inside func_c\n",
      "inside func_a\n",
      "None\n"
     ]
    }
   ],
   "source": [
    "# Function as argument/input\n",
    "def func_a():\n",
    "    print(\"inside func_a\")\n",
    "def func_c(z):\n",
    "    print(\"inside func_c\")\n",
    "    return z()\n",
    "print(func_c(func_a))"
   ]
  },
  {
   "cell_type": "code",
   "execution_count": 45,
   "id": "8de1039b-897a-4293-a933-bb7dff95ee04",
   "metadata": {},
   "outputs": [
    {
     "name": "stdout",
     "output_type": "stream",
     "text": [
      "<function f.<locals>.x at 0x0000023419E3DBC0>\n"
     ]
    }
   ],
   "source": [
    "# Returning a Function + Nested Calling\n",
    "def f():\n",
    "    def x(a, b):\n",
    "        return a + b\n",
    "    return x\n",
    "val = f()\n",
    "print(val)"
   ]
  },
  {
   "cell_type": "code",
   "execution_count": null,
   "id": "118a8841-8ed2-492e-915f-0a3c44157dbf",
   "metadata": {},
   "outputs": [],
   "source": []
  }
 ],
 "metadata": {
  "kernelspec": {
   "display_name": "Python 3 (ipykernel)",
   "language": "python",
   "name": "python3"
  },
  "language_info": {
   "codemirror_mode": {
    "name": "ipython",
    "version": 3
   },
   "file_extension": ".py",
   "mimetype": "text/x-python",
   "name": "python",
   "nbconvert_exporter": "python",
   "pygments_lexer": "ipython3",
   "version": "3.12.4"
  }
 },
 "nbformat": 4,
 "nbformat_minor": 5
}
