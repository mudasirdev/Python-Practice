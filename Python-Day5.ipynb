{
 "cells": [
  {
   "cell_type": "markdown",
   "id": "980ca69d-d636-487c-9efc-85497434f234",
   "metadata": {},
   "source": [
    "**Edit &  Delete in string**"
   ]
  },
  {
   "cell_type": "code",
   "execution_count": 1,
   "id": "0ab51803-7b98-4add-8596-b3410ce908d4",
   "metadata": {},
   "outputs": [
    {
     "name": "stdout",
     "output_type": "stream",
     "text": [
      "Hello\n"
     ]
    }
   ],
   "source": [
    "c = \"Hello\"\n",
    "print(c)"
   ]
  },
  {
   "cell_type": "code",
   "execution_count": 2,
   "id": "7a3e4b6c-36bd-4705-ae00-8ee1a1c27544",
   "metadata": {},
   "outputs": [
    {
     "ename": "TypeError",
     "evalue": "'str' object does not support item assignment",
     "output_type": "error",
     "traceback": [
      "\u001b[1;31m---------------------------------------------------------------------------\u001b[0m",
      "\u001b[1;31mTypeError\u001b[0m                                 Traceback (most recent call last)",
      "Cell \u001b[1;32mIn[2], line 1\u001b[0m\n\u001b[1;32m----> 1\u001b[0m \u001b[43mc\u001b[49m\u001b[43m[\u001b[49m\u001b[38;5;241;43m0\u001b[39;49m\u001b[43m]\u001b[49m \u001b[38;5;241m=\u001b[39m \u001b[38;5;124m'\u001b[39m\u001b[38;5;124mX\u001b[39m\u001b[38;5;124m'\u001b[39m\n",
      "\u001b[1;31mTypeError\u001b[0m: 'str' object does not support item assignment"
     ]
    }
   ],
   "source": [
    "c[0] = 'X'"
   ]
  },
  {
   "cell_type": "code",
   "execution_count": 3,
   "id": "cf317206-fefc-4a50-a649-b4288cdd6e7f",
   "metadata": {},
   "outputs": [
    {
     "name": "stdout",
     "output_type": "stream",
     "text": [
      "World\n"
     ]
    }
   ],
   "source": [
    "c = \"World\"\n",
    "print(c)"
   ]
  },
  {
   "cell_type": "code",
   "execution_count": 4,
   "id": "c1b7b710-1544-41b8-8c7d-ac8baf95b8f0",
   "metadata": {},
   "outputs": [
    {
     "ename": "TypeError",
     "evalue": "'str' object does not support item assignment",
     "output_type": "error",
     "traceback": [
      "\u001b[1;31m---------------------------------------------------------------------------\u001b[0m",
      "\u001b[1;31mTypeError\u001b[0m                                 Traceback (most recent call last)",
      "Cell \u001b[1;32mIn[4], line 1\u001b[0m\n\u001b[1;32m----> 1\u001b[0m \u001b[43mc\u001b[49m\u001b[43m[\u001b[49m\u001b[38;5;241;43m5\u001b[39;49m\u001b[43m]\u001b[49m \u001b[38;5;241m=\u001b[39m \u001b[38;5;124m\"\u001b[39m\u001b[38;5;124mX\u001b[39m\u001b[38;5;124m\"\u001b[39m\n",
      "\u001b[1;31mTypeError\u001b[0m: 'str' object does not support item assignment"
     ]
    }
   ],
   "source": [
    "c[5] = \"X\""
   ]
  },
  {
   "cell_type": "code",
   "execution_count": 5,
   "id": "743ca045-3cd6-43ac-aba1-9295ce955f56",
   "metadata": {},
   "outputs": [
    {
     "data": {
      "text/plain": [
       "'World'"
      ]
     },
     "execution_count": 5,
     "metadata": {},
     "output_type": "execute_result"
    }
   ],
   "source": [
    "c"
   ]
  },
  {
   "cell_type": "code",
   "execution_count": 6,
   "id": "804f9f32-0df2-4032-9aeb-5bcd4bc6c7ce",
   "metadata": {},
   "outputs": [],
   "source": [
    "del c"
   ]
  },
  {
   "cell_type": "code",
   "execution_count": 7,
   "id": "1a3e65e2-c096-40d7-af5d-f202f8a247b4",
   "metadata": {},
   "outputs": [
    {
     "ename": "NameError",
     "evalue": "name 'c' is not defined",
     "output_type": "error",
     "traceback": [
      "\u001b[1;31m---------------------------------------------------------------------------\u001b[0m",
      "\u001b[1;31mNameError\u001b[0m                                 Traceback (most recent call last)",
      "Cell \u001b[1;32mIn[7], line 1\u001b[0m\n\u001b[1;32m----> 1\u001b[0m \u001b[43mc\u001b[49m\n",
      "\u001b[1;31mNameError\u001b[0m: name 'c' is not defined"
     ]
    }
   ],
   "source": [
    "c"
   ]
  },
  {
   "cell_type": "markdown",
   "id": "f954d389-e9c1-460c-90f4-a73947e58e54",
   "metadata": {},
   "source": [
    "**Strings Operations**"
   ]
  },
  {
   "cell_type": "markdown",
   "id": "78cef975-8d26-4b1f-8a49-5a959c2c82eb",
   "metadata": {},
   "source": [
    "**String Concatenation (Joining Strings)**"
   ]
  },
  {
   "cell_type": "code",
   "execution_count": 8,
   "id": "18330495-a87a-45a5-9ed9-ff98b525b832",
   "metadata": {},
   "outputs": [
    {
     "name": "stdout",
     "output_type": "stream",
     "text": [
      "Hello World\n"
     ]
    }
   ],
   "source": [
    "a = \"Hello\"\n",
    "b = \"World\"\n",
    "result = a + \" \" + b\n",
    "print(result) "
   ]
  },
  {
   "cell_type": "markdown",
   "id": "035b7c19-02ee-411d-9039-70ff46f9a772",
   "metadata": {},
   "source": [
    "**String Repetition**"
   ]
  },
  {
   "cell_type": "code",
   "execution_count": 9,
   "id": "b72369f8-6423-4f39-bae8-265a6cea5463",
   "metadata": {},
   "outputs": [
    {
     "name": "stdout",
     "output_type": "stream",
     "text": [
      "Hi Hi Hi \n"
     ]
    }
   ],
   "source": [
    "text = \"Hi \"\n",
    "print(text * 3)  \n"
   ]
  },
  {
   "cell_type": "markdown",
   "id": "069ce593-d2da-4f51-b631-39280f8a9efe",
   "metadata": {},
   "source": [
    "**String Indexing**"
   ]
  },
  {
   "cell_type": "code",
   "execution_count": 10,
   "id": "e61cc992-abc5-4c60-bf49-98c6e4b63a5e",
   "metadata": {},
   "outputs": [
    {
     "name": "stdout",
     "output_type": "stream",
     "text": [
      "P\n",
      "n\n"
     ]
    }
   ],
   "source": [
    "word = \"Python\"\n",
    "print(word[0])  \n",
    "print(word[-1])  "
   ]
  },
  {
   "cell_type": "markdown",
   "id": "b0f2ec06-1015-417e-a807-666c520ae642",
   "metadata": {},
   "source": [
    "**String Length**"
   ]
  },
  {
   "cell_type": "code",
   "execution_count": 11,
   "id": "5900b1fd-da24-4e04-918d-2c5e05d43f26",
   "metadata": {},
   "outputs": [
    {
     "name": "stdout",
     "output_type": "stream",
     "text": [
      "6\n"
     ]
    }
   ],
   "source": [
    "name = \"Python\"\n",
    "print(len(name))\n"
   ]
  },
  {
   "cell_type": "markdown",
   "id": "a08f9efc-1c39-409b-936f-37f97b1cb471",
   "metadata": {},
   "source": [
    "**String Case Conversion**"
   ]
  },
  {
   "cell_type": "code",
   "execution_count": 12,
   "id": "b170a5b1-8c91-4ae4-9019-9952259be414",
   "metadata": {},
   "outputs": [
    {
     "name": "stdout",
     "output_type": "stream",
     "text": [
      "HELLO\n",
      "hello\n"
     ]
    }
   ],
   "source": [
    "s = \"Hello\"\n",
    "print(s.upper())  \n",
    "print(s.lower())  \n"
   ]
  },
  {
   "cell_type": "markdown",
   "id": "7d4aa527-e8d5-4be4-862e-ba9a69b89565",
   "metadata": {},
   "source": [
    "**String Strip (Remove Spaces)**"
   ]
  },
  {
   "cell_type": "code",
   "execution_count": 13,
   "id": "77a2fc4e-4326-4f94-8ba1-6f0d9570d80e",
   "metadata": {},
   "outputs": [
    {
     "name": "stdout",
     "output_type": "stream",
     "text": [
      "Hello\n"
     ]
    }
   ],
   "source": [
    "msg = \"  Hello  \"\n",
    "print(msg.strip())\n"
   ]
  },
  {
   "cell_type": "markdown",
   "id": "16883a7f-d4ef-4f20-b828-5a426ebbc6e8",
   "metadata": {},
   "source": [
    "**Replace Part of a String**"
   ]
  },
  {
   "cell_type": "code",
   "execution_count": 14,
   "id": "64a78c5d-a141-422d-b76f-56154d240416",
   "metadata": {},
   "outputs": [
    {
     "name": "stdout",
     "output_type": "stream",
     "text": [
      "I love Python\n"
     ]
    }
   ],
   "source": [
    "text = \"I love Java\"\n",
    "print(text.replace(\"Java\", \"Python\"))  \n"
   ]
  },
  {
   "cell_type": "markdown",
   "id": "a285013b-fc45-426e-88f0-f4f2bbd4ead1",
   "metadata": {},
   "source": [
    "**Check Start or End**"
   ]
  },
  {
   "cell_type": "code",
   "execution_count": 16,
   "id": "93763e5e-afcb-44ea-8d7c-e1b9d1c7eb4d",
   "metadata": {},
   "outputs": [
    {
     "name": "stdout",
     "output_type": "stream",
     "text": [
      "True\n",
      "False\n"
     ]
    }
   ],
   "source": [
    "s = \"apple\"\n",
    "print(s.startswith(\"a\")) \n",
    "print(s.endswith(\"r\"))"
   ]
  },
  {
   "cell_type": "markdown",
   "id": "363b8555-e156-4856-bdf8-73eacf3fb7d9",
   "metadata": {},
   "source": [
    "**Split a String**"
   ]
  },
  {
   "cell_type": "code",
   "execution_count": 17,
   "id": "ae64923f-12bf-4c9f-a83b-474bef4094c8",
   "metadata": {},
   "outputs": [
    {
     "name": "stdout",
     "output_type": "stream",
     "text": [
      "['Python', 'is', 'fun']\n"
     ]
    }
   ],
   "source": [
    "sentence = \"Python is fun\"\n",
    "words = sentence.split()\n",
    "print(words) \n"
   ]
  },
  {
   "cell_type": "markdown",
   "id": "7a068e67-13c1-4b24-8857-cc4a032e606b",
   "metadata": {},
   "source": [
    "**Realational**"
   ]
  },
  {
   "cell_type": "code",
   "execution_count": 18,
   "id": "ebdf8595-1f76-4c06-9462-f2efc1a5c840",
   "metadata": {},
   "outputs": [
    {
     "data": {
      "text/plain": [
       "False"
      ]
     },
     "execution_count": 18,
     "metadata": {},
     "output_type": "execute_result"
    }
   ],
   "source": [
    "\"Hello\" == \"World\""
   ]
  },
  {
   "cell_type": "code",
   "execution_count": 19,
   "id": "2dfafd1d-0a1d-49ba-b647-593762e34b63",
   "metadata": {},
   "outputs": [
    {
     "data": {
      "text/plain": [
       "True"
      ]
     },
     "execution_count": 19,
     "metadata": {},
     "output_type": "execute_result"
    }
   ],
   "source": [
    "\"Hello\" != \"World\""
   ]
  },
  {
   "cell_type": "code",
   "execution_count": 34,
   "id": "00cdad6b-f6d5-4f0a-9738-80e75625bf78",
   "metadata": {},
   "outputs": [
    {
     "data": {
      "text/plain": [
       "False"
      ]
     },
     "execution_count": 34,
     "metadata": {},
     "output_type": "execute_result"
    }
   ],
   "source": [
    "\"Lahore\" > \"dera\" # Lexiographically, Jo dictionary ma phla aaya gha wo chota count kiya ghaa."
   ]
  },
  {
   "cell_type": "markdown",
   "id": "2876ef28-d113-444c-bbc2-96a16a334acd",
   "metadata": {},
   "source": [
    "**Loops in strings**"
   ]
  },
  {
   "cell_type": "code",
   "execution_count": 21,
   "id": "28dac0d3-abf5-4e30-83e3-b742199cb869",
   "metadata": {},
   "outputs": [
    {
     "name": "stdout",
     "output_type": "stream",
     "text": [
      "H\n",
      "e\n",
      "l\n",
      "l\n",
      "o\n",
      " \n",
      "W\n",
      "o\n",
      "r\n",
      "l\n",
      "d\n"
     ]
    }
   ],
   "source": [
    "c = \"Hello World\"\n",
    "for i in c:\n",
    "    print(i)"
   ]
  },
  {
   "cell_type": "code",
   "execution_count": 22,
   "id": "77be8758-80fe-44e9-9507-905375098590",
   "metadata": {},
   "outputs": [
    {
     "data": {
      "text/plain": [
       "True"
      ]
     },
     "execution_count": 22,
     "metadata": {},
     "output_type": "execute_result"
    }
   ],
   "source": [
    "'H' in c#Membership operator"
   ]
  },
  {
   "cell_type": "code",
   "execution_count": 23,
   "id": "dee5519b-7e07-41bb-bf77-9b6ee974dfd4",
   "metadata": {},
   "outputs": [
    {
     "data": {
      "text/plain": [
       "False"
      ]
     },
     "execution_count": 23,
     "metadata": {},
     "output_type": "execute_result"
    }
   ],
   "source": [
    "'H' not in c"
   ]
  },
  {
   "cell_type": "code",
   "execution_count": 25,
   "id": "099d7a7c-6960-4573-840e-c3f4711f2c27",
   "metadata": {},
   "outputs": [
    {
     "data": {
      "text/plain": [
       "False"
      ]
     },
     "execution_count": 25,
     "metadata": {},
     "output_type": "execute_result"
    }
   ],
   "source": [
    "'world' in c"
   ]
  },
  {
   "cell_type": "markdown",
   "id": "d13583e4-f413-4742-a222-7db82a4e9466",
   "metadata": {},
   "source": [
    "**String Functions\n",
    " Common Functions\n",
    "   len()\n",
    "   max()\n",
    "   min()\n",
    "   sorted()**"
   ]
  },
  {
   "cell_type": "code",
   "execution_count": 35,
   "id": "678022a4-6c02-43c9-a163-bba74ac302fc",
   "metadata": {},
   "outputs": [
    {
     "data": {
      "text/plain": [
       "7"
      ]
     },
     "execution_count": 35,
     "metadata": {},
     "output_type": "execute_result"
    }
   ],
   "source": [
    "c = 'karachi'\n",
    "len(c)"
   ]
  },
  {
   "cell_type": "code",
   "execution_count": 36,
   "id": "1120ac71-dc28-482b-b058-606d6ac7cf4c",
   "metadata": {},
   "outputs": [
    {
     "data": {
      "text/plain": [
       "'t'"
      ]
     },
     "execution_count": 36,
     "metadata": {},
     "output_type": "execute_result"
    }
   ],
   "source": [
    "\n",
    "max(c)\n",
    "'t'\n"
   ]
  },
  {
   "cell_type": "code",
   "execution_count": 37,
   "id": "427cdf0d-61b3-432a-8a60-dfc30612c3f5",
   "metadata": {},
   "outputs": [
    {
     "data": {
      "text/plain": [
       "'a'"
      ]
     },
     "execution_count": 37,
     "metadata": {},
     "output_type": "execute_result"
    }
   ],
   "source": [
    "min(c)\n",
    "'a'"
   ]
  },
  {
   "cell_type": "code",
   "execution_count": 38,
   "id": "13288315-253d-4811-b151-b3ab81fd9cda",
   "metadata": {},
   "outputs": [
    {
     "data": {
      "text/plain": [
       "['r', 'k', 'i', 'h', 'c', 'a', 'a']"
      ]
     },
     "execution_count": 38,
     "metadata": {},
     "output_type": "execute_result"
    }
   ],
   "source": [
    "sorted(c)\n",
    "['a', 'a', 'k', 'k', 'l', 'o', 't']\n",
    "sorted(c, reverse=True)"
   ]
  },
  {
   "cell_type": "markdown",
   "id": "72e89069-0d9b-41b8-93a7-1eaad61bbbc4",
   "metadata": {},
   "source": [
    "**2. Capitalize/Title/Upper/Lower/Swapcase**"
   ]
  },
  {
   "cell_type": "code",
   "execution_count": 39,
   "id": "91017fcf-8aa1-42db-ab3d-7bbdd1adf148",
   "metadata": {},
   "outputs": [
    {
     "data": {
      "text/plain": [
       "'Karachi'"
      ]
     },
     "execution_count": 39,
     "metadata": {},
     "output_type": "execute_result"
    }
   ],
   "source": [
    "c\n",
    "c.capitalize()"
   ]
  },
  {
   "cell_type": "code",
   "execution_count": 31,
   "id": "ba51aea6-9d01-4201-b141-7207a1abf7f9",
   "metadata": {},
   "outputs": [
    {
     "data": {
      "text/plain": [
       "'It is raining today'"
      ]
     },
     "execution_count": 31,
     "metadata": {},
     "output_type": "execute_result"
    }
   ],
   "source": [
    "\n",
    "'it is raining today'.capitalize()"
   ]
  },
  {
   "cell_type": "code",
   "execution_count": 32,
   "id": "03adda88-cde9-4fe3-9d31-bdd752962270",
   "metadata": {},
   "outputs": [
    {
     "data": {
      "text/plain": [
       "'It Is Raining Today'"
      ]
     },
     "execution_count": 32,
     "metadata": {},
     "output_type": "execute_result"
    }
   ],
   "source": [
    "'it is raining today'.title()"
   ]
  },
  {
   "cell_type": "code",
   "execution_count": 40,
   "id": "8ddc425d-d03a-4fbf-8117-5783ec61d2c8",
   "metadata": {},
   "outputs": [
    {
     "data": {
      "text/plain": [
       "'kArAcHI'"
      ]
     },
     "execution_count": 40,
     "metadata": {},
     "output_type": "execute_result"
    }
   ],
   "source": [
    "\"KaRaChi\".swapcase()"
   ]
  },
  {
   "cell_type": "markdown",
   "id": "40316d3e-77b8-4d50-8c43-9a74aafce4ef",
   "metadata": {},
   "source": [
    "**Find/Index**"
   ]
  },
  {
   "cell_type": "code",
   "execution_count": 41,
   "id": "415e74de-95d9-4b9a-9218-8c95cf2e0b5a",
   "metadata": {},
   "outputs": [
    {
     "data": {
      "text/plain": [
       "0"
      ]
     },
     "execution_count": 41,
     "metadata": {},
     "output_type": "execute_result"
    }
   ],
   "source": [
    "\"it is raining\".find(\"i\")"
   ]
  },
  {
   "cell_type": "code",
   "execution_count": 42,
   "id": "1bb67d38-38e5-40ba-9266-6e247a1e39e6",
   "metadata": {},
   "outputs": [
    {
     "data": {
      "text/plain": [
       "-1"
      ]
     },
     "execution_count": 42,
     "metadata": {},
     "output_type": "execute_result"
    }
   ],
   "source": [
    "\"it is raining\".find(\"x\")"
   ]
  },
  {
   "cell_type": "markdown",
   "id": "1c3720b9-7afe-4f82-b1d4-c7a56097d036",
   "metadata": {},
   "source": [
    "\"it is raining\".index(\"x\")#index will throw error so better to use find option"
   ]
  },
  {
   "cell_type": "markdown",
   "id": "141b67c8-6d18-4e15-8b6b-06c82bd15821",
   "metadata": {},
   "source": [
    "**endswith/startswith**"
   ]
  },
  {
   "cell_type": "code",
   "execution_count": 46,
   "id": "efadc570-540f-474e-8244-eea955ac35c1",
   "metadata": {},
   "outputs": [
    {
     "data": {
      "text/plain": [
       "True"
      ]
     },
     "execution_count": 46,
     "metadata": {},
     "output_type": "execute_result"
    }
   ],
   "source": [
    "\"it is raining\".endswith(\"ing\")"
   ]
  },
  {
   "cell_type": "code",
   "execution_count": 47,
   "id": "8ce53bc6-fb68-4699-879b-a07104d20c6f",
   "metadata": {},
   "outputs": [
    {
     "data": {
      "text/plain": [
       "False"
      ]
     },
     "execution_count": 47,
     "metadata": {},
     "output_type": "execute_result"
    }
   ],
   "source": [
    "\"it is raining\".endswith(\"ingf\")"
   ]
  },
  {
   "cell_type": "markdown",
   "id": "2c71e414-47f3-45ae-ac3c-442676838053",
   "metadata": {},
   "source": [
    "**format**"
   ]
  },
  {
   "cell_type": "code",
   "execution_count": 49,
   "id": "493e2ec9-4690-41c9-873f-4f9683cd6ffb",
   "metadata": {},
   "outputs": [
    {
     "data": {
      "text/plain": [
       "'Hello my name is Mudasir and I am 22'"
      ]
     },
     "execution_count": 49,
     "metadata": {},
     "output_type": "execute_result"
    }
   ],
   "source": [
    "\"Hello my name is {} and I am {}\".format(\"Mudasir\", 22)"
   ]
  },
  {
   "cell_type": "code",
   "execution_count": 50,
   "id": "c38a8d53-f098-4905-ac61-1550b2fcae80",
   "metadata": {},
   "outputs": [
    {
     "data": {
      "text/plain": [
       "'Hello my name is 22 and I am Mudasir'"
      ]
     },
     "execution_count": 50,
     "metadata": {},
     "output_type": "execute_result"
    }
   ],
   "source": [
    "\"Hello my name is {1} and I am {0}\".format(\"Mudasir\", 22)"
   ]
  },
  {
   "cell_type": "code",
   "execution_count": 51,
   "id": "0c703a62-f985-43b9-b2e5-52ac7dcc62da",
   "metadata": {},
   "outputs": [
    {
     "data": {
      "text/plain": [
       "'Hello my name is Mudasir and I am 22'"
      ]
     },
     "execution_count": 51,
     "metadata": {},
     "output_type": "execute_result"
    }
   ],
   "source": [
    "\"Hello my name is {name} and I am {age}\".format(name = \"Mudasir\", age = 22)"
   ]
  },
  {
   "cell_type": "markdown",
   "id": "f4f400a9-5045-4fa2-8a8b-9760a75325ce",
   "metadata": {},
   "source": [
    "\"Hello my name is {age} and I am {name}\".format(name = \"Mudsir\", age = 22)"
   ]
  },
  {
   "cell_type": "code",
   "execution_count": 54,
   "id": "c50138d6-e2f6-4018-b306-b88ca2f9c339",
   "metadata": {},
   "outputs": [
    {
     "data": {
      "text/plain": [
       "'Hello my name is Mudasir and I am Mudasir'"
      ]
     },
     "execution_count": 54,
     "metadata": {},
     "output_type": "execute_result"
    }
   ],
   "source": [
    "\"Hello my name is {name} and I am {name}\".format(name = \"Mudasir\", age = 22, weight = 90)"
   ]
  },
  {
   "cell_type": "markdown",
   "id": "29a70f4b-54b2-4d5e-9e40-16c465b15808",
   "metadata": {},
   "source": [
    "**Join**"
   ]
  },
  {
   "cell_type": "code",
   "execution_count": 56,
   "id": "95745391-fe1d-452b-b8be-c796d4a6c17e",
   "metadata": {},
   "outputs": [
    {
     "data": {
      "text/plain": [
       "'who is the pm of Pakistan'"
      ]
     },
     "execution_count": 56,
     "metadata": {},
     "output_type": "execute_result"
    }
   ],
   "source": [
    "\" \".join(['who', 'is', 'the', 'pm', 'of', 'Pakistan'])"
   ]
  },
  {
   "cell_type": "code",
   "execution_count": 57,
   "id": "126709b1-0901-4ea3-978d-5f311dde1ef7",
   "metadata": {},
   "outputs": [
    {
     "data": {
      "text/plain": [
       "'who-is-the-pm-of-Pakistan'"
      ]
     },
     "execution_count": 57,
     "metadata": {},
     "output_type": "execute_result"
    }
   ],
   "source": [
    "\"-\".join(['who', 'is', 'the', 'pm', 'of', 'Pakistan'])"
   ]
  },
  {
   "cell_type": "markdown",
   "id": "548d1e12-889c-4fb6-9e1a-a207a3aa1155",
   "metadata": {},
   "source": [
    "**Replace**"
   ]
  },
  {
   "cell_type": "code",
   "execution_count": 59,
   "id": "de5b75ab-3e16-416a-a065-e348759468cd",
   "metadata": {},
   "outputs": [
    {
     "data": {
      "text/plain": [
       "'Hi my name is Hanzala'"
      ]
     },
     "execution_count": 59,
     "metadata": {},
     "output_type": "execute_result"
    }
   ],
   "source": [
    "\"Hi my name is Mudasir\".replace(\"Mudasir\", \"Hanzala\")"
   ]
  },
  {
   "cell_type": "markdown",
   "id": "52b53bbd-9594-4018-879f-5df59f815f84",
   "metadata": {},
   "source": [
    "**Strip**"
   ]
  },
  {
   "cell_type": "code",
   "execution_count": 73,
   "id": "0d4ce1ac-4762-4bd3-9a04-75508225f85b",
   "metadata": {},
   "outputs": [
    {
     "name": "stdout",
     "output_type": "stream",
     "text": [
      "Hello World\n"
     ]
    }
   ],
   "source": [
    "text = \"  Hello World              \"\n",
    "print(text.strip())"
   ]
  },
  {
   "cell_type": "code",
   "execution_count": null,
   "id": "8940b758-9fe0-4ec4-9a7e-1ea23d3d5ff5",
   "metadata": {},
   "outputs": [],
   "source": []
  }
 ],
 "metadata": {
  "kernelspec": {
   "display_name": "Python 3 (ipykernel)",
   "language": "python",
   "name": "python3"
  },
  "language_info": {
   "codemirror_mode": {
    "name": "ipython",
    "version": 3
   },
   "file_extension": ".py",
   "mimetype": "text/x-python",
   "name": "python",
   "nbconvert_exporter": "python",
   "pygments_lexer": "ipython3",
   "version": "3.10.9"
  }
 },
 "nbformat": 4,
 "nbformat_minor": 5
}
