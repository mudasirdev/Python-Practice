{
 "cells": [
  {
   "cell_type": "markdown",
   "id": "1ca28ad9-7076-4a43-b9a1-ee791af46fae",
   "metadata": {},
   "source": [
    "**Guessing Game**"
   ]
  },
  {
   "cell_type": "code",
   "execution_count": 4,
   "id": "b75f5261-ee91-4bfd-916b-2dac8ff6614e",
   "metadata": {},
   "outputs": [
    {
     "name": "stdin",
     "output_type": "stream",
     "text": [
      "Guess karo ek number:  23\n"
     ]
    },
    {
     "name": "stdout",
     "output_type": "stream",
     "text": [
      "Is se bada number guess karo\n"
     ]
    },
    {
     "name": "stdin",
     "output_type": "stream",
     "text": [
      "Dobara guess karo:  34\n"
     ]
    },
    {
     "name": "stdout",
     "output_type": "stream",
     "text": [
      "Is se bada number guess karo\n"
     ]
    },
    {
     "name": "stdin",
     "output_type": "stream",
     "text": [
      "Dobara guess karo:  45\n"
     ]
    },
    {
     "name": "stdout",
     "output_type": "stream",
     "text": [
      "Is se bada number guess karo\n"
     ]
    },
    {
     "name": "stdin",
     "output_type": "stream",
     "text": [
      "Dobara guess karo:  56\n"
     ]
    },
    {
     "name": "stdout",
     "output_type": "stream",
     "text": [
      "Is se chota number guess karo\n"
     ]
    },
    {
     "name": "stdin",
     "output_type": "stream",
     "text": [
      "Dobara guess karo:  52\n"
     ]
    },
    {
     "name": "stdout",
     "output_type": "stream",
     "text": [
      "Is se chota number guess karo\n"
     ]
    },
    {
     "name": "stdin",
     "output_type": "stream",
     "text": [
      "Dobara guess karo:  47\n"
     ]
    },
    {
     "name": "stdout",
     "output_type": "stream",
     "text": [
      "Sahi jawab!\n",
      "Aap na sahi guess krna ma  6 attempts la liya.\n"
     ]
    }
   ],
   "source": [
    "import random\n",
    "\n",
    "Jackpot = random.randint(1, 70)\n",
    "\n",
    "guess = int(input(\"Guess karo ek number: \"))\n",
    "\n",
    "counter = 1\n",
    "\n",
    "while guess != Jackpot:\n",
    "    if guess < Jackpot:\n",
    "        print(\"Is se bada number guess karo\")\n",
    "    else:\n",
    "        print(\"Is se chota number guess karo\")\n",
    "    \n",
    "    guess = int(input(\"Dobara guess karo: \"))\n",
    "    counter+=1\n",
    "\n",
    "print(\"Sahi jawab!\")\n",
    "print(\"Aap na sahi guess krna ma \" ,counter , \"attempts la liya.\" )\n"
   ]
  },
  {
   "cell_type": "markdown",
   "id": "fbf4b6ff-cb40-4d85-b3c0-5fe3017bc8cc",
   "metadata": {},
   "source": [
    "**For Loop In Python**"
   ]
  },
  {
   "cell_type": "code",
   "execution_count": 25,
   "id": "5e199006-05ef-4bc2-832c-18e80f380aed",
   "metadata": {},
   "outputs": [
    {
     "data": {
      "text/plain": [
       "range(1, 100)"
      ]
     },
     "execution_count": 25,
     "metadata": {},
     "output_type": "execute_result"
    }
   ],
   "source": [
    "range(start, stop, step)\n",
    "range(1,100)"
   ]
  },
  {
   "cell_type": "code",
   "execution_count": 3,
   "id": "f453628c-c186-41aa-8594-bc92973478f9",
   "metadata": {},
   "outputs": [
    {
     "data": {
      "text/plain": [
       "[1, 2, 3, 4, 5, 6, 7, 8, 9]"
      ]
     },
     "execution_count": 3,
     "metadata": {},
     "output_type": "execute_result"
    }
   ],
   "source": [
    "list(range(1,10))"
   ]
  },
  {
   "cell_type": "code",
   "execution_count": 4,
   "id": "cac3b0a0-7dc7-4c17-b909-441f0bca386a",
   "metadata": {},
   "outputs": [
    {
     "data": {
      "text/plain": [
       "[1, 3, 5, 7, 9, 11, 13, 15, 17, 19]"
      ]
     },
     "execution_count": 4,
     "metadata": {},
     "output_type": "execute_result"
    }
   ],
   "source": [
    "list(range(1,20,2))"
   ]
  },
  {
   "cell_type": "code",
   "execution_count": 7,
   "id": "af731874-94f4-49b7-a75d-5a24a1df8a9c",
   "metadata": {},
   "outputs": [
    {
     "data": {
      "text/plain": [
       "[20, 18, 16, 14, 12, 10, 8, 6, 4, 2]"
      ]
     },
     "execution_count": 7,
     "metadata": {},
     "output_type": "execute_result"
    }
   ],
   "source": [
    "list(range(20,0,-2))"
   ]
  },
  {
   "cell_type": "code",
   "execution_count": 9,
   "id": "704e6e5a-92cf-4433-b147-9a91fb5338a0",
   "metadata": {},
   "outputs": [
    {
     "data": {
      "text/plain": [
       "[1, 6, 11, 16]"
      ]
     },
     "execution_count": 9,
     "metadata": {},
     "output_type": "execute_result"
    }
   ],
   "source": [
    "list(range(1,20,5))"
   ]
  },
  {
   "cell_type": "code",
   "execution_count": 14,
   "id": "3e2b53e9-0f65-461a-aa66-89a9e4719368",
   "metadata": {},
   "outputs": [
    {
     "name": "stdout",
     "output_type": "stream",
     "text": [
      "1\n",
      "2\n",
      "3\n",
      "4\n",
      "5\n",
      "6\n",
      "7\n",
      "8\n"
     ]
    }
   ],
   "source": [
    "for i in range (1,9):\n",
    "    print(i)"
   ]
  },
  {
   "cell_type": "code",
   "execution_count": 16,
   "id": "06b02977-64c5-4405-9264-59522c2b2780",
   "metadata": {},
   "outputs": [
    {
     "name": "stdout",
     "output_type": "stream",
     "text": [
      "14\n",
      "13\n",
      "12\n",
      "11\n",
      "10\n",
      "9\n",
      "8\n",
      "7\n",
      "6\n",
      "5\n",
      "4\n",
      "3\n",
      "2\n"
     ]
    }
   ],
   "source": [
    "for i in range (14,1,-1):\n",
    "    print(i)"
   ]
  },
  {
   "cell_type": "code",
   "execution_count": 26,
   "id": "9e4e3bd4-ea2d-4b20-8386-08e5e8845151",
   "metadata": {},
   "outputs": [
    {
     "name": "stdout",
     "output_type": "stream",
     "text": [
      "1\n",
      "3\n",
      "5\n",
      "7\n",
      "9\n",
      "11\n",
      "13\n",
      "15\n",
      "17\n",
      "19\n"
     ]
    }
   ],
   "source": [
    "for i in range (1,20,2):\n",
    "    print(i)"
   ]
  },
  {
   "cell_type": "code",
   "execution_count": 28,
   "id": "9df04bd5-6419-485e-b1fc-d8ae12ed1c5c",
   "metadata": {},
   "outputs": [
    {
     "name": "stdout",
     "output_type": "stream",
     "text": [
      "k\n",
      "a\n",
      "r\n",
      "a\n",
      "c\n",
      "h\n",
      "i\n"
     ]
    }
   ],
   "source": [
    "for i in \"karachi\":\n",
    "    print(i)"
   ]
  },
  {
   "cell_type": "code",
   "execution_count": 29,
   "id": "97bdba00-24ce-45e4-9906-f1a835ade56f",
   "metadata": {},
   "outputs": [
    {
     "name": "stdout",
     "output_type": "stream",
     "text": [
      "1\n",
      "2\n",
      "3\n",
      "4\n",
      "5\n"
     ]
    }
   ],
   "source": [
    "for i in [1,2,3,4,5]:\n",
    "    print(i)"
   ]
  },
  {
   "cell_type": "markdown",
   "id": "dfbfa9ef-001c-47a3-a89b-3953b4ff9e73",
   "metadata": {},
   "source": [
    "**Nested loop**"
   ]
  },
  {
   "cell_type": "code",
   "execution_count": 35,
   "id": "4b36f464-7b2d-48c6-8ef3-805d31d6703d",
   "metadata": {},
   "outputs": [
    {
     "name": "stdin",
     "output_type": "stream",
     "text": [
      "Enter the numbr of rows 5\n"
     ]
    },
    {
     "name": "stdout",
     "output_type": "stream",
     "text": [
      "*\n",
      "**\n",
      "***\n",
      "****\n",
      "*****\n"
     ]
    }
   ],
   "source": [
    "rows = int(input(\"Enter the numbr of rows\")) \n",
    "for i in range (1, rows + 1):# outer loop  controls no of rows\n",
    "    for j in range(0,i):# inner loop  print stars in each row\n",
    "        print(\"*\", end = \"\")\n",
    "    print(\"\")"
   ]
  },
  {
   "cell_type": "code",
   "execution_count": 48,
   "id": "11dd5f19-a2e4-46ae-8bf9-d39b3136961e",
   "metadata": {},
   "outputs": [
    {
     "name": "stdin",
     "output_type": "stream",
     "text": [
      "Enter the number of rows:  5\n"
     ]
    },
    {
     "name": "stdout",
     "output_type": "stream",
     "text": [
      "*****\n",
      "****\n",
      "***\n",
      "**\n",
      "*\n"
     ]
    }
   ],
   "source": [
    "rows = int(input(\"Enter the number of rows: \"))\n",
    "for i in range(rows, 0, -1):       # Start from rows down to 1\n",
    "    for j in range(0, i):          # Print i stars in each row\n",
    "        print(\"*\", end=\"\")\n",
    "    print(\"\")                      # Move to next line after each row\n"
   ]
  },
  {
   "cell_type": "code",
   "execution_count": 49,
   "id": "e3c2691b-f2aa-45bb-b698-985b8a7385eb",
   "metadata": {},
   "outputs": [
    {
     "name": "stdout",
     "output_type": "stream",
     "text": [
      "    *\n",
      "   ***\n",
      "  *****\n",
      " *******\n",
      "*********\n"
     ]
    }
   ],
   "source": [
    "for i in range(1, 6):\n",
    "    for j in range(5 - i):\n",
    "        print(\" \", end=\"\")\n",
    "    for k in range(2 * i - 1):\n",
    "        print(\"*\", end=\"\")\n",
    "    print()"
   ]
  },
  {
   "cell_type": "code",
   "execution_count": 33,
   "id": "14b9a192-686a-444e-adbc-39ed32491fbc",
   "metadata": {},
   "outputs": [
    {
     "name": "stdout",
     "output_type": "stream",
     "text": [
      "1 1\n",
      "1 2\n",
      "1 3\n",
      "1 4\n",
      "2 1\n",
      "2 2\n",
      "2 3\n",
      "2 4\n",
      "3 1\n",
      "3 2\n",
      "3 3\n",
      "3 4\n",
      "4 1\n",
      "4 2\n",
      "4 3\n",
      "4 4\n"
     ]
    }
   ],
   "source": [
    "# Unique Pairs Example\n",
    "\n",
    "for i in range(1, 5):\n",
    "    for j in range(1, 5):\n",
    "        print(i, j)"
   ]
  },
  {
   "cell_type": "code",
   "execution_count": null,
   "id": "ac88a3d4-f20c-44f1-a366-7599856347a2",
   "metadata": {},
   "outputs": [],
   "source": []
  },
  {
   "cell_type": "code",
   "execution_count": null,
   "id": "4625b6a3-3a24-4eed-a5d4-cb2a6c254980",
   "metadata": {},
   "outputs": [],
   "source": []
  }
 ],
 "metadata": {
  "kernelspec": {
   "display_name": "Python 3 (ipykernel)",
   "language": "python",
   "name": "python3"
  },
  "language_info": {
   "codemirror_mode": {
    "name": "ipython",
    "version": 3
   },
   "file_extension": ".py",
   "mimetype": "text/x-python",
   "name": "python",
   "nbconvert_exporter": "python",
   "pygments_lexer": "ipython3",
   "version": "3.10.9"
  }
 },
 "nbformat": 4,
 "nbformat_minor": 5
}
