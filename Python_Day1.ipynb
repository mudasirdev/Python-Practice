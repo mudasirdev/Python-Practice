{
 "cells": [
  {
   "cell_type": "code",
   "execution_count": 43,
   "id": "437600f0-beb1-4bcc-85e2-d5f91b597b15",
   "metadata": {},
   "outputs": [
    {
     "name": "stdout",
     "output_type": "stream",
     "text": [
      "Hello, Mudasir!\n"
     ]
    }
   ],
   "source": [
    "print(\"Hello, Mudasir!\")\n"
   ]
  },
  {
   "cell_type": "code",
   "execution_count": 1,
   "id": "44c7c0c7-fd7a-487a-b7ee-c8fba56ffd69",
   "metadata": {},
   "outputs": [
    {
     "name": "stdout",
     "output_type": "stream",
     "text": [
      "\n"
     ]
    }
   ],
   "source": [
    "print()"
   ]
  },
  {
   "cell_type": "code",
   "execution_count": 11,
   "id": "8795a175-b275-4068-a243-638c6ef2c0f4",
   "metadata": {},
   "outputs": [
    {
     "name": "stdout",
     "output_type": "stream",
     "text": [
      "['False', 'None', 'True', 'and', 'as', 'assert', 'async', 'await', 'break', 'class', 'continue', 'def', 'del', 'elif', 'else', 'except', 'finally', 'for', 'from', 'global', 'if', 'import', 'in', 'is', 'lambda', 'nonlocal', 'not', 'or', 'pass', 'raise', 'return', 'try', 'while', 'with', 'yield']\n"
     ]
    }
   ],
   "source": [
    "import keyword \n",
    "print(keyword.kwlist)"
   ]
  },
  {
   "cell_type": "code",
   "execution_count": 13,
   "id": "a60e0fbf-310a-4986-adc6-f75ac81308d9",
   "metadata": {},
   "outputs": [
    {
     "name": "stdin",
     "output_type": "stream",
     "text": [
      "apna name btaoo Burki saib\n"
     ]
    },
    {
     "data": {
      "text/plain": [
       "'Burki saib'"
      ]
     },
     "execution_count": 13,
     "metadata": {},
     "output_type": "execute_result"
    }
   ],
   "source": [
    "input(\"apna name btaoo\")"
   ]
  },
  {
   "cell_type": "code",
   "execution_count": 18,
   "id": "e847e6a8-3982-4145-8c5e-d864db05c2c6",
   "metadata": {},
   "outputs": [
    {
     "name": "stdin",
     "output_type": "stream",
     "text": [
      "enter 1st name mudasir\n",
      "enter 2nd name burki\n"
     ]
    }
   ],
   "source": [
    "num1=input(\"enter 1st name\")\n",
    "num2=input(\"enter 2nd name\")"
   ]
  },
  {
   "cell_type": "code",
   "execution_count": 19,
   "id": "b983b8e8-6bdd-4b78-ba5b-505417e8fa85",
   "metadata": {},
   "outputs": [
    {
     "name": "stdout",
     "output_type": "stream",
     "text": [
      "mudasirburki\n"
     ]
    }
   ],
   "source": [
    "num3 = num1 +num2\n",
    "print(num3)"
   ]
  },
  {
   "cell_type": "code",
   "execution_count": 1,
   "id": "dee7efa2-df83-4d14-9624-1024915ad358",
   "metadata": {},
   "outputs": [
    {
     "data": {
      "text/plain": [
       "str"
      ]
     },
     "execution_count": 1,
     "metadata": {},
     "output_type": "execute_result"
    }
   ],
   "source": [
    "type('4')"
   ]
  },
  {
   "cell_type": "markdown",
   "id": "95708cba-4c91-4fc9-9e3c-467c5e82b5e6",
   "metadata": {},
   "source": [
    "num3 = \"alimbyurki\"\n",
    "type(num3)"
   ]
  },
  {
   "cell_type": "markdown",
   "id": "b9c53449-37dd-41ee-849c-c28c2230ee09",
   "metadata": {},
   "source": [
    "**Type Conversion**"
   ]
  },
  {
   "cell_type": "code",
   "execution_count": 7,
   "id": "cd23a851-f116-4f7a-916f-1b75913c132e",
   "metadata": {},
   "outputs": [
    {
     "name": "stdout",
     "output_type": "stream",
     "text": [
      "5\n"
     ]
    }
   ],
   "source": [
    "x = \"5\"      \n",
    "y = int(x)\n",
    "print(y)"
   ]
  },
  {
   "cell_type": "code",
   "execution_count": 8,
   "id": "e3b2afd4-6d60-4622-a6a2-55f9881edda3",
   "metadata": {},
   "outputs": [
    {
     "data": {
      "text/plain": [
       "['H', 'e', 'l', 'o', 'o']"
      ]
     },
     "execution_count": 8,
     "metadata": {},
     "output_type": "execute_result"
    }
   ],
   "source": [
    "list('Heloo')"
   ]
  },
  {
   "cell_type": "code",
   "execution_count": 9,
   "id": "09872eac-5803-47a2-8cc6-9c37c4d1b592",
   "metadata": {},
   "outputs": [
    {
     "data": {
      "text/plain": [
       "('H', 'e', 'l', 'o', 'o')"
      ]
     },
     "execution_count": 9,
     "metadata": {},
     "output_type": "execute_result"
    }
   ],
   "source": [
    "tuple('Heloo')"
   ]
  },
  {
   "cell_type": "code",
   "execution_count": 11,
   "id": "17cd2bea-29b6-47e2-a53b-6391be385fd8",
   "metadata": {},
   "outputs": [
    {
     "data": {
      "text/plain": [
       "6"
      ]
     },
     "execution_count": 11,
     "metadata": {},
     "output_type": "execute_result"
    }
   ],
   "source": [
    "int('6')"
   ]
  },
  {
   "cell_type": "code",
   "execution_count": 12,
   "id": "cc0f338d-76b9-497d-bace-b2a87c272376",
   "metadata": {},
   "outputs": [
    {
     "data": {
      "text/plain": [
       "4.0"
      ]
     },
     "execution_count": 12,
     "metadata": {},
     "output_type": "execute_result"
    }
   ],
   "source": [
    "float('4')"
   ]
  },
  {
   "cell_type": "code",
   "execution_count": 13,
   "id": "dceaa634-6c77-4983-aa7b-5cde85a349c7",
   "metadata": {},
   "outputs": [
    {
     "data": {
      "text/plain": [
       "True"
      ]
     },
     "execution_count": 13,
     "metadata": {},
     "output_type": "execute_result"
    }
   ],
   "source": [
    "bool('3')"
   ]
  },
  {
   "cell_type": "code",
   "execution_count": 14,
   "id": "ce67e4e3-3bbc-489e-9a8c-17870f67e6bc",
   "metadata": {},
   "outputs": [
    {
     "name": "stdin",
     "output_type": "stream",
     "text": [
      "enter 1st num 32\n",
      "enter 2nd num 32\n"
     ]
    },
    {
     "name": "stdout",
     "output_type": "stream",
     "text": [
      "3232\n"
     ]
    }
   ],
   "source": [
    "num1=input(\"enter 1st num\")\n",
    "num2=input(\"enter 2nd num\")\n",
    "num3 = num1 +num2\n",
    "print(num3)"
   ]
  },
  {
   "cell_type": "code",
   "execution_count": 15,
   "id": "24b083f3-e97f-4fed-9eae-dfe33de833cc",
   "metadata": {},
   "outputs": [
    {
     "name": "stdin",
     "output_type": "stream",
     "text": [
      "enter 1st num 32\n",
      "enter 2nd num 32\n"
     ]
    },
    {
     "name": "stdout",
     "output_type": "stream",
     "text": [
      "3232\n"
     ]
    }
   ],
   "source": [
    "num1=input(\"enter 1st num\")\n",
    "num2=input(\"enter 2nd num\")\n",
    "num3 =int( num1 +num2 )\n",
    "print(num3)"
   ]
  },
  {
   "cell_type": "code",
   "execution_count": 16,
   "id": "13e72afe-0a44-482e-9da9-27c3f4bb589a",
   "metadata": {},
   "outputs": [
    {
     "name": "stdin",
     "output_type": "stream",
     "text": [
      "enter 1st num 32\n",
      "enter 2nd num 32\n"
     ]
    },
    {
     "name": "stdout",
     "output_type": "stream",
     "text": [
      "64\n"
     ]
    }
   ],
   "source": [
    "num1=input(\"enter 1st num\")\n",
    "num2=input(\"enter 2nd num\")\n",
    "num3 = int(num1) + int(num2)\n",
    "print(num3)"
   ]
  },
  {
   "cell_type": "code",
   "execution_count": 17,
   "id": "5d14f47f-4dfd-4259-92b7-20c3b25bc0ff",
   "metadata": {},
   "outputs": [
    {
     "name": "stdin",
     "output_type": "stream",
     "text": [
      "enter 1st num 32\n",
      "enter 2nd num 32\n"
     ]
    },
    {
     "name": "stdout",
     "output_type": "stream",
     "text": [
      "64\n"
     ]
    }
   ],
   "source": [
    "num1=int(input(\"enter 1st num\"))\n",
    "num2=int(input(\"enter 2nd num\"))\n",
    "num3 = num1+num2\n",
    "print(num3)"
   ]
  },
  {
   "cell_type": "markdown",
   "id": "6a39df7a-880d-44d9-894c-9e1706385d7a",
   "metadata": {},
   "source": [
    "**Numeric literals**\n"
   ]
  },
  {
   "cell_type": "code",
   "execution_count": 20,
   "id": "289a7bfb-ba80-43b0-a338-65404f9021a2",
   "metadata": {},
   "outputs": [
    {
     "name": "stdout",
     "output_type": "stream",
     "text": [
      "10 100 200 300\n",
      "10.5 150.0 0.0015\n"
     ]
    }
   ],
   "source": [
    "# Integer Literals\n",
    "a = 0b1010  # Binary\n",
    "b = 100     # Decimal\n",
    "c = 0o310   # Octal\n",
    "d = 0x12c   # Hex\n",
    "\n",
    "# Float Literals\n",
    "f1 = 10.5\n",
    "f2 = 1.5e2\n",
    "f3 = 1.5e-3\n",
    "\n",
    "# Complex Literal\n",
    "x = 3.14j\n",
    "\n",
    "print(a, b, c, d)\n",
    "print(f1, f2, f3)"
   ]
  },
  {
   "cell_type": "markdown",
   "id": "e1458c00-b15f-4511-9e28-86e791ca3532",
   "metadata": {},
   "source": [
    " **String literals**"
   ]
  },
  {
   "cell_type": "code",
   "execution_count": 21,
   "id": "eea97d9e-ed7b-4855-8ab4-ee674ec34efb",
   "metadata": {},
   "outputs": [
    {
     "name": "stdout",
     "output_type": "stream",
     "text": [
      "This is Python\n",
      "This is Python\n",
      "C\n",
      "This is a multiline string with more than one line code.\n",
      "😀😆🤣\n",
      "raw \\n string\n"
     ]
    }
   ],
   "source": [
    "string = 'This is Python'\n",
    "strings = \"This is Python\"\n",
    "char = \"C\"\n",
    "multiline_str = \"\"\"This is a multiline string with more than one line code.\"\"\"\n",
    "unicode = u\"\\U0001f600\\U0001F606\\U0001F923\"\n",
    "raw_str = r\"raw \\n string\"\n",
    "\n",
    "print(string)\n",
    "print(strings)\n",
    "print(char)\n",
    "print(multiline_str)\n",
    "print(unicode)\n",
    "print(raw_str)"
   ]
  },
  {
   "cell_type": "code",
   "execution_count": 22,
   "id": "b6193ccf-ce59-4ffd-a713-c7bf5d1b0e49",
   "metadata": {},
   "outputs": [
    {
     "name": "stdout",
     "output_type": "stream",
     "text": [
      "a: 5\n",
      "b: 10\n"
     ]
    }
   ],
   "source": [
    "a = True + 4   # True == 1\n",
    "b = False + 10 # False == 0\n",
    "\n",
    "print(\"a:\", a)\n",
    "print(\"b:\", b)"
   ]
  },
  {
   "cell_type": "markdown",
   "id": "92b673aa-a153-45ff-aa44-de03dca8c32a",
   "metadata": {},
   "source": [
    "**Special literals**"
   ]
  },
  {
   "cell_type": "code",
   "execution_count": 23,
   "id": "8127038d-a8cf-41c3-a944-7909145ec206",
   "metadata": {},
   "outputs": [
    {
     "name": "stdout",
     "output_type": "stream",
     "text": [
      "None\n"
     ]
    }
   ],
   "source": [
    "a = None\n",
    "print(a)"
   ]
  },
  {
   "cell_type": "code",
   "execution_count": 24,
   "id": "b8f76346-210a-43f0-88fe-52de9312d764",
   "metadata": {},
   "outputs": [],
   "source": [
    "# Variable Declaration\n",
    "k = None"
   ]
  },
  {
   "cell_type": "markdown",
   "id": "67fd0852-0266-40b1-bb11-0ad87e6a5959",
   "metadata": {},
   "source": [
    "**Conditional statement**\n"
   ]
  },
  {
   "cell_type": "markdown",
   "id": "7a99282f-e54a-418f-ad1e-c4c7bfbb7823",
   "metadata": {},
   "source": [
    "email= input(\"enter your email \")\n",
    "if '@' in email:\n",
    "    pass\n",
    "else:\n",
    "    email= input(\"enter your email correctly\")\n",
    "password = input(\"Enter your password\")\n",
    "if email == \"mudasirburki800@gmail.com\" and password == \"1234\":\n",
    "   print(\"Welcome bro\")\n",
    "elif email == \"mudasirburki800@gmail.com\" and password != \"1234\":\n",
    "   print(\"email tk ha bhaiya lkn password pir sa try kara\")\n",
    "   password = input(\"Enter your password\")\n",
    "   if password == \"1234\":\n",
    "        print(\"Good hogiya g.\")\n",
    "   else:\n",
    "        print(\"password pir sa try karr\")\n",
    "else:\n",
    "   print(\"email aur password 2no ghalat ha , bhai pir sa try karr\")\n"
   ]
  },
  {
   "cell_type": "markdown",
   "id": "2a9994dd-b6b1-474f-9ddc-12cedaa1a9bd",
   "metadata": {},
   "source": [
    "**Menu-Driven Calculator**"
   ]
  },
  {
   "cell_type": "code",
   "execution_count": 35,
   "id": "f3a3ff32-4523-498c-ad68-68e1b2160bbe",
   "metadata": {},
   "outputs": [
    {
     "name": "stdin",
     "output_type": "stream",
     "text": [
      "\n",
      "Hi! how can I help you.\n",
      "1. Enter 1 for pin change\n",
      "2. Enter 2 for balance check\n",
      "3. Enter 3 for withdrawl\n",
      "4. Enter 4 for exit\n",
      " 2\n"
     ]
    },
    {
     "name": "stdout",
     "output_type": "stream",
     "text": [
      "balance\n"
     ]
    }
   ],
   "source": [
    "menu = input(\"\"\"\n",
    "Hi! how can I help you.\n",
    "1. Enter 1 for pin change\n",
    "2. Enter 2 for balance check\n",
    "3. Enter 3 for withdrawl\n",
    "4. Enter 4 for exit\n",
    "\"\"\")\n",
    "\n",
    "if menu == '1':\n",
    "  print('pin change')\n",
    "elif menu == '2':\n",
    "  print('balance')\n",
    "else:\n",
    "  print('exit')"
   ]
  },
  {
   "cell_type": "markdown",
   "id": "9567d977-f589-4480-b189-ce0c7ea4a8fd",
   "metadata": {},
   "source": [
    "**While loop**\n"
   ]
  },
  {
   "cell_type": "code",
   "execution_count": 33,
   "id": "94436817-7bc9-4f85-a9e5-b503da113769",
   "metadata": {},
   "outputs": [
    {
     "name": "stdin",
     "output_type": "stream",
     "text": [
      "Enter the number 3\n"
     ]
    },
    {
     "name": "stdout",
     "output_type": "stream",
     "text": [
      "3 * 1 = 3\n",
      "3 * 2 = 6\n",
      "3 * 3 = 9\n",
      "3 * 4 = 12\n",
      "3 * 5 = 15\n",
      "3 * 6 = 18\n",
      "3 * 7 = 21\n",
      "3 * 8 = 24\n",
      "3 * 9 = 27\n",
      "3 * 10 = 30\n"
     ]
    }
   ],
   "source": [
    "number = int(input(\"Enter the number\"))\n",
    "i = 1\n",
    "while i <= 10:\n",
    "    print (number,  '*' ,  i  ,  '=' ,   number * i)\n",
    "    i+=1"
   ]
  }
 ],
 "metadata": {
  "kernelspec": {
   "display_name": "Python 3 (ipykernel)",
   "language": "python",
   "name": "python3"
  },
  "language_info": {
   "codemirror_mode": {
    "name": "ipython",
    "version": 3
   },
   "file_extension": ".py",
   "mimetype": "text/x-python",
   "name": "python",
   "nbconvert_exporter": "python",
   "pygments_lexer": "ipython3",
   "version": "3.10.9"
  }
 },
 "nbformat": 4,
 "nbformat_minor": 5
}
