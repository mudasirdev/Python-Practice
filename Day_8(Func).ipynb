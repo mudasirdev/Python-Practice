{
 "cells": [
  {
   "cell_type": "markdown",
   "id": "86a6f5e0-de05-421d-9051-ed49790f2fd1",
   "metadata": {},
   "source": [
    "**Functions in Python**"
   ]
  },
  {
   "cell_type": "code",
   "execution_count": 12,
   "id": "b6c9db0b-ecfc-47ce-8104-15f860286a2d",
   "metadata": {},
   "outputs": [
    {
     "name": "stdout",
     "output_type": "stream",
     "text": [
      "Odd\n"
     ]
    }
   ],
   "source": [
    "def is_even(number):\n",
    "    \"\"\"\n",
    "    This function tells if a given number is odd or even\n",
    "    Input - any valid integer\n",
    "    Output - odd/even\n",
    "    Created By - Burki saib\n",
    "    \"\"\" \n",
    "    if number % 2 == 0:\n",
    "        return \"Even\"\n",
    "    else:\n",
    "        return \"Odd\"\n",
    "        \n",
    "print(is_even(3)) \n"
   ]
  },
  {
   "cell_type": "code",
   "execution_count": 20,
   "id": "951729bc-9346-4365-a7b8-9af757220c80",
   "metadata": {},
   "outputs": [
    {
     "name": "stdin",
     "output_type": "stream",
     "text": [
      "Enter the no:  4\n"
     ]
    },
    {
     "ename": "TypeError",
     "evalue": "is_even() takes 0 positional arguments but 1 was given",
     "output_type": "error",
     "traceback": [
      "\u001b[1;31m---------------------------------------------------------------------------\u001b[0m",
      "\u001b[1;31mTypeError\u001b[0m                                 Traceback (most recent call last)",
      "Cell \u001b[1;32mIn[20], line 14\u001b[0m\n\u001b[0;32m     11\u001b[0m     \u001b[38;5;28;01melse\u001b[39;00m:\n\u001b[0;32m     12\u001b[0m         \u001b[38;5;28;01mreturn\u001b[39;00m \u001b[38;5;124m\"\u001b[39m\u001b[38;5;124mOdd\u001b[39m\u001b[38;5;124m\"\u001b[39m\n\u001b[1;32m---> 14\u001b[0m \u001b[38;5;28mprint\u001b[39m(is_even(\u001b[38;5;28mint\u001b[39m(\u001b[38;5;28minput\u001b[39m(\u001b[38;5;124m\"\u001b[39m\u001b[38;5;124mEnter the no: \u001b[39m\u001b[38;5;124m\"\u001b[39m))))\n",
      "\u001b[1;31mTypeError\u001b[0m: is_even() takes 0 positional arguments but 1 was given"
     ]
    }
   ],
   "source": [
    "def is_even():\n",
    "    \"\"\"\n",
    "    This function tells if a given number is odd or even\n",
    "    Input - any valid integer\n",
    "    Output - odd/even\n",
    "    Created By - Burki guluna\n",
    "    \"\"\" \n",
    "    if number % 2 == 0:\n",
    "        return \"Even\"\n",
    "    else:\n",
    "        return \"Odd\"\n",
    "\n",
    "print(is_even(int(input(\"Enter the no: \"))))\n"
   ]
  },
  {
   "cell_type": "code",
   "execution_count": 22,
   "id": "9ab0fc84-614e-4039-8cf7-b649c6e1c652",
   "metadata": {},
   "outputs": [
    {
     "name": "stdin",
     "output_type": "stream",
     "text": [
      "Enter the no:  4\n"
     ]
    },
    {
     "name": "stdout",
     "output_type": "stream",
     "text": [
      "Even\n"
     ]
    }
   ],
   "source": [
    "def is_even():\n",
    "    number = int(input(\"Enter the no: \"))\n",
    "    if number % 2 == 0:\n",
    "        return \"Even\"\n",
    "    else:\n",
    "        return \"Odd\"\n",
    "\n",
    "print(is_even())\n",
    "#Taking input inside function"
   ]
  },
  {
   "cell_type": "code",
   "execution_count": 30,
   "id": "9afb2b24-8bec-4ea2-9e62-e74d04f9e34b",
   "metadata": {},
   "outputs": [
    {
     "name": "stdout",
     "output_type": "stream",
     "text": [
      "\n",
      "    This function tells if a given number is odd or even\n",
      "    Input - any valid integer\n",
      "    Output - \"Even\" or \"Odd\"\n",
      "    Created By - Burki guluna\n",
      "    \n"
     ]
    }
   ],
   "source": [
    "print(is_even.__doc__)"
   ]
  },
  {
   "cell_type": "code",
   "execution_count": 32,
   "id": "7b30b5af-c917-4a31-821f-9c07f4e1af37",
   "metadata": {},
   "outputs": [
    {
     "data": {
      "text/plain": [
       "'Prints the values to a stream, or to sys.stdout by default.\\n\\n  sep\\n    string inserted between values, default a space.\\n  end\\n    string appended after the last value, default a newline.\\n  file\\n    a file-like object (stream); defaults to the current sys.stdout.\\n  flush\\n    whether to forcibly flush the stream.'"
      ]
     },
     "execution_count": 32,
     "metadata": {},
     "output_type": "execute_result"
    }
   ],
   "source": [
    "print.__doc__"
   ]
  },
  {
   "cell_type": "code",
   "execution_count": 34,
   "id": "dcaa5ac4-cd8d-4368-87a8-3e509eeca060",
   "metadata": {},
   "outputs": [
    {
     "data": {
      "text/plain": [
       "\"type(object) -> the object's type\\ntype(name, bases, dict, **kwds) -> a new type\""
      ]
     },
     "execution_count": 34,
     "metadata": {},
     "output_type": "execute_result"
    }
   ],
   "source": [
    "type.__doc__\n"
   ]
  },
  {
   "cell_type": "code",
   "execution_count": null,
   "id": "25cfcb00-0e5f-4fc3-bfca-c9cd0c68621b",
   "metadata": {},
   "outputs": [],
   "source": [
    "def is_even():\n",
    "    if number % 2 == 0:\n",
    "        print (\"Even\")\n",
    "    else:\n",
    "        print (\"Odd\")\n",
    "\n",
    "x"
   ]
  },
  {
   "cell_type": "markdown",
   "id": "7043e933-b961-40a8-a147-b56e3afaaf60",
   "metadata": {},
   "source": [
    "**Parameters Vs Arguments**"
   ]
  },
  {
   "cell_type": "code",
   "execution_count": 45,
   "id": "859f45f5-9051-4956-9e66-5f645b7afaee",
   "metadata": {},
   "outputs": [
    {
     "data": {
      "text/plain": [
       "27"
      ]
     },
     "execution_count": 45,
     "metadata": {},
     "output_type": "execute_result"
    }
   ],
   "source": [
    "def power(a, b):\n",
    "    return a**b\n",
    "power(3,3)"
   ]
  },
  {
   "cell_type": "code",
   "execution_count": 55,
   "id": "d1d552cb-2969-4ecd-8ef2-1fb01a617169",
   "metadata": {},
   "outputs": [
    {
     "data": {
      "text/plain": [
       "1"
      ]
     },
     "execution_count": 55,
     "metadata": {},
     "output_type": "execute_result"
    }
   ],
   "source": [
    "def power(a=1,b=1):\n",
    "    return a**b\n",
    "power()"
   ]
  },
  {
   "cell_type": "code",
   "execution_count": 57,
   "id": "cb190c5c-d203-42b2-8350-c771b9140d11",
   "metadata": {},
   "outputs": [
    {
     "data": {
      "text/plain": [
       "16"
      ]
     },
     "execution_count": 57,
     "metadata": {},
     "output_type": "execute_result"
    }
   ],
   "source": [
    "def power(a=1,b=2):\n",
    "    return a**b\n",
    "power(a=4)"
   ]
  },
  {
   "cell_type": "code",
   "execution_count": 5,
   "id": "bf51efeb-58a1-46c5-ad55-96bc7a1ee497",
   "metadata": {},
   "outputs": [],
   "source": [
    "# Default Argument: Function arguments with default values.\n",
    "def power(a=1, b=1):\n",
    "    return a**b"
   ]
  },
  {
   "cell_type": "code",
   "execution_count": 9,
   "id": "a89c6966-f0c0-4e67-b66c-0ad12bf62681",
   "metadata": {},
   "outputs": [
    {
     "data": {
      "text/plain": [
       "8"
      ]
     },
     "execution_count": 9,
     "metadata": {},
     "output_type": "execute_result"
    }
   ],
   "source": [
    "# Positional Arguments: Values assigned by call order.\n",
    "power(2, 3)\n",
    "# Keyword Argument: Values assigned to args by name at call time.\n",
    "\n",
    "# NOTE: *Keyword args* will Overrides *Positional args*.\n",
    "\n",
    "# Priority ---> Keyword args > Positional args.\n",
    "\n",
    "power(b=2, a=3)"
   ]
  },
  {
   "cell_type": "code",
   "execution_count": null,
   "id": "2313642e-8d92-4716-879e-3099e3b5294e",
   "metadata": {},
   "outputs": [],
   "source": [
    "# Arbitrary Argument: Accepts any number of args.\n",
    "# Useful when the number of arguments is unknown.\n",
    "def flexi(*number) #Accepts any number of arguments as a tuple\n",
    "    product = 1 #Initialization for multiplication\n",
    "    for i in number: # Loops through each number\n",
    "        product *= i  # Multiplies all numbers\n",
    "    print(product)\n",
    "flexi(1)"
   ]
  },
  {
   "cell_type": "code",
   "execution_count": 11,
   "id": "5df28367-56eb-45c1-9f67-6f240937493e",
   "metadata": {},
   "outputs": [
    {
     "name": "stdout",
     "output_type": "stream",
     "text": [
      "inside func_a: \n",
      "None\n",
      "inside func_b: \n",
      "7\n",
      "inside func_c: \n",
      "inside func_a: \n",
      "None\n"
     ]
    }
   ],
   "source": [
    "# Functions as Arguments\n",
    "def func_a():\n",
    "    print(\"inside func_a: \")\n",
    "    # No return value ---> `None`\n",
    "def func_b(y):\n",
    "    print(\"inside func_b: \")\n",
    "    return y\n",
    "def func_c(z):\n",
    "    print(\"inside func_c: \")\n",
    "    return z()\n",
    "print(func_a())\n",
    "print(5 + func_b(2))\n",
    "print(func_c(func_a))"
   ]
  },
  {
   "cell_type": "markdown",
   "id": "dac26619-d1f9-470a-af96-630d6071f137",
   "metadata": {},
   "source": [
    "***args (Positional Arguments) vs kwargs (Keyword Arguments)**"
   ]
  },
  {
   "cell_type": "code",
   "execution_count": 14,
   "id": "c7f9683e-8f9d-483b-88f1-77ab92ae061a",
   "metadata": {},
   "outputs": [
    {
     "name": "stdout",
     "output_type": "stream",
     "text": [
      "6\n",
      "50\n"
     ]
    }
   ],
   "source": [
    "def add_numbers(*args):\n",
    "    total = 0\n",
    "    for num in args:\n",
    "        total += num\n",
    "    return total\n",
    "\n",
    "print(add_numbers(1, 2, 3))  # args = (1, 2, 3) → it's a tuple    \n",
    "print(add_numbers(5, 10, 15, 20)) "
   ]
  },
  {
   "cell_type": "code",
   "execution_count": 16,
   "id": "1cb686d9-9e92-4cc5-a5c1-6da0fc42fd88",
   "metadata": {},
   "outputs": [
    {
     "name": "stdout",
     "output_type": "stream",
     "text": [
      "name = Ali\n",
      "age = 25\n",
      "city = D.I. Khan\n"
     ]
    }
   ],
   "source": [
    "def print_info(**kwargs):\n",
    "    for key, value in kwargs.items():\n",
    "        print(f\"{key} = {value}\")\n",
    "\n",
    "print_info(name=\"Ali\", age=25, city=\"D.I. Khan\")  # kwargs = {'name': 'Ali', 'age': 25, 'city': 'D.I. Khan'} → it's a dictionary\n"
   ]
  },
  {
   "cell_type": "code",
   "execution_count": 18,
   "id": "02226f27-6410-4067-b6fa-e47ced176142",
   "metadata": {},
   "outputs": [
    {
     "name": "stdout",
     "output_type": "stream",
     "text": [
      "2\n",
      "5\n"
     ]
    }
   ],
   "source": [
    "# Variable scope & function behavior\n",
    "\n",
    "def f(y):\n",
    "    x = 1    # Local x\n",
    "    x += 1\n",
    "    print(x)\n",
    "\n",
    "x = 5        # Global x\n",
    "f(x)         # Calls f()\n",
    "print(x)     # \tA local variable with the same name as a global one hides the global inside that function\n",
    " \n",
    "# Functions have local scope. Global vars coexist but are not affected."
   ]
  },
  {
   "cell_type": "code",
   "execution_count": 20,
   "id": "92b77e78-14da-402f-b25d-40c9dc3c4d86",
   "metadata": {},
   "outputs": [
    {
     "name": "stdout",
     "output_type": "stream",
     "text": [
      "5\n",
      "6\n",
      "5\n"
     ]
    }
   ],
   "source": [
    "def g(y):\n",
    "    print(x)     # x (global) used in g()\n",
    "    print(x + 1) # x (global) remains 5; new int (6) created, x unchanged\n",
    "\n",
    "x = 5\n",
    "g(x)\n",
    "print(x)       # x = 5 remains unchanged"
   ]
  },
  {
   "cell_type": "code",
   "execution_count": null,
   "id": "e030b7e4-07fe-4a79-92fb-8b0f2c3bca83",
   "metadata": {},
   "outputs": [],
   "source": [
    "def h(y):\n",
    "    x += 1  # Error: needs \"global x\" to modify x\n",
    "x = 5\n",
    "h(x)\n",
    "print(x)\n",
    "\n",
    "# Rule: Global vars: accessed but not modified in functions.\n",
    "# Concept 1: Globals exist outside funcs, accessed by any func.\n",
    "# Concept 2: Funcs without local vars can use globals.\n",
    "# Concept 3: Locals access globals but can't modify."
   ]
  }
 ],
 "metadata": {
  "kernelspec": {
   "display_name": "Python 3 (ipykernel)",
   "language": "python",
   "name": "python3"
  },
  "language_info": {
   "codemirror_mode": {
    "name": "ipython",
    "version": 3
   },
   "file_extension": ".py",
   "mimetype": "text/x-python",
   "name": "python",
   "nbconvert_exporter": "python",
   "pygments_lexer": "ipython3",
   "version": "3.12.4"
  }
 },
 "nbformat": 4,
 "nbformat_minor": 5
}
