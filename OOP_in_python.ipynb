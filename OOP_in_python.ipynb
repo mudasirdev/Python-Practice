{
 "cells": [
  {
   "cell_type": "code",
   "execution_count": 3,
   "id": "a630b081-b796-4fff-9b78-7d954b790422",
   "metadata": {},
   "outputs": [
    {
     "name": "stdout",
     "output_type": "stream",
     "text": [
      "Master Saib\n"
     ]
    }
   ],
   "source": [
    "class Student:\n",
    "    name=\"Master Saib\"\n",
    "\n",
    "s1  =  Student()\n",
    "print(s1.name)"
   ]
  },
  {
   "cell_type": "code",
   "execution_count": 5,
   "id": "e4b527fc-4315-4d33-8dbb-c8b0b761ca26",
   "metadata": {},
   "outputs": [
    {
     "name": "stdout",
     "output_type": "stream",
     "text": [
      "blue\n",
      "Toyota\n"
     ]
    }
   ],
   "source": [
    "class Car:\n",
    "    color= \"blue\"\n",
    "    brand= \"Toyota\"\n",
    "\n",
    "c1= Car()\n",
    "print(c1.color)\n",
    "print(c1.brand)"
   ]
  },
  {
   "cell_type": "code",
   "execution_count": 21,
   "id": "cd9fbdc2-dfc7-4dc5-b3fb-3526a320a458",
   "metadata": {},
   "outputs": [
    {
     "name": "stdout",
     "output_type": "stream",
     "text": [
      "Burki saib KPK\n",
      "Master saib kpk\n"
     ]
    }
   ],
   "source": [
    "class Student:\n",
    "    def __init__(self,fullname,address):\n",
    "        self.name=fullname #full name show krta ha parameter wala full name ko aur self.name show krta ha object vala ko jo naya create howa ha\n",
    "        self.address=address\n",
    "\n",
    "s1  =  Student(\"Burki saib\",\"KPK\")\n",
    "print(s1.name,s1.address)\n",
    "s2  =  Student(\"Master saib\",\"kpk\")\n",
    "print(s2.name,s2.address)"
   ]
  },
  {
   "cell_type": "code",
   "execution_count": 27,
   "id": "9b29803a-1a67-4bfa-beb7-a384c48e7759",
   "metadata": {},
   "outputs": [
    {
     "name": "stdout",
     "output_type": "stream",
     "text": [
      "Burki saib has got 74\n",
      "Master saib also got 80\n"
     ]
    }
   ],
   "source": [
    "class Student:\n",
    "    def __init__(self,name,marks):\n",
    "        self.name = name \n",
    "        self.marks = marks\n",
    "\n",
    "s1  =  Student(\"Burki saib\",74)\n",
    "print(s1.name,\"has got\",s1.marks)\n",
    "s2  =  Student(\"Master saib also got\",80)\n",
    "print(s2.name,s2.marks)"
   ]
  },
  {
   "cell_type": "code",
   "execution_count": 32,
   "id": "3480fc47-b82e-4e04-a3db-9cb9d39a7fbf",
   "metadata": {},
   "outputs": [
    {
     "name": "stdout",
     "output_type": "stream",
     "text": [
      "Burki saib KPK\n",
      "Master saib kpk\n"
     ]
    }
   ],
   "source": [
    "class Student:\n",
    "     def __init__(self):   # Default Constructor\n",
    "         pass\n",
    "     def __init__(self,name,address): # Parameterized condtructor\n",
    "        self.name=name \n",
    "        self.address=address\n",
    "\n",
    "s1  =  Student(\"Burki saib\",\"KPK\")\n",
    "print(s1.name,s1.address)\n",
    "s2  =  Student(\"Master saib\",\"kpk\")\n",
    "print(s2.name,s2.address)"
   ]
  },
  {
   "cell_type": "code",
   "execution_count": 40,
   "id": "9ea9ab21-3e51-404a-a740-df9036d33de0",
   "metadata": {},
   "outputs": [
    {
     "name": "stdout",
     "output_type": "stream",
     "text": [
      "Burki saib KPK\n",
      "Master saib kpk\n",
      "GC NO 1\n"
     ]
    }
   ],
   "source": [
    "class Student:\n",
    "     college_name = \"GC NO 1\" # ye class atrribute ha aur ya ek hi baar store hoga.. \n",
    "     def __init__(self):   # Default Constructor\n",
    "         pass\n",
    "     def __init__(self,name,address): # Parameterized constructor\n",
    "        self.name=name # ya object attribute ha aur har object k liya alag alag store hoga , more space occupy kara gha..\n",
    "        self.address=address\n",
    "\n",
    "s1  =  Student(\"Burki saib\",\"KPK\")\n",
    "print(s1.name,s1.address)\n",
    "s2  =  Student(\"Master saib\",\"kpk\")\n",
    "print(s2.name,s2.address)\n",
    "\n",
    "print(s1.college_name)"
   ]
  },
  {
   "cell_type": "code",
   "execution_count": 44,
   "id": "11396c97-4c84-422f-9d63-f87bb6ff98f9",
   "metadata": {},
   "outputs": [
    {
     "name": "stdout",
     "output_type": "stream",
     "text": [
      "Burki saib KPK\n",
      "Master saib kpk\n",
      "Draban\n"
     ]
    }
   ],
   "source": [
    "class Student:\n",
    "     college_name = \"GC NO 1\" # ye class atrribute ha aur ya ek hi baar store hoga.. \n",
    "     address = \"Draban\"\n",
    "     def __init__(self):   # Default Constructor\n",
    "         pass\n",
    "     def __init__(self,name,address): # Parameterized constructor\n",
    "        self.name=name # ya object attribute ha aur har object k liya alag alag store hoga , more space occupy kara gha..\n",
    "        self.address=address\n",
    "\n",
    "s1  =  Student(\"Burki saib\",\"KPK\")\n",
    "print(s1.name,s1.address)\n",
    "s2  =  Student(\"Master saib\",\"kpk\")\n",
    "print(s2.name,s2.address)\n",
    "\n",
    "print(Student.address)   # for same name attribute obj preference will be higher than class"
   ]
  },
  {
   "cell_type": "code",
   "execution_count": 70,
   "id": "c7882b41-2339-402e-b5e5-e4d22bdd9446",
   "metadata": {},
   "outputs": [
    {
     "name": "stdout",
     "output_type": "stream",
     "text": [
      "Ki haal ahwal ha bira.. Burki saib KPK\n",
      "90\n"
     ]
    }
   ],
   "source": [
    "class Student:\n",
    "    def __init__(self,name,address,marks):\n",
    "        self.name=name\n",
    "        self.address=address\n",
    "        self.marks=marks\n",
    "        \n",
    "    def Hello(self):\n",
    "        print(\"Ki haal ahwal ha bira..\",self.name, self.address)\n",
    "        \n",
    "    def get_marks(self):\n",
    "        print(self.marks)\n",
    "\n",
    "s1 = Student(\"Burki saib\",\"KPK\",90)\n",
    "s1.Hello()\n",
    "s1.get_marks()"
   ]
  },
  {
   "cell_type": "code",
   "execution_count": 76,
   "id": "d3285683-aa2b-4aa3-ab1e-bea9b185faa7",
   "metadata": {},
   "outputs": [
    {
     "name": "stdout",
     "output_type": "stream",
     "text": [
      "5000\n"
     ]
    },
    {
     "ename": "TypeError",
     "evalue": "Account.debit() takes 1 positional argument but 2 were given",
     "output_type": "error",
     "traceback": [
      "\u001b[1;31m---------------------------------------------------------------------------\u001b[0m",
      "\u001b[1;31mTypeError\u001b[0m                                 Traceback (most recent call last)",
      "Cell \u001b[1;32mIn[76], line 15\u001b[0m\n\u001b[0;32m     13\u001b[0m user1\u001b[38;5;241m=\u001b[39mAccount(\u001b[38;5;241m5000\u001b[39m,\u001b[38;5;241m1000\u001b[39m)\n\u001b[0;32m     14\u001b[0m user1\u001b[38;5;241m.\u001b[39mcheckbalance()\n\u001b[1;32m---> 15\u001b[0m user1\u001b[38;5;241m.\u001b[39mdebit(\u001b[38;5;241m300\u001b[39m)\n",
      "\u001b[1;31mTypeError\u001b[0m: Account.debit() takes 1 positional argument but 2 were given"
     ]
    }
   ],
   "source": [
    "class Account():\n",
    "    def __init__(self,balance,accountno):\n",
    "        self.balance=balance\n",
    "        self.accountno=accountno\n",
    "    def debit(self):\n",
    "        debitamount=int(input('amount to be debited :'))\n",
    "        print('your balance is',(self.balance)-(debitamount))\n",
    "    def credit(self):\n",
    "        creditamount=int(input('amount to be credited:'))\n",
    "        print('your bank balance is',(self.balance)+(creditamount))\n",
    "    def checkbalance(self):\n",
    "        print(self.balance)\n",
    "user1=Account(5000,1000)\n",
    "user1.checkbalance()\n",
    "user1.debit(300)"
   ]
  },
  {
   "cell_type": "code",
   "execution_count": null,
   "id": "c7c3054b-fa1b-4f9d-ab29-2baafcc29466",
   "metadata": {},
   "outputs": [],
   "source": []
  }
 ],
 "metadata": {
  "kernelspec": {
   "display_name": "Python 3 (ipykernel)",
   "language": "python",
   "name": "python3"
  },
  "language_info": {
   "codemirror_mode": {
    "name": "ipython",
    "version": 3
   },
   "file_extension": ".py",
   "mimetype": "text/x-python",
   "name": "python",
   "nbconvert_exporter": "python",
   "pygments_lexer": "ipython3",
   "version": "3.12.4"
  }
 },
 "nbformat": 4,
 "nbformat_minor": 5
}
