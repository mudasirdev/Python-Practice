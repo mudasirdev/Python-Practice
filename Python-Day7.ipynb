{
 "cells": [
  {
   "cell_type": "markdown",
   "id": "354ef209-3d73-438f-8793-25ab03c26273",
   "metadata": {},
   "source": [
    "**Tuples**"
   ]
  },
  {
   "cell_type": "markdown",
   "id": "ba79be15-cb48-4606-b35d-a9fe7d7d0653",
   "metadata": {},
   "source": [
    "**create**"
   ]
  },
  {
   "cell_type": "code",
   "execution_count": 1,
   "id": "a904d508-b519-44ba-85da-5f02d4dfb5a1",
   "metadata": {},
   "outputs": [
    {
     "data": {
      "text/plain": [
       "()"
      ]
     },
     "execution_count": 1,
     "metadata": {},
     "output_type": "execute_result"
    }
   ],
   "source": [
    "T1 = ()\n",
    "T1"
   ]
  },
  {
   "cell_type": "code",
   "execution_count": 2,
   "id": "ed58167c-347a-4aec-b01f-061772fe83bc",
   "metadata": {},
   "outputs": [
    {
     "data": {
      "text/plain": [
       "(1, 2, 3, 4, 5)"
      ]
     },
     "execution_count": 2,
     "metadata": {},
     "output_type": "execute_result"
    }
   ],
   "source": [
    "T2 = (1, 2, 3, 4, 5)\n",
    "T2"
   ]
  },
  {
   "cell_type": "code",
   "execution_count": 3,
   "id": "1758033e-c613-469c-b926-3b53a9aa3349",
   "metadata": {},
   "outputs": [
    {
     "data": {
      "text/plain": [
       "('Hello', 4, 5, 6)"
      ]
     },
     "execution_count": 3,
     "metadata": {},
     "output_type": "execute_result"
    }
   ],
   "source": [
    "T3 = (\"Hello\", 4, 5, 6)\n",
    "T3"
   ]
  },
  {
   "cell_type": "code",
   "execution_count": 4,
   "id": "733e693c-d74d-4eb9-b6ca-d89489cb6a99",
   "metadata": {},
   "outputs": [
    {
     "data": {
      "text/plain": [
       "1"
      ]
     },
     "execution_count": 4,
     "metadata": {},
     "output_type": "execute_result"
    }
   ],
   "source": [
    "T5 = (1)\n",
    "T5"
   ]
  },
  {
   "cell_type": "code",
   "execution_count": 5,
   "id": "24b4952f-883f-43f6-aacd-e02bc168a2f3",
   "metadata": {},
   "outputs": [
    {
     "data": {
      "text/plain": [
       "int"
      ]
     },
     "execution_count": 5,
     "metadata": {},
     "output_type": "execute_result"
    }
   ],
   "source": [
    "type(T5)"
   ]
  },
  {
   "cell_type": "code",
   "execution_count": 6,
   "id": "310a8375-56ab-455b-a1c1-ecb148f3a68c",
   "metadata": {},
   "outputs": [
    {
     "data": {
      "text/plain": [
       "str"
      ]
     },
     "execution_count": 6,
     "metadata": {},
     "output_type": "execute_result"
    }
   ],
   "source": [
    "T5 = (\"Hello\")\n",
    "type(T5)"
   ]
  },
  {
   "cell_type": "code",
   "execution_count": 7,
   "id": "6db40068-c72d-403a-b6a4-f51a09561a37",
   "metadata": {},
   "outputs": [
    {
     "data": {
      "text/plain": [
       "tuple"
      ]
     },
     "execution_count": 7,
     "metadata": {},
     "output_type": "execute_result"
    }
   ],
   "source": [
    "T5 = (\"Hello\",)\n",
    "type(T5) # single item kaa tuple k method thora change ha"
   ]
  },
  {
   "cell_type": "code",
   "execution_count": 8,
   "id": "7014db7a-22df-44e6-89fe-3a79030c244a",
   "metadata": {},
   "outputs": [
    {
     "data": {
      "text/plain": [
       "('Hello',)"
      ]
     },
     "execution_count": 8,
     "metadata": {},
     "output_type": "execute_result"
    }
   ],
   "source": [
    "T5"
   ]
  },
  {
   "cell_type": "markdown",
   "id": "ab0973a3-ba8e-4933-9c6b-352287c26d7e",
   "metadata": {},
   "source": [
    "**Access**"
   ]
  },
  {
   "cell_type": "code",
   "execution_count": 12,
   "id": "88f7b928-fb09-4132-8a4d-7b0e3c7312aa",
   "metadata": {},
   "outputs": [
    {
     "data": {
      "text/plain": [
       "'Hello'"
      ]
     },
     "execution_count": 12,
     "metadata": {},
     "output_type": "execute_result"
    }
   ],
   "source": [
    "T5[0]"
   ]
  },
  {
   "cell_type": "code",
   "execution_count": 13,
   "id": "00a5042c-5c4b-4f6d-ab0d-145ba61b22d1",
   "metadata": {},
   "outputs": [
    {
     "data": {
      "text/plain": [
       "(1, 2, 3, 4, 5)"
      ]
     },
     "execution_count": 13,
     "metadata": {},
     "output_type": "execute_result"
    }
   ],
   "source": [
    "T2"
   ]
  },
  {
   "cell_type": "code",
   "execution_count": 14,
   "id": "11793294-564c-4e8b-9725-24df672c880b",
   "metadata": {},
   "outputs": [
    {
     "data": {
      "text/plain": [
       "5"
      ]
     },
     "execution_count": 14,
     "metadata": {},
     "output_type": "execute_result"
    }
   ],
   "source": [
    "T2[4]"
   ]
  },
  {
   "cell_type": "code",
   "execution_count": 15,
   "id": "cf3b4099-6571-4481-830b-7997898e6462",
   "metadata": {},
   "outputs": [
    {
     "data": {
      "text/plain": [
       "(1, 2, 3, (4, 5))"
      ]
     },
     "execution_count": 15,
     "metadata": {},
     "output_type": "execute_result"
    }
   ],
   "source": [
    "T3 = (1, 2, 3, (4, 5))\n",
    "T3"
   ]
  },
  {
   "cell_type": "code",
   "execution_count": 20,
   "id": "9a13ef1d-bc6e-4afd-9cd9-7d5728bc4334",
   "metadata": {},
   "outputs": [
    {
     "data": {
      "text/plain": [
       "5"
      ]
     },
     "execution_count": 20,
     "metadata": {},
     "output_type": "execute_result"
    }
   ],
   "source": [
    "T3[-1][1]"
   ]
  },
  {
   "cell_type": "markdown",
   "id": "b5bc3c4a-3e89-4259-95a0-6abf00f826f9",
   "metadata": {},
   "source": [
    "**Edit**"
   ]
  },
  {
   "cell_type": "code",
   "execution_count": null,
   "id": "d2af9c4d-9f8d-4238-92a5-9f7c52fb114b",
   "metadata": {},
   "outputs": [],
   "source": [
    "#Tuples just like string are immutable and this ius the primary differnce between tuples and lists"
   ]
  },
  {
   "cell_type": "code",
   "execution_count": 21,
   "id": "4b5c8300-5110-410d-80cf-77de588998d1",
   "metadata": {},
   "outputs": [
    {
     "data": {
      "text/plain": [
       "(1, 2, 3, (4, 5))"
      ]
     },
     "execution_count": 21,
     "metadata": {},
     "output_type": "execute_result"
    }
   ],
   "source": [
    "T3"
   ]
  },
  {
   "cell_type": "code",
   "execution_count": 22,
   "id": "727d9ccc-b2e9-4aeb-afaa-5ea29457909b",
   "metadata": {},
   "outputs": [
    {
     "ename": "TypeError",
     "evalue": "'tuple' object does not support item assignment",
     "output_type": "error",
     "traceback": [
      "\u001b[1;31m---------------------------------------------------------------------------\u001b[0m",
      "\u001b[1;31mTypeError\u001b[0m                                 Traceback (most recent call last)",
      "Cell \u001b[1;32mIn[22], line 1\u001b[0m\n\u001b[1;32m----> 1\u001b[0m \u001b[43mT3\u001b[49m\u001b[43m[\u001b[49m\u001b[38;5;241;43m0\u001b[39;49m\u001b[43m]\u001b[49m\u001b[38;5;241m=\u001b[39m[\u001b[38;5;241m30\u001b[39m]\n",
      "\u001b[1;31mTypeError\u001b[0m: 'tuple' object does not support item assignment"
     ]
    }
   ],
   "source": [
    "T3[0]=[30]"
   ]
  },
  {
   "cell_type": "markdown",
   "id": "2f1fdf71-4d4a-49e4-b96f-8bd0366b818d",
   "metadata": {},
   "source": [
    "**Add**"
   ]
  },
  {
   "cell_type": "code",
   "execution_count": null,
   "id": "41b4b2cd-863d-4ab8-87e7-5c8bf2fa941b",
   "metadata": {},
   "outputs": [],
   "source": [
    "# not possible\n",
    "# Tuples: immutable"
   ]
  },
  {
   "cell_type": "markdown",
   "id": "70b85c2c-68d1-4b24-8dd8-ccfe1924dbed",
   "metadata": {},
   "source": [
    "**Delete**"
   ]
  },
  {
   "cell_type": "code",
   "execution_count": 23,
   "id": "1b85cdfb-8883-486d-aea8-e386cc37654c",
   "metadata": {},
   "outputs": [
    {
     "data": {
      "text/plain": [
       "(1, 2, 3, (4, 5))"
      ]
     },
     "execution_count": 23,
     "metadata": {},
     "output_type": "execute_result"
    }
   ],
   "source": [
    "T3"
   ]
  },
  {
   "cell_type": "code",
   "execution_count": 24,
   "id": "edb34c1d-096a-4dc2-bac7-22faae34d494",
   "metadata": {},
   "outputs": [],
   "source": [
    "del T3"
   ]
  },
  {
   "cell_type": "code",
   "execution_count": 25,
   "id": "25a8d27a-4a23-4da5-afeb-a91de3cb5bbe",
   "metadata": {},
   "outputs": [
    {
     "ename": "NameError",
     "evalue": "name 'T3' is not defined",
     "output_type": "error",
     "traceback": [
      "\u001b[1;31m---------------------------------------------------------------------------\u001b[0m",
      "\u001b[1;31mNameError\u001b[0m                                 Traceback (most recent call last)",
      "Cell \u001b[1;32mIn[25], line 1\u001b[0m\n\u001b[1;32m----> 1\u001b[0m \u001b[43mT3\u001b[49m\n",
      "\u001b[1;31mNameError\u001b[0m: name 'T3' is not defined"
     ]
    }
   ],
   "source": [
    "T3"
   ]
  },
  {
   "cell_type": "code",
   "execution_count": 26,
   "id": "16236cc0-e5e7-4b91-b67a-d5e8c039e993",
   "metadata": {},
   "outputs": [
    {
     "data": {
      "text/plain": [
       "(1, 2, 3, 4, 5)"
      ]
     },
     "execution_count": 26,
     "metadata": {},
     "output_type": "execute_result"
    }
   ],
   "source": [
    "T2"
   ]
  },
  {
   "cell_type": "code",
   "execution_count": 28,
   "id": "a494cf47-372e-4d2f-8430-baa00dcf12f4",
   "metadata": {},
   "outputs": [
    {
     "ename": "SyntaxError",
     "evalue": "cannot delete function call (1610192391.py, line 1)",
     "output_type": "error",
     "traceback": [
      "\u001b[1;36m  Cell \u001b[1;32mIn[28], line 1\u001b[1;36m\u001b[0m\n\u001b[1;33m    del T2(-1)\u001b[0m\n\u001b[1;37m        ^\u001b[0m\n\u001b[1;31mSyntaxError\u001b[0m\u001b[1;31m:\u001b[0m cannot delete function call\n"
     ]
    }
   ],
   "source": [
    "del T2(-1)"
   ]
  },
  {
   "cell_type": "code",
   "execution_count": 30,
   "id": "8c050e71-1349-4b26-b08f-41f1cd1f3986",
   "metadata": {},
   "outputs": [],
   "source": [
    "del T2"
   ]
  },
  {
   "cell_type": "code",
   "execution_count": 31,
   "id": "0ff3b24f-2595-43f2-b4c7-32c3d8b3238b",
   "metadata": {},
   "outputs": [
    {
     "ename": "NameError",
     "evalue": "name 'T2' is not defined",
     "output_type": "error",
     "traceback": [
      "\u001b[1;31m---------------------------------------------------------------------------\u001b[0m",
      "\u001b[1;31mNameError\u001b[0m                                 Traceback (most recent call last)",
      "Cell \u001b[1;32mIn[31], line 1\u001b[0m\n\u001b[1;32m----> 1\u001b[0m \u001b[43mT2\u001b[49m\n",
      "\u001b[1;31mNameError\u001b[0m: name 'T2' is not defined"
     ]
    }
   ],
   "source": [
    "T2"
   ]
  },
  {
   "cell_type": "markdown",
   "id": "5597e8a5-53fe-452d-b147-d7b3d88443b8",
   "metadata": {},
   "source": [
    "**Operations**"
   ]
  },
  {
   "cell_type": "code",
   "execution_count": 36,
   "id": "00306d00-fee6-4604-a8e9-37de98bc496a",
   "metadata": {},
   "outputs": [
    {
     "data": {
      "text/plain": [
       "(1, 2, 3, 4, 5)"
      ]
     },
     "execution_count": 36,
     "metadata": {},
     "output_type": "execute_result"
    }
   ],
   "source": [
    "T2 = (1, 2, 3, 4, 5)\n",
    "T2"
   ]
  },
  {
   "cell_type": "code",
   "execution_count": 37,
   "id": "0be5f1f9-2026-415c-92a2-4f8d24074380",
   "metadata": {},
   "outputs": [
    {
     "data": {
      "text/plain": [
       "('good', 5.6, 9)"
      ]
     },
     "execution_count": 37,
     "metadata": {},
     "output_type": "execute_result"
    }
   ],
   "source": [
    "T3 = (\"good\" ,5.6 , 9)\n",
    "T3"
   ]
  },
  {
   "cell_type": "code",
   "execution_count": 38,
   "id": "024dde95-14e2-499f-a631-0bccdc410b92",
   "metadata": {},
   "outputs": [
    {
     "data": {
      "text/plain": [
       "(1, 2, 3, 4, 5, 'good', 5.6, 9)"
      ]
     },
     "execution_count": 38,
     "metadata": {},
     "output_type": "execute_result"
    }
   ],
   "source": [
    "T2 + T3"
   ]
  },
  {
   "cell_type": "markdown",
   "id": "4783567a-253b-4024-a6ca-2f48d2467520",
   "metadata": {},
   "source": [
    "\n",
    "#Tuples are read oinly data type we cant write in tuples"
   ]
  },
  {
   "cell_type": "markdown",
   "id": "af55dcb4-ad33-4212-b552-963927ef386e",
   "metadata": {},
   "source": [
    "**Dictionatary**"
   ]
  },
  {
   "cell_type": "markdown",
   "id": "e2fa068c-6faf-4743-ab04-14d6080e6440",
   "metadata": {},
   "source": [
    "**Create**"
   ]
  },
  {
   "cell_type": "code",
   "execution_count": 7,
   "id": "3d088cfa-aeae-4859-b15e-91041d7747f2",
   "metadata": {},
   "outputs": [
    {
     "data": {
      "text/plain": [
       "{}"
      ]
     },
     "execution_count": 7,
     "metadata": {},
     "output_type": "execute_result"
    }
   ],
   "source": [
    "# empty dictionary\n",
    "D = {}\n",
    "D"
   ]
  },
  {
   "cell_type": "code",
   "execution_count": 9,
   "id": "1c832b22-8d92-4d55-93da-bce88bc91f10",
   "metadata": {},
   "outputs": [
    {
     "data": {
      "text/plain": [
       "{'Name': 'Mudasir', 'Gender': 'Male'}"
      ]
     },
     "execution_count": 9,
     "metadata": {},
     "output_type": "execute_result"
    }
   ],
   "source": [
    "D = {\"Name\":\"Mudasir\", \"Gender\":\"Male\"}\n",
    "D"
   ]
  },
  {
   "cell_type": "code",
   "execution_count": 15,
   "id": "449a64b2-45e8-4d36-b233-bbc034598205",
   "metadata": {},
   "outputs": [
    {
     "ename": "TypeError",
     "evalue": "unhashable type: 'list'",
     "output_type": "error",
     "traceback": [
      "\u001b[1;31m---------------------------------------------------------------------------\u001b[0m",
      "\u001b[1;31mTypeError\u001b[0m                                 Traceback (most recent call last)",
      "Cell \u001b[1;32mIn[15], line 1\u001b[0m\n\u001b[1;32m----> 1\u001b[0m D1 \u001b[38;5;241m=\u001b[39m {[\u001b[38;5;241m1\u001b[39m, \u001b[38;5;241m2\u001b[39m, \u001b[38;5;241m3\u001b[39m]:\u001b[38;5;124m\"\u001b[39m\u001b[38;5;124mMudasir\u001b[39m\u001b[38;5;124m\"\u001b[39m}\n\u001b[0;32m      2\u001b[0m D1\n",
      "\u001b[1;31mTypeError\u001b[0m: unhashable type: 'list'"
     ]
    }
   ],
   "source": [
    "D1 = {[1, 2, 3]:\"Mudasir\"}\n",
    "D1"
   ]
  },
  {
   "cell_type": "code",
   "execution_count": 17,
   "id": "31e7f802-8a59-4799-ac4e-4a109d070210",
   "metadata": {},
   "outputs": [
    {
     "data": {
      "text/plain": [
       "{(1, 2, 3): 'Mudasir'}"
      ]
     },
     "execution_count": 17,
     "metadata": {},
     "output_type": "execute_result"
    }
   ],
   "source": [
    "D1 = {(1, 2, 3):\"Mudasir\"}\n",
    "D1"
   ]
  },
  {
   "cell_type": "code",
   "execution_count": 19,
   "id": "58b95623-7041-476a-9e41-217d3ea82a44",
   "metadata": {},
   "outputs": [
    {
     "data": {
      "text/plain": [
       "{'Name': 'Akram'}"
      ]
     },
     "execution_count": 19,
     "metadata": {},
     "output_type": "execute_result"
    }
   ],
   "source": [
    "# duplicate keys\n",
    "D2 = {\"Name\":\"Ali\", \"Name\":\"Akram\"}\n",
    "D2"
   ]
  },
  {
   "cell_type": "code",
   "execution_count": 21,
   "id": "2a7210e6-1941-4b10-aa1b-e772d9182d1d",
   "metadata": {},
   "outputs": [
    {
     "data": {
      "text/plain": [
       "{'Name': 'Mudasir',\n",
       " 'College': 'GC no 1',\n",
       " 'Marks': {'S1': 99, 'S2': 97, 'S3': 98}}"
      ]
     },
     "execution_count": 21,
     "metadata": {},
     "output_type": "execute_result"
    }
   ],
   "source": [
    "D3 = {\"Name\":\"Mudasir\", \"College\":\"GC no 1\", \"Marks\":{\"S1\":99, \"S2\":97, \"S3\":98}}\n",
    "D3 #2D dictionary"
   ]
  },
  {
   "cell_type": "code",
   "execution_count": 27,
   "id": "d394c5f2-3f77-4cb6-98ae-40b600d406de",
   "metadata": {},
   "outputs": [
    {
     "data": {
      "text/plain": [
       "'GC no 1'"
      ]
     },
     "execution_count": 27,
     "metadata": {},
     "output_type": "execute_result"
    }
   ],
   "source": [
    "D3['College']"
   ]
  },
  {
   "cell_type": "code",
   "execution_count": 29,
   "id": "fc79e4b2-9acb-4e2c-b837-eda84c1a0f87",
   "metadata": {},
   "outputs": [
    {
     "data": {
      "text/plain": [
       "97"
      ]
     },
     "execution_count": 29,
     "metadata": {},
     "output_type": "execute_result"
    }
   ],
   "source": [
    "D3['Marks']['S2']"
   ]
  },
  {
   "cell_type": "code",
   "execution_count": 35,
   "id": "e706ca45-db2f-45e1-b94e-4ea9b22c3ad0",
   "metadata": {},
   "outputs": [
    {
     "data": {
      "text/plain": [
       "{'Name': 'Mudasir',\n",
       " 'College': ['Gomal uni'],\n",
       " 'Marks': {'S1': 99, 'S2': 97, 'S3': 98}}"
      ]
     },
     "execution_count": 35,
     "metadata": {},
     "output_type": "execute_result"
    }
   ],
   "source": [
    "D3['College']=['Gomal uni']\n",
    "D3"
   ]
  },
  {
   "cell_type": "markdown",
   "id": "2430ba30-6455-474f-8a42-45d66b6a613d",
   "metadata": {},
   "source": [
    "**Add new key-value pair**"
   ]
  },
  {
   "cell_type": "code",
   "execution_count": 38,
   "id": "c5ff01ae-9880-4bf3-b75e-70c4a52ab3fd",
   "metadata": {},
   "outputs": [
    {
     "data": {
      "text/plain": [
       "{'Name': 'Mudasir',\n",
       " 'College': ['Gomal uni'],\n",
       " 'Marks': {'S1': 99, 'S2': 97, 'S3': 98}}"
      ]
     },
     "execution_count": 38,
     "metadata": {},
     "output_type": "execute_result"
    }
   ],
   "source": [
    "D3\n"
   ]
  },
  {
   "cell_type": "code",
   "execution_count": 44,
   "id": "82c26c7f-0e6a-4419-9017-f1bb7f8d56d7",
   "metadata": {},
   "outputs": [
    {
     "data": {
      "text/plain": [
       "{'Name': 'Mudasir',\n",
       " 'College': ['Gomal uni'],\n",
       " 'Marks': {'S1': 99, 'S2': 97, 'S3': 98},\n",
       " 'Location': ['Dera']}"
      ]
     },
     "execution_count": 44,
     "metadata": {},
     "output_type": "execute_result"
    }
   ],
   "source": [
    "D3['Location'] = ['Dera']\n",
    "D3"
   ]
  },
  {
   "cell_type": "code",
   "execution_count": 52,
   "id": "da310ee6-7205-4b45-b203-80bfb062ad6e",
   "metadata": {},
   "outputs": [],
   "source": [
    "del D3 ['College']"
   ]
  },
  {
   "cell_type": "code",
   "execution_count": 54,
   "id": "97ec8d92-7428-41b3-b28e-99bcbacf7798",
   "metadata": {},
   "outputs": [
    {
     "data": {
      "text/plain": [
       "{'Name': 'Mudasir',\n",
       " 'Marks': {'S1': 99, 'S2': 97, 'S3': 98},\n",
       " 'Location': ['Dera']}"
      ]
     },
     "execution_count": 54,
     "metadata": {},
     "output_type": "execute_result"
    }
   ],
   "source": [
    "D3"
   ]
  },
  {
   "cell_type": "code",
   "execution_count": 60,
   "id": "f305884e-26a5-442a-81db-3e2ad5010557",
   "metadata": {},
   "outputs": [
    {
     "name": "stdout",
     "output_type": "stream",
     "text": [
      "Name Mudasir\n",
      "Marks {'S1': 99, 'S2': 97, 'S3': 98}\n",
      "Location ['Dera']\n"
     ]
    }
   ],
   "source": [
    "for i in D3:\n",
    "    print(i, D3[i])"
   ]
  },
  {
   "cell_type": "code",
   "execution_count": 64,
   "id": "04563148-8e12-4635-9e2b-9caa82f40c5a",
   "metadata": {},
   "outputs": [
    {
     "data": {
      "text/plain": [
       "True"
      ]
     },
     "execution_count": 64,
     "metadata": {},
     "output_type": "execute_result"
    }
   ],
   "source": [
    "'Name' in D3"
   ]
  },
  {
   "cell_type": "code",
   "execution_count": 70,
   "id": "dd0e3f26-2306-4f5f-99c4-e1799f475600",
   "metadata": {},
   "outputs": [
    {
     "data": {
      "text/plain": [
       "['Location', 'Marks', 'Name']"
      ]
     },
     "execution_count": 70,
     "metadata": {},
     "output_type": "execute_result"
    }
   ],
   "source": [
    "sorted(D3)"
   ]
  },
  {
   "cell_type": "code",
   "execution_count": 72,
   "id": "97c99abe-49cb-4863-8655-037db24251a9",
   "metadata": {},
   "outputs": [
    {
     "data": {
      "text/plain": [
       "dict_keys(['Name', 'Marks', 'Location'])"
      ]
     },
     "execution_count": 72,
     "metadata": {},
     "output_type": "execute_result"
    }
   ],
   "source": [
    "D3.keys()"
   ]
  },
  {
   "cell_type": "code",
   "execution_count": 74,
   "id": "47f89115-e5e8-4452-b438-043b2107c938",
   "metadata": {},
   "outputs": [
    {
     "data": {
      "text/plain": [
       "dict_values(['Mudasir', {'S1': 99, 'S2': 97, 'S3': 98}, ['Dera']])"
      ]
     },
     "execution_count": 74,
     "metadata": {},
     "output_type": "execute_result"
    }
   ],
   "source": [
    "D3.values()"
   ]
  },
  {
   "cell_type": "markdown",
   "id": "81803932-dec3-4b8f-a8f2-314aabc3511a",
   "metadata": {},
   "source": [
    "**Sets in python**"
   ]
  },
  {
   "cell_type": "markdown",
   "id": "227db567-1dc6-41fd-a60c-5e77d5cc8f65",
   "metadata": {},
   "source": [
    "**No Duplicates**"
   ]
  },
  {
   "cell_type": "code",
   "execution_count": 78,
   "id": "07c436c9-44d7-4e2c-b755-ede8bb6f58b9",
   "metadata": {},
   "outputs": [
    {
     "name": "stdout",
     "output_type": "stream",
     "text": [
      "{1, 2, 3, 4}\n"
     ]
    }
   ],
   "source": [
    "my_set = {1, 2, 2, 3, 4, 4}\n",
    "print(my_set) #Sets use hashing and only store unique hash values."
   ]
  },
  {
   "cell_type": "code",
   "execution_count": 82,
   "id": "78e9d595-67c2-49c7-ab3b-c74f4cd44dc0",
   "metadata": {},
   "outputs": [
    {
     "ename": "NameError",
     "evalue": "name 'myset' is not defined",
     "output_type": "error",
     "traceback": [
      "\u001b[1;31m---------------------------------------------------------------------------\u001b[0m",
      "\u001b[1;31mNameError\u001b[0m                                 Traceback (most recent call last)",
      "Cell \u001b[1;32mIn[82], line 2\u001b[0m\n\u001b[0;32m      1\u001b[0m my_set \u001b[38;5;241m=\u001b[39m {\u001b[38;5;241m10\u001b[39m, \u001b[38;5;241m20\u001b[39m, \u001b[38;5;241m30\u001b[39m}\n\u001b[1;32m----> 2\u001b[0m myset\n",
      "\u001b[1;31mNameError\u001b[0m: name 'myset' is not defined"
     ]
    }
   ],
   "source": [
    "my_set = {10, 20, 30}\n",
    "myset  #no indexing possible in set"
   ]
  },
  {
   "cell_type": "code",
   "execution_count": 84,
   "id": "53547d94-d8cc-456d-b35c-83076a8ccd6a",
   "metadata": {},
   "outputs": [],
   "source": [
    "S1 = {}"
   ]
  },
  {
   "cell_type": "code",
   "execution_count": 86,
   "id": "20ff0027-0028-46e8-ac43-c8341e2a1b69",
   "metadata": {},
   "outputs": [
    {
     "data": {
      "text/plain": [
       "{}"
      ]
     },
     "execution_count": 86,
     "metadata": {},
     "output_type": "execute_result"
    }
   ],
   "source": [
    "S1"
   ]
  },
  {
   "cell_type": "code",
   "execution_count": 88,
   "id": "71d85ad7-ad8b-473b-8646-204676a95060",
   "metadata": {},
   "outputs": [
    {
     "data": {
      "text/plain": [
       "dict"
      ]
     },
     "execution_count": 88,
     "metadata": {},
     "output_type": "execute_result"
    }
   ],
   "source": [
    "type(S1) # python ma defalt code dictionary kaa ha"
   ]
  },
  {
   "cell_type": "code",
   "execution_count": 92,
   "id": "dec8cbaa-7a50-44c1-8808-5c1f51660deb",
   "metadata": {},
   "outputs": [
    {
     "data": {
      "text/plain": [
       "{0.4, 90, 'scak', 'true'}"
      ]
     },
     "execution_count": 92,
     "metadata": {},
     "output_type": "execute_result"
    }
   ],
   "source": [
    "S2  = {\"scak\", 90 , 0.4, 'true'}\n",
    "S2"
   ]
  },
  {
   "cell_type": "code",
   "execution_count": 94,
   "id": "296d17c1-6855-4ac9-94b7-b48a1fbf87c9",
   "metadata": {},
   "outputs": [
    {
     "ename": "TypeError",
     "evalue": "unhashable type: 'list'",
     "output_type": "error",
     "traceback": [
      "\u001b[1;31m---------------------------------------------------------------------------\u001b[0m",
      "\u001b[1;31mTypeError\u001b[0m                                 Traceback (most recent call last)",
      "Cell \u001b[1;32mIn[94], line 1\u001b[0m\n\u001b[1;32m----> 1\u001b[0m S4 \u001b[38;5;241m=\u001b[39m {[\u001b[38;5;241m1\u001b[39m, \u001b[38;5;241m2\u001b[39m, \u001b[38;5;241m3\u001b[39m], \u001b[38;5;124m\"\u001b[39m\u001b[38;5;124mHello\u001b[39m\u001b[38;5;124m\"\u001b[39m}\n\u001b[0;32m      2\u001b[0m S4\n",
      "\u001b[1;31mTypeError\u001b[0m: unhashable type: 'list'"
     ]
    }
   ],
   "source": [
    "S4 = {[1, 2, 3], \"Hello\"}\n",
    "S4"
   ]
  },
  {
   "cell_type": "markdown",
   "id": "2390ac4d-0f4b-4f1b-84a8-9dd215bba2d9",
   "metadata": {},
   "source": [
    "S4 = {(1, 2, 3), \"Hello\"}\n",
    "S4 # tuple immutable ha"
   ]
  },
  {
   "cell_type": "markdown",
   "id": "85e3790d-324f-4070-b73d-6e8652a6e538",
   "metadata": {},
   "source": [
    "**Edit**"
   ]
  },
  {
   "cell_type": "code",
   "execution_count": 103,
   "id": "788abe76-ae6b-404d-90fb-8c2880ab8e7d",
   "metadata": {},
   "outputs": [
    {
     "ename": "TypeError",
     "evalue": "'set' object does not support item assignment",
     "output_type": "error",
     "traceback": [
      "\u001b[1;31m---------------------------------------------------------------------------\u001b[0m",
      "\u001b[1;31mTypeError\u001b[0m                                 Traceback (most recent call last)",
      "Cell \u001b[1;32mIn[103], line 1\u001b[0m\n\u001b[1;32m----> 1\u001b[0m S4[\u001b[38;5;241m2\u001b[39m] \u001b[38;5;241m=\u001b[39m \u001b[38;5;241m100\u001b[39m\n\u001b[0;32m      2\u001b[0m S4\n",
      "\u001b[1;31mTypeError\u001b[0m: 'set' object does not support item assignment"
     ]
    }
   ],
   "source": [
    "S4[2] = 100\n",
    "S4"
   ]
  },
  {
   "cell_type": "code",
   "execution_count": 109,
   "id": "a5845f98-7204-4be0-b6ad-86bf35e44d5b",
   "metadata": {},
   "outputs": [
    {
     "data": {
      "text/plain": [
       "1559584151744"
      ]
     },
     "execution_count": 109,
     "metadata": {},
     "output_type": "execute_result"
    }
   ],
   "source": [
    "S4\n",
    "id(S4)"
   ]
  },
  {
   "cell_type": "code",
   "execution_count": 107,
   "id": "548f554a-6755-498c-9677-6c9bdd30f769",
   "metadata": {},
   "outputs": [
    {
     "data": {
      "text/plain": [
       "{(1, 2, 3), 6, 'Hello'}"
      ]
     },
     "execution_count": 107,
     "metadata": {},
     "output_type": "execute_result"
    }
   ],
   "source": [
    "S4.add(6)\n",
    "S4"
   ]
  },
  {
   "cell_type": "code",
   "execution_count": 111,
   "id": "30902f16-711e-451b-b7b2-77c893897cc1",
   "metadata": {},
   "outputs": [
    {
     "data": {
      "text/plain": [
       "1559584151744"
      ]
     },
     "execution_count": 111,
     "metadata": {},
     "output_type": "execute_result"
    }
   ],
   "source": [
    "id(S4)"
   ]
  },
  {
   "cell_type": "markdown",
   "id": "131fc042-3175-47a5-bd07-90ef4b48037f",
   "metadata": {},
   "source": [
    "**Remove**"
   ]
  },
  {
   "cell_type": "code",
   "execution_count": 114,
   "id": "25d94da6-f41c-4e1a-b41f-3bcf945a2a3c",
   "metadata": {},
   "outputs": [
    {
     "data": {
      "text/plain": [
       "{(1, 2, 3), 6, 'Hello'}"
      ]
     },
     "execution_count": 114,
     "metadata": {},
     "output_type": "execute_result"
    }
   ],
   "source": [
    "S4"
   ]
  },
  {
   "cell_type": "code",
   "execution_count": 124,
   "id": "9fb2d2ef-0689-4407-82fb-a2654edad719",
   "metadata": {},
   "outputs": [
    {
     "data": {
      "text/plain": [
       "{'Hello'}"
      ]
     },
     "execution_count": 124,
     "metadata": {},
     "output_type": "execute_result"
    }
   ],
   "source": [
    "S4.remove((1, 2, 3))\n",
    "S4"
   ]
  },
  {
   "cell_type": "markdown",
   "id": "d76a9532-8b5c-4af0-bdd5-b4b3d93d2831",
   "metadata": {},
   "source": [
    "**Operations**"
   ]
  },
  {
   "cell_type": "code",
   "execution_count": 127,
   "id": "53343885-189a-45b7-9821-9e3533fc6c65",
   "metadata": {},
   "outputs": [
    {
     "ename": "TypeError",
     "evalue": "unsupported operand type(s) for +: 'set' and 'set'",
     "output_type": "error",
     "traceback": [
      "\u001b[1;31m---------------------------------------------------------------------------\u001b[0m",
      "\u001b[1;31mTypeError\u001b[0m                                 Traceback (most recent call last)",
      "Cell \u001b[1;32mIn[127], line 3\u001b[0m\n\u001b[0;32m      1\u001b[0m S1 \u001b[38;5;241m=\u001b[39m {\u001b[38;5;241m1\u001b[39m, \u001b[38;5;241m2\u001b[39m, \u001b[38;5;241m3\u001b[39m, \u001b[38;5;241m4\u001b[39m, \u001b[38;5;241m5\u001b[39m}\n\u001b[0;32m      2\u001b[0m S2 \u001b[38;5;241m=\u001b[39m {\u001b[38;5;241m3\u001b[39m, \u001b[38;5;241m4\u001b[39m, \u001b[38;5;241m5\u001b[39m, \u001b[38;5;241m6\u001b[39m, \u001b[38;5;241m7\u001b[39m}\n\u001b[1;32m----> 3\u001b[0m S1 \u001b[38;5;241m+\u001b[39m S2\n",
      "\u001b[1;31mTypeError\u001b[0m: unsupported operand type(s) for +: 'set' and 'set'"
     ]
    }
   ],
   "source": [
    "S1 = {1, 2, 3, 4, 5}\n",
    "S2 = {3, 4, 5, 6, 7}\n",
    "S1 + S2 # no concatenation in set an dalso we cant multiply set"
   ]
  },
  {
   "cell_type": "code",
   "execution_count": 131,
   "id": "72fd159c-af98-4cba-900b-1681979ca4e1",
   "metadata": {},
   "outputs": [
    {
     "name": "stdout",
     "output_type": "stream",
     "text": [
      "Hello\n"
     ]
    }
   ],
   "source": [
    "for i in S4:\n",
    "    print(i)  # Looping and memebershion operatoin is working"
   ]
  },
  {
   "cell_type": "code",
   "execution_count": 133,
   "id": "3f18c6c2-140a-4fa1-931f-d6d6dc8cdb78",
   "metadata": {},
   "outputs": [
    {
     "data": {
      "text/plain": [
       "{1, 2, 3, 4, 5, 6, 7}"
      ]
     },
     "execution_count": 133,
     "metadata": {},
     "output_type": "execute_result"
    }
   ],
   "source": [
    "S1 = {1, 2, 3, 4, 5}\n",
    "S2 = {3, 4, 5, 6, 7}\n",
    "S1.union(S2)\n"
   ]
  },
  {
   "cell_type": "code",
   "execution_count": 135,
   "id": "fd980348-e039-4e7d-8fac-a73fd59bd5af",
   "metadata": {},
   "outputs": [
    {
     "data": {
      "text/plain": [
       "{3, 4, 5}"
      ]
     },
     "execution_count": 135,
     "metadata": {},
     "output_type": "execute_result"
    }
   ],
   "source": [
    "S1.intersection(S2)"
   ]
  },
  {
   "cell_type": "code",
   "execution_count": 139,
   "id": "dd3efc96-ea30-4d5e-9888-231ff0bcab08",
   "metadata": {},
   "outputs": [
    {
     "data": {
      "text/plain": [
       "{1, 2}"
      ]
     },
     "execution_count": 139,
     "metadata": {},
     "output_type": "execute_result"
    }
   ],
   "source": [
    "S1.difference(S2)"
   ]
  },
  {
   "cell_type": "code",
   "execution_count": 141,
   "id": "4f074d8f-a20f-4017-9f2f-e12004392192",
   "metadata": {},
   "outputs": [
    {
     "data": {
      "text/plain": [
       "{6, 7}"
      ]
     },
     "execution_count": 141,
     "metadata": {},
     "output_type": "execute_result"
    }
   ],
   "source": [
    "S2.difference(S1)"
   ]
  },
  {
   "cell_type": "code",
   "execution_count": 145,
   "id": "911bfcde-a7f4-4e60-ac10-89c1a49073c0",
   "metadata": {},
   "outputs": [
    {
     "data": {
      "text/plain": [
       "False"
      ]
     },
     "execution_count": 145,
     "metadata": {},
     "output_type": "execute_result"
    }
   ],
   "source": [
    "S1.isdisjoint(S2)"
   ]
  },
  {
   "cell_type": "code",
   "execution_count": 147,
   "id": "962bbc42-ee8c-4dad-bae1-4ecefa66aabd",
   "metadata": {},
   "outputs": [
    {
     "data": {
      "text/plain": [
       "False"
      ]
     },
     "execution_count": 147,
     "metadata": {},
     "output_type": "execute_result"
    }
   ],
   "source": [
    "S1.issubset(S2)"
   ]
  },
  {
   "cell_type": "code",
   "execution_count": 149,
   "id": "433db65d-90f8-486e-a542-5c4d4bac907b",
   "metadata": {},
   "outputs": [
    {
     "data": {
      "text/plain": [
       "False"
      ]
     },
     "execution_count": 149,
     "metadata": {},
     "output_type": "execute_result"
    }
   ],
   "source": [
    "S2.isdisjoint(S1)"
   ]
  },
  {
   "cell_type": "code",
   "execution_count": 151,
   "id": "3f996e01-3c46-4a04-9c60-356d7eb914a3",
   "metadata": {},
   "outputs": [
    {
     "data": {
      "text/plain": [
       "False"
      ]
     },
     "execution_count": 151,
     "metadata": {},
     "output_type": "execute_result"
    }
   ],
   "source": [
    "S1.issuperset(S2)"
   ]
  },
  {
   "cell_type": "code",
   "execution_count": null,
   "id": "17e705a4-574c-4804-bea4-c07746d33933",
   "metadata": {},
   "outputs": [],
   "source": []
  }
 ],
 "metadata": {
  "kernelspec": {
   "display_name": "Python 3 (ipykernel)",
   "language": "python",
   "name": "python3"
  },
  "language_info": {
   "codemirror_mode": {
    "name": "ipython",
    "version": 3
   },
   "file_extension": ".py",
   "mimetype": "text/x-python",
   "name": "python",
   "nbconvert_exporter": "python",
   "pygments_lexer": "ipython3",
   "version": "3.12.4"
  }
 },
 "nbformat": 4,
 "nbformat_minor": 5
}
