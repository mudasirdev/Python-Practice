{
 "cells": [
  {
   "cell_type": "markdown",
   "id": "a372f93f-2f72-48bf-b694-5612d63f5cf0",
   "metadata": {},
   "source": [
    "**Break, Continue and Pass Statements**"
   ]
  },
  {
   "cell_type": "code",
   "execution_count": 3,
   "id": "6af0b56b-b88a-4ad4-82b9-0b7d8b7fd6c3",
   "metadata": {},
   "outputs": [
    {
     "name": "stdout",
     "output_type": "stream",
     "text": [
      "1\n",
      "2\n",
      "3\n",
      "4\n"
     ]
    }
   ],
   "source": [
    "for i in range (1,11):\n",
    "    if i == 5:\n",
    "        break\n",
    "    print(i)\n"
   ]
  },
  {
   "cell_type": "code",
   "execution_count": 4,
   "id": "98e9cd6c-ec11-4275-a765-3ae0a39bfcf5",
   "metadata": {},
   "outputs": [
    {
     "name": "stdout",
     "output_type": "stream",
     "text": [
      "1\n",
      "2\n",
      "3\n",
      "4\n",
      "6\n",
      "7\n",
      "8\n",
      "9\n",
      "10\n",
      "Hello\n"
     ]
    }
   ],
   "source": [
    "for i in range (1,11):\n",
    "    if i == 5:\n",
    "        continue\n",
    "    print(i)\n",
    "    print(\"Hello\")"
   ]
  },
  {
   "cell_type": "markdown",
   "id": "477eb2f4-5c15-49db-a66f-c4851a8dc978",
   "metadata": {},
   "source": [
    "**built-in function**"
   ]
  },
  {
   "cell_type": "markdown",
   "id": "260d1690-9a49-45dd-af19-70952766b81a",
   "metadata": {},
   "source": [
    "**abs**"
   ]
  },
  {
   "cell_type": "code",
   "execution_count": 5,
   "id": "53cadb0a-5a0a-4ce4-a211-615fb813119a",
   "metadata": {},
   "outputs": [
    {
     "data": {
      "text/plain": [
       "3"
      ]
     },
     "execution_count": 5,
     "metadata": {},
     "output_type": "execute_result"
    }
   ],
   "source": [
    "abs(3)"
   ]
  },
  {
   "cell_type": "code",
   "execution_count": 6,
   "id": "5f50b616-206f-4fa8-b641-9efe490e1b03",
   "metadata": {},
   "outputs": [
    {
     "data": {
      "text/plain": [
       "89"
      ]
     },
     "execution_count": 6,
     "metadata": {},
     "output_type": "execute_result"
    }
   ],
   "source": [
    "abs(-89)"
   ]
  },
  {
   "cell_type": "markdown",
   "id": "46b51281-c7b9-4a28-8c57-daa274bdf599",
   "metadata": {},
   "source": [
    "**pow**"
   ]
  },
  {
   "cell_type": "code",
   "execution_count": 7,
   "id": "36c91485-9d3e-456f-93e9-f476dd4b8e94",
   "metadata": {},
   "outputs": [
    {
     "data": {
      "text/plain": [
       "8"
      ]
     },
     "execution_count": 7,
     "metadata": {},
     "output_type": "execute_result"
    }
   ],
   "source": [
    "pow(2, 3)"
   ]
  },
  {
   "cell_type": "code",
   "execution_count": 8,
   "id": "a5f25c63-30af-4843-b86f-4f2f7ec26da3",
   "metadata": {},
   "outputs": [
    {
     "data": {
      "text/plain": [
       "0.125"
      ]
     },
     "execution_count": 8,
     "metadata": {},
     "output_type": "execute_result"
    }
   ],
   "source": [
    "pow(2, -3)"
   ]
  },
  {
   "cell_type": "markdown",
   "id": "bfcda4d3-0c64-4636-9a5f-86761c316223",
   "metadata": {},
   "source": [
    "**min/max**"
   ]
  },
  {
   "cell_type": "code",
   "execution_count": 11,
   "id": "cbf97970-d2dc-4c38-ae59-0f4a7ca2a0e4",
   "metadata": {},
   "outputs": [
    {
     "data": {
      "text/plain": [
       "0"
      ]
     },
     "execution_count": 11,
     "metadata": {},
     "output_type": "execute_result"
    }
   ],
   "source": [
    "min([2, 1, 3, 0])"
   ]
  },
  {
   "cell_type": "code",
   "execution_count": 12,
   "id": "674c40c9-fdfc-4afe-943f-14e97d4ee102",
   "metadata": {},
   "outputs": [
    {
     "data": {
      "text/plain": [
       "3"
      ]
     },
     "execution_count": 12,
     "metadata": {},
     "output_type": "execute_result"
    }
   ],
   "source": [
    "max([2, 1, 3, 0])"
   ]
  },
  {
   "cell_type": "code",
   "execution_count": 13,
   "id": "7e816f74-437c-4f85-9edb-17f0019d1df1",
   "metadata": {},
   "outputs": [
    {
     "data": {
      "text/plain": [
       "'a'"
      ]
     },
     "execution_count": 13,
     "metadata": {},
     "output_type": "execute_result"
    }
   ],
   "source": [
    "min(\"kolkata\")"
   ]
  },
  {
   "cell_type": "code",
   "execution_count": 14,
   "id": "3d1b94af-2e80-435c-9036-e44c93a721b7",
   "metadata": {},
   "outputs": [
    {
     "data": {
      "text/plain": [
       "'t'"
      ]
     },
     "execution_count": 14,
     "metadata": {},
     "output_type": "execute_result"
    }
   ],
   "source": [
    "max(\"kolkata\")"
   ]
  },
  {
   "cell_type": "markdown",
   "id": "f40e4f8b-fd9a-46f9-bdc6-4285fa6b4ee8",
   "metadata": {},
   "source": [
    "**round**"
   ]
  },
  {
   "cell_type": "code",
   "execution_count": 15,
   "id": "297fa122-5a84-4522-9de2-5a0790f42503",
   "metadata": {},
   "outputs": [
    {
     "name": "stdout",
     "output_type": "stream",
     "text": [
      "3.142857142857143\n"
     ]
    },
    {
     "data": {
      "text/plain": [
       "3"
      ]
     },
     "execution_count": 15,
     "metadata": {},
     "output_type": "execute_result"
    }
   ],
   "source": [
    "c = 22/7\n",
    "print(c)\n",
    "round(c)"
   ]
  },
  {
   "cell_type": "markdown",
   "id": "f8bdefdf-09c0-4b9f-8264-aa269eb77b51",
   "metadata": {},
   "source": [
    "**divmod**"
   ]
  },
  {
   "cell_type": "code",
   "execution_count": 16,
   "id": "e599a476-4b65-4a27-a985-e44738cf2f79",
   "metadata": {},
   "outputs": [
    {
     "data": {
      "text/plain": [
       "(2, 1)"
      ]
     },
     "execution_count": 16,
     "metadata": {},
     "output_type": "execute_result"
    }
   ],
   "source": [
    "divmod(5, 2)"
   ]
  },
  {
   "cell_type": "code",
   "execution_count": null,
   "id": "b26c0194-6d20-47f0-9bf9-f797dfa5e713",
   "metadata": {},
   "outputs": [],
   "source": []
  }
 ],
 "metadata": {
  "kernelspec": {
   "display_name": "Python 3 (ipykernel)",
   "language": "python",
   "name": "python3"
  },
  "language_info": {
   "codemirror_mode": {
    "name": "ipython",
    "version": 3
   },
   "file_extension": ".py",
   "mimetype": "text/x-python",
   "name": "python",
   "nbconvert_exporter": "python",
   "pygments_lexer": "ipython3",
   "version": "3.10.9"
  }
 },
 "nbformat": 4,
 "nbformat_minor": 5
}
