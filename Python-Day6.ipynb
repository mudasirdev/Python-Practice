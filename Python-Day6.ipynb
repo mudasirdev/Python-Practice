{
 "cells": [
  {
   "cell_type": "markdown",
   "id": "c54499b3-cbe8-4d89-9f5c-eca5a235fbf0",
   "metadata": {},
   "source": [
    "**List**"
   ]
  },
  {
   "cell_type": "markdown",
   "id": "8844d380-1962-4b35-a1ae-f439b73116d1",
   "metadata": {},
   "source": [
    "**Arrays vs. Lists in Memory**\n",
    "**Arrays**:\n",
    "\n",
    "int arr[50]; ---> 50 contiguous memory blocks.\n",
    "Elements stored in binary form at consecutive addresses.\n",
    "**Lists**:\n",
    "\n",
    "list_example = [1, 2, 3] ---> Elements at different locations.\n",
    "Stores references/pointers to elements, not the values."
   ]
  },
  {
   "cell_type": "markdown",
   "id": "c7913900-9262-4ed2-87c8-b335129ae79d",
   "metadata": {},
   "source": [
    "**List Characteristics**"
   ]
  },
  {
   "cell_type": "code",
   "execution_count": 3,
   "id": "5e1fb042-2f6a-4814-982d-90c2c1e66a23",
   "metadata": {},
   "outputs": [
    {
     "data": {
      "text/plain": [
       "[]"
      ]
     },
     "execution_count": 3,
     "metadata": {},
     "output_type": "execute_result"
    }
   ],
   "source": [
    "L = []\n",
    "L"
   ]
  },
  {
   "cell_type": "code",
   "execution_count": 4,
   "id": "344daf4b-0264-4741-9c2f-3e76ce76cfa2",
   "metadata": {},
   "outputs": [
    {
     "data": {
      "text/plain": [
       "[1, 2, 3, 4, 5]"
      ]
     },
     "execution_count": 4,
     "metadata": {},
     "output_type": "execute_result"
    }
   ],
   "source": [
    "L1 = [1, 2, 3, 4, 5]\n",
    "L1"
   ]
  },
  {
   "cell_type": "code",
   "execution_count": 5,
   "id": "4038b65e-41d7-4e81-9943-5be5076a415f",
   "metadata": {},
   "outputs": [
    {
     "data": {
      "text/plain": [
       "[1, 2.5, 'Hello', True, 5]"
      ]
     },
     "execution_count": 5,
     "metadata": {},
     "output_type": "execute_result"
    }
   ],
   "source": [
    "L2 = [1, 2.5, \"Hello\", True, 5]\n",
    "L2"
   ]
  },
  {
   "cell_type": "code",
   "execution_count": 6,
   "id": "42249d77-ba85-4125-8f63-4fa818b9d102",
   "metadata": {},
   "outputs": [
    {
     "data": {
      "text/plain": [
       "[1, 2, 3, [4, 5]]"
      ]
     },
     "execution_count": 6,
     "metadata": {},
     "output_type": "execute_result"
    }
   ],
   "source": [
    "# Multidimentional list\n",
    "# 2D, List k andar list\n",
    "L3 = [1, 2, 3, [4, 5]]\n",
    "L3"
   ]
  },
  {
   "cell_type": "code",
   "execution_count": 8,
   "id": "9d2b35b0-1d5f-43ce-a1ec-4de85712d821",
   "metadata": {},
   "outputs": [
    {
     "data": {
      "text/plain": [
       "[[[1, 2], [3, 4]], [[5, 6], [7, 8]]]"
      ]
     },
     "execution_count": 8,
     "metadata": {},
     "output_type": "execute_result"
    }
   ],
   "source": [
    "L4 = [[[1, 2], [3, 4]], [[5, 6], [7, 8]]]\n",
    "L4 #3D List > list > List\n"
   ]
  },
  {
   "cell_type": "code",
   "execution_count": 9,
   "id": "bc79685f-7108-40ae-be08-3e10604666f0",
   "metadata": {},
   "outputs": [
    {
     "data": {
      "text/plain": [
       "['M', 'u', 'd', 'a', 's', 'i', 'r']"
      ]
     },
     "execution_count": 9,
     "metadata": {},
     "output_type": "execute_result"
    }
   ],
   "source": [
    "# Using Type Conversion, string ko list ma convert krna\n",
    "L5 = list(\"Mudasir\")\n",
    "L5"
   ]
  },
  {
   "cell_type": "markdown",
   "id": "b7e83c3d-edd5-4cd8-8a46-19925277a663",
   "metadata": {},
   "source": [
    "**Access in Lists**"
   ]
  },
  {
   "cell_type": "code",
   "execution_count": 11,
   "id": "30dc39c5-5c06-4906-9dac-cac7e9404ba7",
   "metadata": {},
   "outputs": [
    {
     "data": {
      "text/plain": [
       "1"
      ]
     },
     "execution_count": 11,
     "metadata": {},
     "output_type": "execute_result"
    }
   ],
   "source": [
    "L1[0]"
   ]
  },
  {
   "cell_type": "code",
   "execution_count": 12,
   "id": "42f31242-a244-480d-879e-fd00697ea43a",
   "metadata": {},
   "outputs": [
    {
     "data": {
      "text/plain": [
       "5"
      ]
     },
     "execution_count": 12,
     "metadata": {},
     "output_type": "execute_result"
    }
   ],
   "source": [
    "L1[-1]"
   ]
  },
  {
   "cell_type": "code",
   "execution_count": 13,
   "id": "02cd432c-2a65-4e0f-a342-0ed3906125a8",
   "metadata": {},
   "outputs": [
    {
     "data": {
      "text/plain": [
       "[2, 3]"
      ]
     },
     "execution_count": 13,
     "metadata": {},
     "output_type": "execute_result"
    }
   ],
   "source": [
    "L1[1:3]"
   ]
  },
  {
   "cell_type": "code",
   "execution_count": 14,
   "id": "222e5477-a9f0-4cc5-8df6-649a786415b6",
   "metadata": {},
   "outputs": [
    {
     "data": {
      "text/plain": [
       "[1, 2, 3, [4, 5]]"
      ]
     },
     "execution_count": 14,
     "metadata": {},
     "output_type": "execute_result"
    }
   ],
   "source": [
    "L3"
   ]
  },
  {
   "cell_type": "code",
   "execution_count": 18,
   "id": "a395f827-4b5f-492e-b984-1b836e42192d",
   "metadata": {},
   "outputs": [
    {
     "data": {
      "text/plain": [
       "[4, 5]"
      ]
     },
     "execution_count": 18,
     "metadata": {},
     "output_type": "execute_result"
    }
   ],
   "source": [
    "L3[-1]"
   ]
  },
  {
   "cell_type": "code",
   "execution_count": 19,
   "id": "ff98f3e2-4039-409d-9c7b-51e0bae2dbc0",
   "metadata": {},
   "outputs": [],
   "source": [
    "x = L3[-1]"
   ]
  },
  {
   "cell_type": "code",
   "execution_count": 20,
   "id": "59bbe011-1d44-4a5f-a8d6-3fcff8c061d2",
   "metadata": {},
   "outputs": [
    {
     "data": {
      "text/plain": [
       "[4, 5]"
      ]
     },
     "execution_count": 20,
     "metadata": {},
     "output_type": "execute_result"
    }
   ],
   "source": [
    "x"
   ]
  },
  {
   "cell_type": "code",
   "execution_count": 21,
   "id": "8f697f12-7699-40eb-bdc4-4e8a045f992f",
   "metadata": {},
   "outputs": [
    {
     "data": {
      "text/plain": [
       "4"
      ]
     },
     "execution_count": 21,
     "metadata": {},
     "output_type": "execute_result"
    }
   ],
   "source": [
    "x[0]"
   ]
  },
  {
   "cell_type": "code",
   "execution_count": 22,
   "id": "681ac6c9-5212-48cb-9a85-c584774f3660",
   "metadata": {},
   "outputs": [
    {
     "data": {
      "text/plain": [
       "4"
      ]
     },
     "execution_count": 22,
     "metadata": {},
     "output_type": "execute_result"
    }
   ],
   "source": [
    "L3[-1][0]"
   ]
  },
  {
   "cell_type": "code",
   "execution_count": 23,
   "id": "37ce3730-3e6f-40c5-a621-c12905156cd2",
   "metadata": {},
   "outputs": [
    {
     "data": {
      "text/plain": [
       "5"
      ]
     },
     "execution_count": 23,
     "metadata": {},
     "output_type": "execute_result"
    }
   ],
   "source": [
    "L3[-1][1]"
   ]
  },
  {
   "cell_type": "code",
   "execution_count": 24,
   "id": "ee148fac-03e8-4590-b3b2-c8b5d155828f",
   "metadata": {},
   "outputs": [
    {
     "data": {
      "text/plain": [
       "[[[1, 2], [3, 4]], [[5, 6], [7, 8]]]"
      ]
     },
     "execution_count": 24,
     "metadata": {},
     "output_type": "execute_result"
    }
   ],
   "source": [
    "L4"
   ]
  },
  {
   "cell_type": "code",
   "execution_count": null,
   "id": "3fc84bdd-c91a-483b-85c5-51cc4bf882bc",
   "metadata": {},
   "outputs": [],
   "source": [
    "L4 = [\n",
    "       [ [1, 2], [3, 4] ],   # L4[0]\n",
    "       [ [5, 6], [7, 8] ]    # L4[1]\n",
    "     ]"
   ]
  },
  {
   "cell_type": "code",
   "execution_count": 27,
   "id": "e035ac9c-327e-4651-a0b0-73a4967455cb",
   "metadata": {},
   "outputs": [
    {
     "data": {
      "text/plain": [
       "[[1, 2], [3, 4]]"
      ]
     },
     "execution_count": 27,
     "metadata": {},
     "output_type": "execute_result"
    }
   ],
   "source": [
    "L4[0]"
   ]
  },
  {
   "cell_type": "code",
   "execution_count": 28,
   "id": "d01f1560-9787-4e5f-b2b0-ad3bcbdae1dd",
   "metadata": {},
   "outputs": [
    {
     "data": {
      "text/plain": [
       "[[5, 6], [7, 8]]"
      ]
     },
     "execution_count": 28,
     "metadata": {},
     "output_type": "execute_result"
    }
   ],
   "source": [
    "L4[1]"
   ]
  },
  {
   "cell_type": "code",
   "execution_count": 31,
   "id": "4a5d73b7-8386-4f4a-8ca9-579b8a4b2722",
   "metadata": {},
   "outputs": [
    {
     "data": {
      "text/plain": [
       "7"
      ]
     },
     "execution_count": 31,
     "metadata": {},
     "output_type": "execute_result"
    }
   ],
   "source": [
    "L4[1][1][0]"
   ]
  },
  {
   "cell_type": "markdown",
   "id": "9bd12d61-d7b2-40af-a401-0fc57ac34bba",
   "metadata": {},
   "source": [
    "**Edit**"
   ]
  },
  {
   "cell_type": "code",
   "execution_count": 32,
   "id": "71fc2434-4109-4976-b1fc-4cd278b04569",
   "metadata": {},
   "outputs": [
    {
     "data": {
      "text/plain": [
       "[1, 2, 3, 4, 5]"
      ]
     },
     "execution_count": 32,
     "metadata": {},
     "output_type": "execute_result"
    }
   ],
   "source": [
    "L1\n"
   ]
  },
  {
   "cell_type": "code",
   "execution_count": 33,
   "id": "1c79c1e6-e84e-48ca-85cd-3d869533f965",
   "metadata": {},
   "outputs": [
    {
     "data": {
      "text/plain": [
       "[100, 2, 3, 4, 5]"
      ]
     },
     "execution_count": 33,
     "metadata": {},
     "output_type": "execute_result"
    }
   ],
   "source": [
    "L1[0] = 100\n",
    "L1"
   ]
  },
  {
   "cell_type": "code",
   "execution_count": 35,
   "id": "22dbe026-86da-4a34-bd20-fea1f0ec1e3d",
   "metadata": {},
   "outputs": [
    {
     "data": {
      "text/plain": [
       "[100, 2, 3, 4, 178]"
      ]
     },
     "execution_count": 35,
     "metadata": {},
     "output_type": "execute_result"
    }
   ],
   "source": [
    "L1[-1] = 178\n",
    "L1"
   ]
  },
  {
   "cell_type": "markdown",
   "id": "90ae4fad-576b-4f77-a67e-d7fbc91f7a9b",
   "metadata": {},
   "source": [
    "**4. Add\n",
    "append()\n",
    "extend()\n",
    "insert()**"
   ]
  },
  {
   "cell_type": "code",
   "execution_count": 36,
   "id": "379eb5c7-090e-459f-82a6-29706ef0cefc",
   "metadata": {},
   "outputs": [],
   "source": [
    "L1.append(\"kanckn\")"
   ]
  },
  {
   "cell_type": "code",
   "execution_count": 37,
   "id": "3ddad12a-a7da-4cd3-a228-ce3e305a790e",
   "metadata": {},
   "outputs": [
    {
     "data": {
      "text/plain": [
       "[100, 2, 3, 4, 178, 'kanckn']"
      ]
     },
     "execution_count": 37,
     "metadata": {},
     "output_type": "execute_result"
    }
   ],
   "source": [
    "L1"
   ]
  },
  {
   "cell_type": "code",
   "execution_count": 39,
   "id": "5249a84c-c2f8-49fb-bf32-0bbc743a889f",
   "metadata": {},
   "outputs": [
    {
     "data": {
      "text/plain": [
       "[100, 2, 3, 4, 178, 'kanckn', 5000, 6000, 7000, 5000, 'hlo', 7000]"
      ]
     },
     "execution_count": 39,
     "metadata": {},
     "output_type": "execute_result"
    }
   ],
   "source": [
    "L1.extend([5000, \"hlo\", 7000])\n",
    "L1"
   ]
  },
  {
   "cell_type": "markdown",
   "id": "9f041e77-8915-4826-9940-6d3ba288673c",
   "metadata": {},
   "source": [
    "L1.insert(1, \"world\")\n",
    "L1                   #specific position pa add karna"
   ]
  },
  {
   "cell_type": "markdown",
   "id": "9accdf28-0ddd-4ca0-934c-6e872b168640",
   "metadata": {},
   "source": [
    "**Delete**"
   ]
  },
  {
   "cell_type": "code",
   "execution_count": 45,
   "id": "237a7033-4ace-4686-8ed3-a3be98004567",
   "metadata": {},
   "outputs": [
    {
     "data": {
      "text/plain": [
       "[1, 2.5, 'Hello', True, 5]"
      ]
     },
     "execution_count": 45,
     "metadata": {},
     "output_type": "execute_result"
    }
   ],
   "source": [
    "L2"
   ]
  },
  {
   "cell_type": "code",
   "execution_count": 46,
   "id": "be7d9deb-dcba-49b5-8e9c-4ccf5aa47ec4",
   "metadata": {},
   "outputs": [],
   "source": [
    "del L2[0]"
   ]
  },
  {
   "cell_type": "code",
   "execution_count": 47,
   "id": "9d44bcfc-ab97-4f93-8df8-88bb9b6a0d2d",
   "metadata": {},
   "outputs": [
    {
     "data": {
      "text/plain": [
       "[2.5, 'Hello', True, 5]"
      ]
     },
     "execution_count": 47,
     "metadata": {},
     "output_type": "execute_result"
    }
   ],
   "source": [
    "L2"
   ]
  },
  {
   "cell_type": "code",
   "execution_count": 48,
   "id": "78daf183-8b56-42cf-baa3-a2c4016b31c4",
   "metadata": {},
   "outputs": [],
   "source": [
    "del L2"
   ]
  },
  {
   "cell_type": "code",
   "execution_count": 49,
   "id": "bdf2b4af-8560-4060-9e48-1b7c70f00be2",
   "metadata": {},
   "outputs": [
    {
     "ename": "NameError",
     "evalue": "name 'L2' is not defined",
     "output_type": "error",
     "traceback": [
      "\u001b[1;31m---------------------------------------------------------------------------\u001b[0m",
      "\u001b[1;31mNameError\u001b[0m                                 Traceback (most recent call last)",
      "Cell \u001b[1;32mIn[49], line 1\u001b[0m\n\u001b[1;32m----> 1\u001b[0m \u001b[43mL2\u001b[49m\n",
      "\u001b[1;31mNameError\u001b[0m: name 'L2' is not defined"
     ]
    }
   ],
   "source": [
    "L2"
   ]
  },
  {
   "cell_type": "code",
   "execution_count": 50,
   "id": "df0e5619-3318-4d5a-96f4-e67fafc9c485",
   "metadata": {},
   "outputs": [
    {
     "data": {
      "text/plain": [
       "[1, 2, 3, [4, 5]]"
      ]
     },
     "execution_count": 50,
     "metadata": {},
     "output_type": "execute_result"
    }
   ],
   "source": [
    "L3"
   ]
  },
  {
   "cell_type": "code",
   "execution_count": 51,
   "id": "07c99509-a7dc-49aa-b52f-f3905f30d9c3",
   "metadata": {},
   "outputs": [],
   "source": [
    "del L3[-1]"
   ]
  },
  {
   "cell_type": "code",
   "execution_count": 52,
   "id": "9f524ce6-f378-49ac-ba82-96d620799c20",
   "metadata": {},
   "outputs": [
    {
     "data": {
      "text/plain": [
       "[1, 2, 3]"
      ]
     },
     "execution_count": 52,
     "metadata": {},
     "output_type": "execute_result"
    }
   ],
   "source": [
    "L3"
   ]
  },
  {
   "cell_type": "code",
   "execution_count": 53,
   "id": "6bbefe06-7ea1-4be9-826b-3a263ca4e77c",
   "metadata": {},
   "outputs": [
    {
     "data": {
      "text/plain": [
       "3"
      ]
     },
     "execution_count": 53,
     "metadata": {},
     "output_type": "execute_result"
    }
   ],
   "source": [
    "L3.pop()"
   ]
  },
  {
   "cell_type": "code",
   "execution_count": 54,
   "id": "eeab8a7c-860f-41e6-b177-c08c38aaed86",
   "metadata": {},
   "outputs": [
    {
     "data": {
      "text/plain": [
       "[1, 2]"
      ]
     },
     "execution_count": 54,
     "metadata": {},
     "output_type": "execute_result"
    }
   ],
   "source": [
    "L3"
   ]
  },
  {
   "cell_type": "code",
   "execution_count": 55,
   "id": "3ad39638-2bae-4585-aa7b-953f8db03cd3",
   "metadata": {},
   "outputs": [],
   "source": [
    "L3.remove(1)"
   ]
  },
  {
   "cell_type": "code",
   "execution_count": 56,
   "id": "09271f17-c1ea-41f8-af89-8a71cb09ee3e",
   "metadata": {},
   "outputs": [
    {
     "data": {
      "text/plain": [
       "[2]"
      ]
     },
     "execution_count": 56,
     "metadata": {},
     "output_type": "execute_result"
    }
   ],
   "source": [
    "L3"
   ]
  },
  {
   "cell_type": "code",
   "execution_count": 59,
   "id": "f1462da2-aa10-4176-8143-c91b6e8bebd7",
   "metadata": {},
   "outputs": [],
   "source": [
    "L3.append(\"kjewkd\")"
   ]
  },
  {
   "cell_type": "code",
   "execution_count": 60,
   "id": "dac78762-f90f-4df2-a527-24cd38c2b450",
   "metadata": {},
   "outputs": [
    {
     "data": {
      "text/plain": [
       "[2, 'kjewkd']"
      ]
     },
     "execution_count": 60,
     "metadata": {},
     "output_type": "execute_result"
    }
   ],
   "source": [
    "L3"
   ]
  },
  {
   "cell_type": "code",
   "execution_count": 61,
   "id": "03c88fde-d0ed-4d05-bf51-8c5cafa5c7a9",
   "metadata": {},
   "outputs": [
    {
     "data": {
      "text/plain": [
       "<function list.clear()>"
      ]
     },
     "execution_count": 61,
     "metadata": {},
     "output_type": "execute_result"
    }
   ],
   "source": [
    "L3.clear"
   ]
  },
  {
   "cell_type": "code",
   "execution_count": 62,
   "id": "014be35a-55a5-48ca-8174-cd3f7f108839",
   "metadata": {},
   "outputs": [],
   "source": [
    "L3.clear()# clear function will empty the list"
   ]
  },
  {
   "cell_type": "code",
   "execution_count": 63,
   "id": "0d8c29c6-0093-4f63-ab12-03569569ccec",
   "metadata": {},
   "outputs": [
    {
     "data": {
      "text/plain": [
       "[]"
      ]
     },
     "execution_count": 63,
     "metadata": {},
     "output_type": "execute_result"
    }
   ],
   "source": [
    "L3"
   ]
  },
  {
   "cell_type": "markdown",
   "id": "3732db84-31cc-4324-8a98-6e44f74e7e04",
   "metadata": {},
   "source": [
    "**Operations**"
   ]
  },
  {
   "cell_type": "code",
   "execution_count": 64,
   "id": "196216d9-b37c-4d33-a8fe-c79ec9f9b9fa",
   "metadata": {},
   "outputs": [],
   "source": [
    "L = [1, 2, 3, 4]\n",
    "L1 = [5, 6, 7, 8]"
   ]
  },
  {
   "cell_type": "code",
   "execution_count": 65,
   "id": "5faff60d-5eed-4ddf-8e30-9350e9bee0e4",
   "metadata": {},
   "outputs": [
    {
     "data": {
      "text/plain": [
       "[1, 2, 3, 4, 5, 6, 7, 8]"
      ]
     },
     "execution_count": 65,
     "metadata": {},
     "output_type": "execute_result"
    }
   ],
   "source": [
    "L + L1 # concatenation or merge"
   ]
  },
  {
   "cell_type": "code",
   "execution_count": 66,
   "id": "b3a1bf13-4a15-42e1-b4b9-48a38eacde9a",
   "metadata": {},
   "outputs": [
    {
     "data": {
      "text/plain": [
       "True"
      ]
     },
     "execution_count": 66,
     "metadata": {},
     "output_type": "execute_result"
    }
   ],
   "source": [
    " 1 in Ln # Memeberhsip operator"
   ]
  },
  {
   "cell_type": "code",
   "execution_count": 68,
   "id": "64b86ab8-7561-4cec-b367-a554908ab82d",
   "metadata": {},
   "outputs": [
    {
     "data": {
      "text/plain": [
       "False"
      ]
     },
     "execution_count": 68,
     "metadata": {},
     "output_type": "execute_result"
    }
   ],
   "source": [
    "1 not in L"
   ]
  },
  {
   "cell_type": "code",
   "execution_count": 69,
   "id": "1a1d222a-e268-4175-85ec-6627cbe66c2e",
   "metadata": {},
   "outputs": [
    {
     "name": "stdout",
     "output_type": "stream",
     "text": [
      "1\n",
      "2\n",
      "3\n",
      "4\n"
     ]
    }
   ],
   "source": [
    "# Loops\n",
    "for i in L:\n",
    "    print(i)"
   ]
  },
  {
   "cell_type": "code",
   "execution_count": 70,
   "id": "dc163457-0b9a-44d1-87e6-0a9b12b8ecc8",
   "metadata": {},
   "outputs": [
    {
     "name": "stdout",
     "output_type": "stream",
     "text": [
      "3\n",
      "6\n",
      "9\n",
      "12\n"
     ]
    }
   ],
   "source": [
    "# Loops\n",
    "for i in L:\n",
    "    print(i*3)"
   ]
  },
  {
   "cell_type": "code",
   "execution_count": 73,
   "id": "0ece02d0-5a0d-45e2-80d6-e29470bfda97",
   "metadata": {},
   "outputs": [
    {
     "data": {
      "text/plain": [
       "[12, 33, [6, 7, 8]]"
      ]
     },
     "execution_count": 73,
     "metadata": {},
     "output_type": "execute_result"
    }
   ],
   "source": [
    "L3 =  [12,33,[6,7,8]]\n",
    "L3"
   ]
  },
  {
   "cell_type": "code",
   "execution_count": 74,
   "id": "3f5fce50-7503-4172-9c67-335c98897795",
   "metadata": {},
   "outputs": [
    {
     "name": "stdout",
     "output_type": "stream",
     "text": [
      "12\n",
      "33\n",
      "[6, 7, 8]\n"
     ]
    }
   ],
   "source": [
    "# Loops\n",
    "for i in L3:\n",
    "    print(i)"
   ]
  },
  {
   "cell_type": "markdown",
   "id": "e2697ebe-6d46-4d1d-b3de-4101775b1d63",
   "metadata": {},
   "source": [
    "**Functions**"
   ]
  },
  {
   "cell_type": "code",
   "execution_count": 76,
   "id": "630f59bf-9df1-4d4d-ada0-9910a37f2559",
   "metadata": {},
   "outputs": [
    {
     "data": {
      "text/plain": [
       "[1, 2, 3, 4]"
      ]
     },
     "execution_count": 76,
     "metadata": {},
     "output_type": "execute_result"
    }
   ],
   "source": [
    "L"
   ]
  },
  {
   "cell_type": "code",
   "execution_count": 77,
   "id": "4678a945-9576-41b1-a3c6-e663b3995c4b",
   "metadata": {},
   "outputs": [
    {
     "data": {
      "text/plain": [
       "4"
      ]
     },
     "execution_count": 77,
     "metadata": {},
     "output_type": "execute_result"
    }
   ],
   "source": [
    "len(L)"
   ]
  },
  {
   "cell_type": "code",
   "execution_count": 80,
   "id": "9da7365f-2528-4cfd-b449-ae3fdb34f75a",
   "metadata": {},
   "outputs": [
    {
     "data": {
      "text/plain": [
       "4"
      ]
     },
     "execution_count": 80,
     "metadata": {},
     "output_type": "execute_result"
    }
   ],
   "source": [
    "max(L)\n"
   ]
  },
  {
   "cell_type": "code",
   "execution_count": 81,
   "id": "f87a1c47-7c84-428b-80c5-7dcef36329d9",
   "metadata": {},
   "outputs": [
    {
     "data": {
      "text/plain": [
       "1"
      ]
     },
     "execution_count": 81,
     "metadata": {},
     "output_type": "execute_result"
    }
   ],
   "source": [
    "min(L)"
   ]
  },
  {
   "cell_type": "code",
   "execution_count": 82,
   "id": "8f7762e4-500a-472e-8ecc-6f669aba5fb1",
   "metadata": {},
   "outputs": [
    {
     "data": {
      "text/plain": [
       "[1, 2, 3, 4]"
      ]
     },
     "execution_count": 82,
     "metadata": {},
     "output_type": "execute_result"
    }
   ],
   "source": [
    "sorted(L)"
   ]
  },
  {
   "cell_type": "code",
   "execution_count": 83,
   "id": "d488d5e8-e227-489a-bf93-3a51dfe0c5fc",
   "metadata": {},
   "outputs": [
    {
     "data": {
      "text/plain": [
       "[4, 3, 2, 1]"
      ]
     },
     "execution_count": 83,
     "metadata": {},
     "output_type": "execute_result"
    }
   ],
   "source": [
    "[1, 2, 3, 4]\n",
    "sorted(L, reverse = True)# sorted will create a new list in memory"
   ]
  },
  {
   "cell_type": "code",
   "execution_count": 84,
   "id": "aa7f422f-d06a-4d26-bdc0-e38a31c18fbe",
   "metadata": {},
   "outputs": [
    {
     "data": {
      "text/plain": [
       "[1, 2, 3, 4]"
      ]
     },
     "execution_count": 84,
     "metadata": {},
     "output_type": "execute_result"
    }
   ],
   "source": [
    "L"
   ]
  },
  {
   "cell_type": "code",
   "execution_count": 90,
   "id": "26df745e-ae02-4259-8d8e-db505672c9e4",
   "metadata": {},
   "outputs": [
    {
     "name": "stdout",
     "output_type": "stream",
     "text": [
      "[1, 2, 5, 9]\n"
     ]
    }
   ],
   "source": [
    "nums = [5, 2, 9, 1]\n",
    "nums.sort()\n",
    "print(nums)"
   ]
  },
  {
   "cell_type": "code",
   "execution_count": 89,
   "id": "a55249ef-ff14-43ab-951e-53af6b9e83ac",
   "metadata": {},
   "outputs": [
    {
     "name": "stdout",
     "output_type": "stream",
     "text": [
      "[1, 2, 5, 9]\n",
      "[5, 2, 9, 1]\n"
     ]
    }
   ],
   "source": [
    "nums = [5, 2, 9, 1]\n",
    "new_nums = sorted(nums)\n",
    "print(new_nums)  \n",
    "print(nums)"
   ]
  },
  {
   "cell_type": "code",
   "execution_count": 91,
   "id": "617223bb-1903-431f-a8a2-e382c3a65e5d",
   "metadata": {},
   "outputs": [
    {
     "data": {
      "text/plain": [
       "[1, 2, 3, 4]"
      ]
     },
     "execution_count": 91,
     "metadata": {},
     "output_type": "execute_result"
    }
   ],
   "source": [
    "L"
   ]
  },
  {
   "cell_type": "code",
   "execution_count": 93,
   "id": "57697183-051a-4900-9e18-41f562c30060",
   "metadata": {},
   "outputs": [],
   "source": [
    "L.sort(reverse = True) # Sort will permenntly change"
   ]
  },
  {
   "cell_type": "code",
   "execution_count": 94,
   "id": "22b06cd5-70c6-4d5c-8b7b-ab86192e3d3d",
   "metadata": {},
   "outputs": [
    {
     "data": {
      "text/plain": [
       "[4, 3, 2, 1]"
      ]
     },
     "execution_count": 94,
     "metadata": {},
     "output_type": "execute_result"
    }
   ],
   "source": [
    "L"
   ]
  },
  {
   "cell_type": "code",
   "execution_count": 95,
   "id": "17794ede-62c0-4ae1-ae15-bfb37df7abc7",
   "metadata": {},
   "outputs": [
    {
     "name": "stdout",
     "output_type": "stream",
     "text": [
      "[2, 1, 5, 7, 0]\n",
      "[0, 1, 2, 5, 7]\n",
      "[2, 1, 5, 7, 0]\n",
      "[0, 1, 2, 5, 7]\n"
     ]
    }
   ],
   "source": [
    "# sort (vs sorted)\n",
    "L = [2, 1, 5, 7, 0]\n",
    "print(L)\n",
    "print(sorted(L)) # New sorted list\n",
    "print(L)         # Original list (unchanged)\n",
    "L.sort()\n",
    "print(L) "
   ]
  },
  {
   "cell_type": "code",
   "execution_count": null,
   "id": "dd8c716d-0827-4b1f-b04a-3df8d05108b4",
   "metadata": {},
   "outputs": [],
   "source": []
  }
 ],
 "metadata": {
  "kernelspec": {
   "display_name": "Python 3 (ipykernel)",
   "language": "python",
   "name": "python3"
  },
  "language_info": {
   "codemirror_mode": {
    "name": "ipython",
    "version": 3
   },
   "file_extension": ".py",
   "mimetype": "text/x-python",
   "name": "python",
   "nbconvert_exporter": "python",
   "pygments_lexer": "ipython3",
   "version": "3.10.9"
  }
 },
 "nbformat": 4,
 "nbformat_minor": 5
}
