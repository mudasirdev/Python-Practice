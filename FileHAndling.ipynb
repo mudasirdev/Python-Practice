{
 "cells": [
  {
   "cell_type": "code",
   "execution_count": 31,
   "id": "ec078960-c025-43fe-b4c2-6326a81f5375",
   "metadata": {},
   "outputs": [
    {
     "name": "stdout",
     "output_type": "stream",
     "text": [
      "Hello g ,  ma Pthon seek raha ho ,\n",
      "aap kab sa start kr raha ha..\n",
      "<class 'str'>\n"
     ]
    }
   ],
   "source": [
    "f=open(\"demo.txt\")\n",
    "data =f.read()\n",
    "print(data)\n",
    "print(type(data))\n",
    "f.close()\n",
    "\n"
   ]
  },
  {
   "cell_type": "code",
   "execution_count": 33,
   "id": "c880eb0b-eac2-4705-9af7-d348225c599a",
   "metadata": {},
   "outputs": [
    {
     "name": "stdout",
     "output_type": "stream",
     "text": [
      "Hell\n",
      "<class 'str'>\n"
     ]
    }
   ],
   "source": [
    "f=open(\"demo.txt\")\n",
    "data =f.read(4)\n",
    "print(data)\n",
    "print(type(data))\n",
    "f.close()"
   ]
  },
  {
   "cell_type": "code",
   "execution_count": 37,
   "id": "6354840b-a64e-4ef7-8512-c5725e959092",
   "metadata": {},
   "outputs": [
    {
     "name": "stdout",
     "output_type": "stream",
     "text": [
      "Hello g ,  ma Pthon seek raha ho.\n",
      "\n",
      "aap kab sa start kr raha ha.\n",
      "\n"
     ]
    }
   ],
   "source": [
    "f=open(\"demo.txt\")\n",
    "line1 =f.readline()\n",
    "print(line1)\n",
    "\n",
    "line2 =f.readline()\n",
    "print(line2)\n",
    "  # lines ko alag alag print kr diya\n",
    "f.close()"
   ]
  },
  {
   "cell_type": "code",
   "execution_count": 45,
   "id": "834dedbb-98cb-4938-b169-79e648dc4ac7",
   "metadata": {},
   "outputs": [],
   "source": [
    "f=open(\"demo.txt\",\"w\")\n",
    "\n",
    "f.write(\"ma na recent aik acah kaam kiya\")\n",
    "\n",
    "f.close()"
   ]
  },
  {
   "cell_type": "code",
   "execution_count": 49,
   "id": "e8aca166-ecf1-4773-8976-cfd74e6422a3",
   "metadata": {},
   "outputs": [],
   "source": [
    "f=open(\"demo.txt\",\"a\")\n",
    "\n",
    "f.write(\"\\nminsaan ek kamzoor makhloq kh alka ban e adma 789\")\n",
    "\n",
    "f.close()"
   ]
  },
  {
   "cell_type": "code",
   "execution_count": 51,
   "id": "10a1c469-3da2-4cb5-b499-4e2b91413e61",
   "metadata": {},
   "outputs": [],
   "source": [
    "f=open(\"nai.txt\",\"w\")\n",
    "f.close()"
   ]
  },
  {
   "cell_type": "code",
   "execution_count": 55,
   "id": "d961553a-5e04-40d1-93ae-093637eaf20e",
   "metadata": {},
   "outputs": [
    {
     "name": "stdout",
     "output_type": "stream",
     "text": [
      "ma na recent aik acah kaam kiyaminsaan ek kamzoor makhloq kh alka ban e adma 789\n",
      "minsaan ek kamzoor makhloq kh alka ban e adma 789\n",
      "<class 'str'>\n"
     ]
    }
   ],
   "source": [
    "with open(\"demo.txt\", \"r\") as f:\n",
    "    data =f.read()\n",
    "print(data)\n",
    "print(type(data))\n",
    "f.close()\n",
    "\n"
   ]
  },
  {
   "cell_type": "code",
   "execution_count": null,
   "id": "f3c95dd9-cd14-4f00-a2af-3bc857275382",
   "metadata": {},
   "outputs": [],
   "source": []
  }
 ],
 "metadata": {
  "kernelspec": {
   "display_name": "Python 3 (ipykernel)",
   "language": "python",
   "name": "python3"
  },
  "language_info": {
   "codemirror_mode": {
    "name": "ipython",
    "version": 3
   },
   "file_extension": ".py",
   "mimetype": "text/x-python",
   "name": "python",
   "nbconvert_exporter": "python",
   "pygments_lexer": "ipython3",
   "version": "3.12.4"
  }
 },
 "nbformat": 4,
 "nbformat_minor": 5
}
