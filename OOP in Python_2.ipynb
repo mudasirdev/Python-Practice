{
 "cells": [
  {
   "cell_type": "markdown",
   "id": "7394fb27-4424-447c-a407-06e149456e02",
   "metadata": {},
   "source": [
    "**OOP in Python**"
   ]
  },
  {
   "cell_type": "code",
   "execution_count": 3,
   "id": "fd4d6c84-9e06-40d0-a09f-acd4bd268edb",
   "metadata": {},
   "outputs": [],
   "source": [
    "class Student:\n",
    "    def __init__(self, name):\n",
    "        self.name=name\n",
    "\n",
    "s1=Student(\"Ali\")\n",
    "del s1"
   ]
  },
  {
   "cell_type": "code",
   "execution_count": 7,
   "id": "6dd1aec8-ebc2-4fe7-9886-50da5779eef0",
   "metadata": {},
   "outputs": [
    {
     "ename": "NameError",
     "evalue": "name 's1' is not defined",
     "output_type": "error",
     "traceback": [
      "\u001b[1;31m---------------------------------------------------------------------------\u001b[0m",
      "\u001b[1;31mNameError\u001b[0m                                 Traceback (most recent call last)",
      "Cell \u001b[1;32mIn[7], line 1\u001b[0m\n\u001b[1;32m----> 1\u001b[0m \u001b[38;5;28mprint\u001b[39m(s1)\n",
      "\u001b[1;31mNameError\u001b[0m: name 's1' is not defined"
     ]
    }
   ],
   "source": [
    "print(s1)"
   ]
  },
  {
   "cell_type": "code",
   "execution_count": 9,
   "id": "ea5a4ee0-c214-4e0f-a145-daed9c6c51fb",
   "metadata": {},
   "outputs": [
    {
     "name": "stdout",
     "output_type": "stream",
     "text": [
      "1233 kalko\n"
     ]
    }
   ],
   "source": [
    "class Account:\n",
    "    def __init__(self,account_no,account_pass):\n",
    "        self.account_no = account_no\n",
    "        self.account_pass = account_pass\n",
    "\n",
    "s1= Account(\"1233\",\"kalko\")\n",
    "print(s1.account_no, s1.account_pass)"
   ]
  },
  {
   "cell_type": "code",
   "execution_count": 13,
   "id": "19ee77eb-0e3d-47b2-a577-c95405ae082d",
   "metadata": {},
   "outputs": [
    {
     "name": "stdout",
     "output_type": "stream",
     "text": [
      "1233\n"
     ]
    },
    {
     "ename": "AttributeError",
     "evalue": "'Account' object has no attribute '__account_pass'",
     "output_type": "error",
     "traceback": [
      "\u001b[1;31m---------------------------------------------------------------------------\u001b[0m",
      "\u001b[1;31mAttributeError\u001b[0m                            Traceback (most recent call last)",
      "Cell \u001b[1;32mIn[13], line 8\u001b[0m\n\u001b[0;32m      6\u001b[0m s1\u001b[38;5;241m=\u001b[39m Account(\u001b[38;5;124m\"\u001b[39m\u001b[38;5;124m1233\u001b[39m\u001b[38;5;124m\"\u001b[39m,\u001b[38;5;124m\"\u001b[39m\u001b[38;5;124mkalko\u001b[39m\u001b[38;5;124m\"\u001b[39m)\n\u001b[0;32m      7\u001b[0m \u001b[38;5;28mprint\u001b[39m(s1\u001b[38;5;241m.\u001b[39maccount_no)\n\u001b[1;32m----> 8\u001b[0m \u001b[38;5;28mprint\u001b[39m(s1\u001b[38;5;241m.\u001b[39m__account_pass)\n",
      "\u001b[1;31mAttributeError\u001b[0m: 'Account' object has no attribute '__account_pass'"
     ]
    }
   ],
   "source": [
    "class Account:\n",
    "    def __init__(self,account_no,account_pass):\n",
    "        self.account_no = account_no\n",
    "        self.__account_pass = account_pass\n",
    "s1= Account(\"1233\",\"kalko\")\n",
    "print(s1.account_no)\n",
    "print(s1.__account_pass) # ham na pass ko proivate kr diya is liya bahir access anhi kr skta.."
   ]
  },
  {
   "cell_type": "code",
   "execution_count": 17,
   "id": "433e2b2f-6f89-4c21-8e2a-9b9697069a6a",
   "metadata": {},
   "outputs": [
    {
     "name": "stdout",
     "output_type": "stream",
     "text": [
      "1233\n",
      "kalko\n",
      "None\n"
     ]
    }
   ],
   "source": [
    "class Account:\n",
    "    def __init__(self,account_no,account_pass):\n",
    "        self.account_no = account_no\n",
    "        self.__account_pass = account_pass\n",
    "    def reset_pass(self):\n",
    "        print(self.__account_pass)\n",
    "\n",
    "s1= Account(\"1233\",\"kalko\")\n",
    "print(s1.account_no)\n",
    "print(s1.reset_pass())\n",
    "\n",
    "        "
   ]
  },
  {
   "cell_type": "code",
   "execution_count": 21,
   "id": "adf22b69-0299-4c96-8eae-01fa08cd979a",
   "metadata": {},
   "outputs": [
    {
     "name": "stdout",
     "output_type": "stream",
     "text": [
      "Ali\n"
     ]
    }
   ],
   "source": [
    "class Pakistan:\n",
    "    __name=\"Ali\"  # we have made this attribute private.\n",
    "\n",
    "c1 = Pakistan()\n",
    "print(c1.__name) "
   ]
  },
  {
   "cell_type": "code",
   "execution_count": 29,
   "id": "e9ff5223-64b2-4d89-94d8-62d70f911c4d",
   "metadata": {},
   "outputs": [
    {
     "name": "stdout",
     "output_type": "stream",
     "text": [
      "Mera bhai..\n",
      "None\n"
     ]
    }
   ],
   "source": [
    "class Pakistan:\n",
    "    __name=\"Ali\"  # we have made this attribute private.\n",
    "\n",
    "    def kpk(self):\n",
    "        print(\"Mera bhai..\")\n",
    "       \n",
    "c1 = Pakistan() \n",
    "print(c1.kpk()) "
   ]
  },
  {
   "cell_type": "code",
   "execution_count": 31,
   "id": "3a012129-e42a-4e01-a1bb-d15da4bef209",
   "metadata": {},
   "outputs": [
    {
     "ename": "AttributeError",
     "evalue": "'Pakistan' object has no attribute '__kpk'",
     "output_type": "error",
     "traceback": [
      "\u001b[1;31m---------------------------------------------------------------------------\u001b[0m",
      "\u001b[1;31mAttributeError\u001b[0m                            Traceback (most recent call last)",
      "Cell \u001b[1;32mIn[31], line 8\u001b[0m\n\u001b[0;32m      5\u001b[0m         \u001b[38;5;28mprint\u001b[39m(\u001b[38;5;124m\"\u001b[39m\u001b[38;5;124mMera bhai..\u001b[39m\u001b[38;5;124m\"\u001b[39m)\n\u001b[0;32m      7\u001b[0m c1 \u001b[38;5;241m=\u001b[39m Pakistan() \n\u001b[1;32m----> 8\u001b[0m \u001b[38;5;28mprint\u001b[39m(c1\u001b[38;5;241m.\u001b[39m__kpk())\n",
      "\u001b[1;31mAttributeError\u001b[0m: 'Pakistan' object has no attribute '__kpk'"
     ]
    }
   ],
   "source": [
    "class Pakistan:\n",
    "    __name=\"Ali\"  \n",
    "\n",
    "    def __kpk(self):   # we have made this method also private.\n",
    "        print(\"Mera bhai..\")\n",
    "       \n",
    "c1 = Pakistan() \n",
    "print(c1.__kpk()) "
   ]
  },
  {
   "cell_type": "code",
   "execution_count": 33,
   "id": "ded8de22-8b4a-493e-be5b-71e3ce2d4ce8",
   "metadata": {},
   "outputs": [
    {
     "name": "stdout",
     "output_type": "stream",
     "text": [
      "Mera bhai..\n",
      "None\n"
     ]
    },
    {
     "ename": "AttributeError",
     "evalue": "'Pakistan' object has no attribute '__name'",
     "output_type": "error",
     "traceback": [
      "\u001b[1;31m---------------------------------------------------------------------------\u001b[0m",
      "\u001b[1;31mAttributeError\u001b[0m                            Traceback (most recent call last)",
      "Cell \u001b[1;32mIn[33], line 9\u001b[0m\n\u001b[0;32m      7\u001b[0m c1 \u001b[38;5;241m=\u001b[39m Pakistan() \n\u001b[0;32m      8\u001b[0m \u001b[38;5;28mprint\u001b[39m(c1\u001b[38;5;241m.\u001b[39mkpk()) \n\u001b[1;32m----> 9\u001b[0m \u001b[38;5;28mprint\u001b[39m(c1\u001b[38;5;241m.\u001b[39m__name)\n",
      "\u001b[1;31mAttributeError\u001b[0m: 'Pakistan' object has no attribute '__name'"
     ]
    }
   ],
   "source": [
    "class Pakistan:\n",
    "    __name=\"Ali\"  # we have made this attribute private.\n",
    "\n",
    "    def kpk(self):\n",
    "        print(\"Mera bhai..\")\n",
    "       \n",
    "c1 = Pakistan() \n",
    "print(c1.kpk()) \n",
    "print(c1.__name) "
   ]
  },
  {
   "cell_type": "code",
   "execution_count": 41,
   "id": "9afc2e8c-65ce-4ee8-a964-70610389fb58",
   "metadata": {},
   "outputs": [
    {
     "name": "stdout",
     "output_type": "stream",
     "text": [
      "Welcome to kpk mera bhai..\n",
      "0\n"
     ]
    },
    {
     "ename": "AttributeError",
     "evalue": "'Pakistan' object has no attribute '__name'",
     "output_type": "error",
     "traceback": [
      "\u001b[1;31m---------------------------------------------------------------------------\u001b[0m",
      "\u001b[1;31mAttributeError\u001b[0m                            Traceback (most recent call last)",
      "Cell \u001b[1;32mIn[41], line 13\u001b[0m\n\u001b[0;32m     11\u001b[0m c1 \u001b[38;5;241m=\u001b[39m Pakistan() \n\u001b[0;32m     12\u001b[0m \u001b[38;5;28mprint\u001b[39m(c1\u001b[38;5;241m.\u001b[39mwelcome())\n\u001b[1;32m---> 13\u001b[0m \u001b[38;5;28mprint\u001b[39m(c1\u001b[38;5;241m.\u001b[39m__name)\n",
      "\u001b[1;31mAttributeError\u001b[0m: 'Pakistan' object has no attribute '__name'"
     ]
    }
   ],
   "source": [
    "class Pakistan:\n",
    "    __name=\"Ali\"  # we have made this attribute private.\n",
    "\n",
    "    def __kpk(self):\n",
    "        print(\"Welcome to kpk mera bhai..\")\n",
    "\n",
    "    def welcome(self):\n",
    "        self.__kpk()\n",
    "        return 0;\n",
    "       \n",
    "c1 = Pakistan() \n",
    "print(c1.welcome())\n",
    "print(c1.__name)"
   ]
  },
  {
   "cell_type": "markdown",
   "id": "d563370c-660f-43d2-86ed-fe8634bc96b1",
   "metadata": {},
   "source": [
    "**INHERITANCE**"
   ]
  },
  {
   "cell_type": "code",
   "execution_count": 44,
   "id": "d7c56420-d129-4faa-aae2-eb7072a0e744",
   "metadata": {},
   "outputs": [
    {
     "name": "stdout",
     "output_type": "stream",
     "text": [
      "lamborhini\n"
     ]
    }
   ],
   "source": [
    "class Car:\n",
    "    @staticmethod\n",
    "    def start(self):\n",
    "        print(\"car started...\")\n",
    "    @staticmethod\n",
    "    def stop(self):\n",
    "        print(\"car stopped...\")\n",
    "\n",
    "class Twod(Car):\n",
    "    def __init__(self, name):\n",
    "        self.name=name\n",
    "\n",
    "c1 = Twod(\"lamborhini\")\n",
    "print(c1.name)"
   ]
  },
  {
   "cell_type": "code",
   "execution_count": 52,
   "id": "3efda91e-cc4c-4837-b523-9fa67ff26cd9",
   "metadata": {},
   "outputs": [
    {
     "name": "stdout",
     "output_type": "stream",
     "text": [
      "lamborhini\n",
      "car started...\n",
      "None\n",
      "car stopped...\n",
      "None\n"
     ]
    }
   ],
   "source": [
    "class Car:\n",
    "    @staticmethod\n",
    "    def start():\n",
    "        print(\"car started...\")\n",
    "    @staticmethod\n",
    "    def stop():\n",
    "        print(\"car stopped...\")\n",
    "\n",
    "class Twod(Car):\n",
    "    def __init__(self, name):\n",
    "        self.name=name\n",
    "\n",
    "c1 = Twod(\"lamborhini\")\n",
    "print(c1.name)\n",
    "print(c1.start())\n",
    "print(c1.stop())"
   ]
  },
  {
   "cell_type": "code",
   "execution_count": 62,
   "id": "97713cce-7144-4c38-8b31-607e7ba5f42a",
   "metadata": {},
   "outputs": [
    {
     "name": "stdout",
     "output_type": "stream",
     "text": [
      "lamborhini\n",
      "car started...\n",
      "None\n",
      "car stopped...\n",
      "None\n"
     ]
    }
   ],
   "source": [
    "class Car:\n",
    "    def start(self):\n",
    "        print(\"car started...\")\n",
    "    def stop(self):\n",
    "        print(\"car stopped...\")\n",
    "\n",
    "class Twod(Car):\n",
    "    def __init__(self, name):\n",
    "        self.name=name\n",
    "\n",
    "c1 = Twod(\"lamborhini\")\n",
    "print(c1.name)\n",
    "print(c1.start())\n",
    "print(c1.stop())"
   ]
  },
  {
   "cell_type": "code",
   "execution_count": 66,
   "id": "534dde4b-551d-4c8e-b3aa-6d88abd61eb0",
   "metadata": {},
   "outputs": [
    {
     "name": "stdout",
     "output_type": "stream",
     "text": [
      "lamborhini\n",
      "car started...\n",
      "None\n",
      "car stopped...\n",
      "None\n",
      "black\n"
     ]
    }
   ],
   "source": [
    "class Car:\n",
    "    color=\"black\"\n",
    "    def start(self):\n",
    "        print(\"car started...\")\n",
    "    def stop(self):\n",
    "        print(\"car stopped...\")\n",
    "\n",
    "class Twod(Car):\n",
    "    def __init__(self, name):\n",
    "        self.name=name\n",
    "\n",
    "c1 = Twod(\"lamborhini\")\n",
    "print(c1.name)\n",
    "print(c1.start())\n",
    "print(c1.stop())\n",
    "print(c1.color)"
   ]
  },
  {
   "cell_type": "code",
   "execution_count": 76,
   "id": "a66a8503-46d1-409c-bcf2-06de10627069",
   "metadata": {},
   "outputs": [
    {
     "name": "stdout",
     "output_type": "stream",
     "text": [
      "car started...\n",
      "good\n"
     ]
    },
    {
     "ename": "AttributeError",
     "evalue": "'fortuner' object has no attribute 'type'",
     "output_type": "error",
     "traceback": [
      "\u001b[1;31m---------------------------------------------------------------------------\u001b[0m",
      "\u001b[1;31mAttributeError\u001b[0m                            Traceback (most recent call last)",
      "Cell \u001b[1;32mIn[76], line 19\u001b[0m\n\u001b[0;32m     17\u001b[0m f1\u001b[38;5;241m.\u001b[39mstart()\n\u001b[0;32m     18\u001b[0m \u001b[38;5;28mprint\u001b[39m(f1\u001b[38;5;241m.\u001b[39mbrand)\n\u001b[1;32m---> 19\u001b[0m \u001b[38;5;28mprint\u001b[39m(f1\u001b[38;5;241m.\u001b[39mtype)\n",
      "\u001b[1;31mAttributeError\u001b[0m: 'fortuner' object has no attribute 'type'"
     ]
    }
   ],
   "source": [
    "class Car:\n",
    "    def start(self):\n",
    "        print(\"car started...\")\n",
    "    def stop(self):\n",
    "        print(\"car stopped...\")\n",
    "\n",
    "class Twod(Car):\n",
    "    def __init__(self, type):\n",
    "        self.type=\"kjkj\"\n",
    "\n",
    "class fortuner(Twod):\n",
    "    def __init__(self,brand):\n",
    "        self.brand=brand\n",
    "\n",
    "\n",
    "f1=fortuner(\"good\")\n",
    "f1.start()\n",
    "print(f1.brand)\n",
    "print(f1.type)\n",
    "\n"
   ]
  },
  {
   "cell_type": "code",
   "execution_count": 5,
   "id": "48358409-4a34-4e88-97d2-b5435be45ead",
   "metadata": {},
   "outputs": [
    {
     "name": "stdout",
     "output_type": "stream",
     "text": [
      "car started...\n",
      "Brand: Toyota\n",
      "Type: SUV\n"
     ]
    }
   ],
   "source": [
    "class Car:\n",
    "    def start(self):\n",
    "        print(\"car started...\")\n",
    "\n",
    "    def stop(self):\n",
    "        print(\"car stopped...\")\n",
    "\n",
    "class Twod(Car):\n",
    "    def __init__(self, type):\n",
    "        self.type = type\n",
    "\n",
    "class Fortuner(Twod):\n",
    "    def __init__(self, brand, type):\n",
    "        super().__init__(type)  # Call parent constructor to set self.type\n",
    "        self.brand = brand\n",
    "\n",
    "# Create object of Fortuner\n",
    "f1 = Fortuner(\"Toyota\", \"SUV\")\n",
    "\n",
    "# Call methods and access attributes\n",
    "f1.start()\n",
    "print(\"Brand:\", f1.brand)\n",
    "print(\"Type:\", f1.type)\n"
   ]
  },
  {
   "cell_type": "markdown",
   "id": "38cf17f1-a6db-4871-bc8b-2b22586662a5",
   "metadata": {},
   "source": [
    "**Multiple inheritance**"
   ]
  },
  {
   "cell_type": "code",
   "execution_count": 3,
   "id": "209fad88-e2a0-445a-ac73-e3121ebdf2c5",
   "metadata": {},
   "outputs": [
    {
     "name": "stdout",
     "output_type": "stream",
     "text": [
      "wlcome to class First\n",
      "wlcome to class Second\n",
      "wlcome to class Third\n"
     ]
    }
   ],
   "source": [
    "class First:\n",
    "    wlc=\"wlcome to class First\"\n",
    "\n",
    "class Second:\n",
    "    wlco=\"wlcome to class Second\"\n",
    "\n",
    "class Third(First, Second):  # Third class has inherit all the properties\n",
    "    wlcom=\"wlcome to class Third\"\n",
    "\n",
    "c1=Third()\n",
    "print(c1.wlc)\n",
    "print(c1.wlco)\n",
    "print(c1.wlcom)   # i m a joking\n",
    "\n"
   ]
  },
  {
   "cell_type": "code",
   "execution_count": 6,
   "id": "33daf04a-e549-4b5c-8a90-89f84dc61e19",
   "metadata": {},
   "outputs": [
    {
     "name": "stdout",
     "output_type": "stream",
     "text": [
      "Ali\n",
      "City School\n"
     ]
    }
   ],
   "source": [
    "class Student:\n",
    "    school = \"Khyber School\"  # class variable same for all students\n",
    "\n",
    "    def __init__(self, name):\n",
    "        self.name = name\n",
    "\n",
    "    @classmethod\n",
    "    def change_school(cls, new_name):\n",
    "        cls.school = new_name  # changes class variable\n",
    "\n",
    "# Using class method\n",
    "Student.change_school(\"City School\")\n",
    "\n",
    "s1 = Student(\"Ali\")\n",
    "print(s1.name)\n",
    "print(s1.school)\n"
   ]
  },
  {
   "cell_type": "code",
   "execution_count": null,
   "id": "22a9c32a-f005-4b9b-9aa3-65a5381fc90a",
   "metadata": {},
   "outputs": [],
   "source": []
  }
 ],
 "metadata": {
  "kernelspec": {
   "display_name": "Python 3 (ipykernel)",
   "language": "python",
   "name": "python3"
  },
  "language_info": {
   "codemirror_mode": {
    "name": "ipython",
    "version": 3
   },
   "file_extension": ".py",
   "mimetype": "text/x-python",
   "name": "python",
   "nbconvert_exporter": "python",
   "pygments_lexer": "ipython3",
   "version": "3.10.9"
  }
 },
 "nbformat": 4,
 "nbformat_minor": 5
}
