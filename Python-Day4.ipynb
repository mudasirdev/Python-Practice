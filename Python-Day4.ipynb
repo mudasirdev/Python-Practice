{
 "cells": [
  {
   "cell_type": "markdown",
   "id": "418660c8-d025-4b1f-979a-0deb0acc6b48",
   "metadata": {},
   "source": [
    "**Built-in Modules in Python**"
   ]
  },
  {
   "cell_type": "code",
   "execution_count": 1,
   "id": "e54de5ed-1253-43a8-ab8a-c2290d31f729",
   "metadata": {},
   "outputs": [
    {
     "name": "stdout",
     "output_type": "stream",
     "text": [
      "\n",
      "Please wait a moment while I gather a list of all available modules...\n",
      "\n"
     ]
    },
    {
     "name": "stderr",
     "output_type": "stream",
     "text": [
      "C:\\Users\\ZeeshanComputers\\AppData\\Roaming\\Python\\Python310\\site-packages\\torch\\_subclasses\\functional_tensor.py:275: UserWarning: Failed to initialize NumPy: No module named 'numpy' (Triggered internally at C:\\actions-runner\\_work\\pytorch\\pytorch\\pytorch\\torch\\csrc\\utils\\tensor_numpy.cpp:81.)\n",
      "  cpu = _conversion_method_template(device=torch.device(\"cpu\"))\n",
      "C:\\Users\\ZeeshanComputers\\AppData\\Roaming\\Python\\Python310\\site-packages\\nltk\\app\\__init__.py:45: UserWarning: nltk.app.wordfreq not loaded (requires the matplotlib library).\n",
      "  warnings.warn(\"nltk.app.wordfreq not loaded (requires the matplotlib library).\")\n",
      "C:\\Users\\ZeeshanComputers\\AppData\\Roaming\\Python\\Python310\\site-packages\\nltk\\twitter\\__init__.py:20: UserWarning: The twython library has not been installed. Some functionality from the twitter package will not be available.\n",
      "  warnings.warn(\n",
      "C:\\Program Files\\Python310\\lib\\pkgutil.py:92: DeprecationWarning: `torch.distributed._shard.checkpoint` will be deprecated, use `torch.distributed.checkpoint` instead\n",
      "  __import__(info.name)\n",
      "C:\\Program Files\\Python310\\lib\\pkgutil.py:92: DeprecationWarning: `torch.distributed._sharded_tensor` will be deprecated, use `torch.distributed._shard.sharded_tensor` instead\n",
      "  __import__(info.name)\n",
      "C:\\Program Files\\Python310\\lib\\pkgutil.py:92: DeprecationWarning: `torch.distributed._sharding_spec` will be deprecated, use `torch.distributed._shard.sharding_spec` instead\n",
      "  __import__(info.name)\n",
      "W0723 10:00:41.847000 6420 torch\\distributed\\elastic\\multiprocessing\\redirects.py:29] NOTE: Redirects are currently not supported in Windows or MacOs.\n",
      "C:\\Users\\ZeeshanComputers\\AppData\\Roaming\\Python\\Python310\\site-packages\\tqdm\\auto.py:21: TqdmWarning: IProgress not found. Please update jupyter and ipywidgets. See https://ipywidgets.readthedocs.io/en/stable/user_install.html\n",
      "  from .autonotebook import tqdm as notebook_tqdm\n",
      "C:\\Program Files\\Python310\\lib\\site-packages\\_distutils_hack\\__init__.py:33: UserWarning: Setuptools is replacing distutils.\n",
      "  warnings.warn(\"Setuptools is replacing distutils.\")\n",
      "C:\\Program Files\\Python310\\lib\\site-packages\\pip\\_vendor\\packaging\\version.py:111: DeprecationWarning: Creating a LegacyVersion has been deprecated and will be removed in the next major release\n",
      "  warnings.warn(\n"
     ]
    },
    {
     "name": "stdout",
     "output_type": "stream",
     "text": [
      "1stjup              cffi                mmapfile            sympy\n",
      "Data                cgi                 mmsystem            symtable\n",
      "Day9                cgitb               modulefinder        sys\n",
      "IPython             charset_normalizer  mpmath              sysconfig\n",
      "ML1                 chunk               msilib              tabnanny\n",
      "PIL                 click               msvcrt              tarfile\n",
      "__future__          cmath               multiprocessing     telnetlib\n",
      "_abc                cmd                 narwhals            tempfile\n",
      "_aix_support        code                nbclient            tenacity\n",
      "_argon2_cffi_bindings codecs              nbconvert           terminado\n",
      "_ast                codeop              nbformat            test\n",
      "_asyncio            collections         nest_asyncio        textwrap\n",
      "_bisect             colorama            netbios             this\n",
      "_blake2             colorsys            netrc               threading\n",
      "_bootsubprocess     comm                networkx            threadpoolctl\n",
      "_bz2                commctrl            nltk                time\n",
      "_cffi_backend       compileall          nntplib             timeit\n",
      "_codecs             concurrent          notebook            timer\n",
      "_codecs_cn          configparser        notebook_shim       tinycss2\n",
      "_codecs_hk          contextlib          nt                  tkinter\n",
      "_codecs_iso2022     contextvars         ntpath              token\n",
      "_codecs_jp          contourpy           ntsecuritycon       tokenize\n",
      "_codecs_kr          copy                nturl2path          toml\n",
      "_codecs_tw          copyreg             numbers             tomli\n",
      "_collections        crypt               odbc                torch\n",
      "_collections_abc    csv                 opcode              torchgen\n",
      "_compat_pickle      ctypes              operator            torchvision\n",
      "_compression        curses              optparse            tornado\n",
      "_contextvars        cycler              os                  tqdm\n",
      "_csv                dataclasses         overrides           trace\n",
      "_ctypes             datetime            packaging           traceback\n",
      "_ctypes_test        dateutil            pandas              tracemalloc\n",
      "_datetime           dbm                 pandocfilters       traitlets\n",
      "_decimal            dde                 parso               tty\n",
      "_distutils_hack     debugpy             pathlib             turtle\n",
      "_elementtree        decimal             pdb                 turtledemo\n",
      "_functools          decorator           perfmon             types\n",
      "_hashlib            defusedxml          pickle              typing\n",
      "_heapq              difflib             pickletools         typing_extensions\n",
      "_imp                dis                 pip                 tzdata\n",
      "_io                 distutils           pipes               unicodedata\n",
      "_json               django              pkg_resources       unittest\n",
      "_locale             doctest             pkgutil             untitled\n",
      "_lsprof             email               platform            untitled1\n",
      "_lzma               encodings           platformdirs        untitled2\n",
      "_markupbase         ensurepip           plistlib            untitled3\n",
      "_md5                enum                poplib              untitled4\n",
      "_msi                errno               posixpath           untitled5\n",
      "_multibytecodec     exceptiongroup      pprint              untitled6\n",
      "_multiprocessing    executing           profile             untitled7\n",
      "_opcode             fastjsonschema      prometheus_client   untitled8\n",
      "_operator           faulthandler        prompt_toolkit      uri_template\n",
      "_osx_support        filecmp             pstats              urllib\n",
      "_overlapped         fileinput           psutil              urllib3\n",
      "_pickle             filelock            pty                 uu\n",
      "_py_abc             flask               pure_eval           uuid\n",
      "_pydecimal          flask_cors          py_compile          venv\n",
      "_pyio               fnmatch             pyarrow             warnings\n",
      "_queue              fontTools           pyclbr              watchdog\n",
      "_random             fqdn                pycparser           wave\n",
      "_sha1               fractions           pydeck              wcwidth\n",
      "_sha256             fsspec              pydoc               weakref\n",
      "_sha3               ftplib              pydoc_data          webbrowser\n",
      "_sha512             functools           pyexpat             webcolors\n",
      "_signal             functorch           pygments            webencodings\n",
      "_sitebuiltins       gc                  pylab               websocket\n",
      "_socket             genericpath         pyparsing           werkzeug\n",
      "_sqlite3            getopt              pythoncom           win2kras\n",
      "_sre                getpass             pythonjsonlogger    win32api\n",
      "_ssl                gettext             pytz                win32clipboard\n",
      "_stat               git                 pywin               win32com\n",
      "_statistics         gitdb               pywin32_bootstrap   win32con\n",
      "_string             glob                pywin32_testutil    win32console\n",
      "_strptime           graphlib            pywintypes          win32cred\n",
      "_struct             gzip                queue               win32crypt\n",
      "_symtable           h11                 quiz                win32cryptcon\n",
      "_testbuffer         hashlib             quopri              win32event\n",
      "_testcapi           heapq               random              win32evtlog\n",
      "_testconsole        hmac                rasutil             win32evtlogutil\n",
      "_testimportmultiple html                re                  win32file\n",
      "_testinternalcapi   http                referencing         win32gui\n",
      "_testmultiphase     httpcore            regcheck            win32gui_struct\n",
      "_thread             httpx               regex               win32help\n",
      "_threading_local    idlelib             regutil             win32inet\n",
      "_tkinter            idna                reprlib             win32inetcon\n",
      "_tracemalloc        imaplib             requests            win32job\n",
      "_uuid               imghdr              rfc3339_validator   win32lz\n",
      "_warnings           imp                 rfc3986_validator   win32net\n",
      "_weakref            importlib           rlcompleter         win32netcon\n",
      "_weakrefset         inspect             rpds                win32pdh\n",
      "_win32sysloader     io                  runpy               win32pdhquery\n",
      "_win32verstamp_pywin32ctypes ipaddress           sched               win32pdhutil\n",
      "_winapi             ipykernel           scipy               win32pipe\n",
      "_winxptheme         ipykernel_launcher  seaborn             win32print\n",
      "_xxsubinterpreters  isapi               secrets             win32process\n",
      "_yaml               isoduration         select              win32profile\n",
      "_zoneinfo           isympy              selectors           win32ras\n",
      "abc                 itertools           send2trash          win32rcparser\n",
      "adodbapi            itsdangerous        servicemanager      win32security\n",
      "afxres              jedi                setuptools          win32service\n",
      "aifc                jinja2              shelve              win32serviceutil\n",
      "altair              joblib              shlex               win32timezone\n",
      "antigravity         json                shutil              win32trace\n",
      "anyio               json5               signal              win32traceutil\n",
      "argon2              jsonpointer         site                win32transaction\n",
      "argparse            jsonschema          six                 win32ts\n",
      "array               jsonschema_specifications sklearn             win32ui\n",
      "arrow               jupyter             smmap               win32uiole\n",
      "asgiref             jupyter_client      smtpd               win32verstamp\n",
      "ast                 jupyter_core        smtplib             win32wnet\n",
      "asttokens           jupyter_events      snake               winerror\n",
      "async_lru           jupyter_lsp         sndhdr              winioctlcon\n",
      "asynchat            jupyter_server      sniffio             winnt\n",
      "asyncio             jupyter_server_terminals socket              winperf\n",
      "asyncore            jupyterlab          socketserver        winpty\n",
      "atexit              jupyterlab_pygments soupsieve           winreg\n",
      "attr                jupyterlab_server   sqlite3             winsound\n",
      "attrs               keyword             sqlparse            winxpgui\n",
      "audioop             kiwisolver          sre_compile         winxptheme\n",
      "babel               lib2to3             sre_constants       wsgiref\n",
      "base64              linecache           sre_parse           xdrlib\n",
      "bdb                 locale              ssl                 xml\n",
      "binascii            logging             sspi                xmlrpc\n",
      "binhex              lzma                sspicon             xxsubtype\n",
      "bisect              mailbox             stack_data          yaml\n",
      "bleach              mailcap             start_pythonwin     zipapp\n",
      "blinker             markupsafe          stat                zipfile\n",
      "bs4                 marshal             statistics          zipimport\n",
      "builtins            math                streamlit           zlib\n",
      "bz2                 matplotlib          string              zmq\n",
      "cProfile            matplotlib_inline   stringprep          zoneinfo\n",
      "cachetools          mimetypes           struct              \n",
      "calendar            mistune             subprocess          \n",
      "certifi             mmap                sunau               \n",
      "\n",
      "Enter any module name to get more help.  Or, type \"modules spam\" to search\n",
      "for modules whose name or summary contain the string \"spam\".\n",
      "\n"
     ]
    }
   ],
   "source": [
    "help(\"modules\")"
   ]
  },
  {
   "cell_type": "code",
   "execution_count": 2,
   "id": "95a729de-6758-42db-a00a-8a0c02c509a0",
   "metadata": {},
   "outputs": [],
   "source": [
    "import math"
   ]
  },
  {
   "cell_type": "code",
   "execution_count": 3,
   "id": "41724186-693c-42f0-adde-d2e5090d65a6",
   "metadata": {},
   "outputs": [
    {
     "data": {
      "text/plain": [
       "2.718281828459045"
      ]
     },
     "execution_count": 3,
     "metadata": {},
     "output_type": "execute_result"
    }
   ],
   "source": [
    "math.e"
   ]
  },
  {
   "cell_type": "code",
   "execution_count": 4,
   "id": "6f4821ba-8a6e-4376-a818-d84f83101a8b",
   "metadata": {},
   "outputs": [
    {
     "data": {
      "text/plain": [
       "3.141592653589793"
      ]
     },
     "execution_count": 4,
     "metadata": {},
     "output_type": "execute_result"
    }
   ],
   "source": [
    "math.pi"
   ]
  },
  {
   "cell_type": "code",
   "execution_count": 5,
   "id": "512ee8cf-ef3f-465e-8e9a-eee50440796f",
   "metadata": {},
   "outputs": [
    {
     "data": {
      "text/plain": [
       "6"
      ]
     },
     "execution_count": 5,
     "metadata": {},
     "output_type": "execute_result"
    }
   ],
   "source": [
    "math.factorial(3)"
   ]
  },
  {
   "cell_type": "code",
   "execution_count": 6,
   "id": "e5bdd877-b7b2-4642-9ed1-7e2e6746ea6d",
   "metadata": {},
   "outputs": [
    {
     "data": {
      "text/plain": [
       "9.0"
      ]
     },
     "execution_count": 6,
     "metadata": {},
     "output_type": "execute_result"
    }
   ],
   "source": [
    "math.sqrt(81)"
   ]
  },
  {
   "cell_type": "markdown",
   "id": "effbea44-03d0-42b8-b141-4daabc932808",
   "metadata": {},
   "source": [
    "**Random Module**"
   ]
  },
  {
   "cell_type": "code",
   "execution_count": 7,
   "id": "521d1516-e4a2-49dc-8728-2df3c9ccb9bd",
   "metadata": {},
   "outputs": [],
   "source": [
    "import random"
   ]
  },
  {
   "cell_type": "code",
   "execution_count": 14,
   "id": "d64ac14a-efd7-44eb-bfae-34240589ef4b",
   "metadata": {},
   "outputs": [
    {
     "name": "stdout",
     "output_type": "stream",
     "text": [
      "[6, 5, 1, 4, 2, 3]\n"
     ]
    }
   ],
   "source": [
    "a = [1,2,3,4,5,6]\n",
    "random.shuffle(a)##ya function shuffling krta ha between the numbers..\n",
    "print(a)"
   ]
  },
  {
   "cell_type": "code",
   "execution_count": 17,
   "id": "d6a01d98-e908-4e17-bd4a-93adacef7cd0",
   "metadata": {},
   "outputs": [
    {
     "data": {
      "text/plain": [
       "74"
      ]
     },
     "execution_count": 17,
     "metadata": {},
     "output_type": "execute_result"
    }
   ],
   "source": [
    "random.randint(1, 100)"
   ]
  },
  {
   "cell_type": "markdown",
   "id": "552da97d-1066-4760-a8d7-bcc76cc32860",
   "metadata": {},
   "source": [
    "**Time Module**"
   ]
  },
  {
   "cell_type": "code",
   "execution_count": 16,
   "id": "a1dd07dc-9ffa-46a2-88d3-7689555bbf21",
   "metadata": {},
   "outputs": [
    {
     "data": {
      "text/plain": [
       "'Wed Jul 23 10:11:36 2025'"
      ]
     },
     "execution_count": 16,
     "metadata": {},
     "output_type": "execute_result"
    }
   ],
   "source": [
    "import time\n",
    "time.ctime()"
   ]
  },
  {
   "cell_type": "code",
   "execution_count": 18,
   "id": "d79d1752-609a-4183-ad82-83332b1129d9",
   "metadata": {},
   "outputs": [
    {
     "name": "stdout",
     "output_type": "stream",
     "text": [
      "Hello\n",
      "World\n"
     ]
    }
   ],
   "source": [
    "print(\"Hello\")\n",
    "time.sleep(5) # Delay of 5 seconds\n",
    "print(\"World\")"
   ]
  },
  {
   "cell_type": "markdown",
   "id": "dbe5efc2-a899-422d-a49c-ff2a384a194c",
   "metadata": {},
   "source": [
    "**OS Module**"
   ]
  },
  {
   "cell_type": "code",
   "execution_count": 19,
   "id": "c33cbad3-6cc3-42cd-a3d4-bafabe0d5806",
   "metadata": {},
   "outputs": [],
   "source": [
    "import os"
   ]
  },
  {
   "cell_type": "code",
   "execution_count": 20,
   "id": "be81c2ad-a1c1-46fd-a27f-4f8cde7adbd1",
   "metadata": {},
   "outputs": [
    {
     "data": {
      "text/plain": [
       "'C:\\\\Users\\\\ZeeshanComputers'"
      ]
     },
     "execution_count": 20,
     "metadata": {},
     "output_type": "execute_result"
    }
   ],
   "source": [
    "os.getcwd()#It will show the currrent working directory "
   ]
  },
  {
   "cell_type": "markdown",
   "id": "a9c7652d-b48f-4972-a1db-622605b48458",
   "metadata": {},
   "source": [
    "os.listdir()# used to list all files and directories in a given path."
   ]
  },
  {
   "cell_type": "markdown",
   "id": "62fe2645-12d8-4c6a-94c3-17d6b3bed4bc",
   "metadata": {},
   "source": [
    "**Strings**"
   ]
  },
  {
   "cell_type": "code",
   "execution_count": 25,
   "id": "3cd93dc6-ed66-4d4d-a2b3-94ef31690f0c",
   "metadata": {},
   "outputs": [
    {
     "name": "stdout",
     "output_type": "stream",
     "text": [
      "Hello\n"
     ]
    }
   ],
   "source": [
    "c = 'Hello'\n",
    "print(c)"
   ]
  },
  {
   "cell_type": "code",
   "execution_count": 27,
   "id": "714ea71a-8f60-43e5-ac16-956d6c2f69be",
   "metadata": {},
   "outputs": [
    {
     "name": "stdout",
     "output_type": "stream",
     "text": [
      "Hello bro\n"
     ]
    }
   ],
   "source": [
    "c = \"Hello bro\"\n",
    "print(c)"
   ]
  },
  {
   "cell_type": "markdown",
   "id": "3a36e100-68dc-4f3a-9445-810719b54b22",
   "metadata": {},
   "source": [
    "**Accessing Substrings from a String**"
   ]
  },
  {
   "cell_type": "code",
   "execution_count": null,
   "id": "a758440a-c9bf-4d29-be6a-45ffb6eef15e",
   "metadata": {},
   "outputs": [],
   "source": [
    "# string[start:stop]\n",
    "\n",
    "# Includes start, excludes stop\n",
    "\n",
    "# If we skip start, it begins from the start.\n",
    "\n",
    "# If we skip stop, it goes to the end."
   ]
  },
  {
   "cell_type": "code",
   "execution_count": 36,
   "id": "2a2595e1-8a7f-4ce7-891c-5ce40094e3ef",
   "metadata": {},
   "outputs": [
    {
     "name": "stdout",
     "output_type": "stream",
     "text": [
      "Hello bro\n"
     ]
    }
   ],
   "source": [
    "print(c[0:])"
   ]
  },
  {
   "cell_type": "code",
   "execution_count": 29,
   "id": "8876da69-abb4-4edc-a038-244eae7f9080",
   "metadata": {},
   "outputs": [
    {
     "name": "stdout",
     "output_type": "stream",
     "text": [
      "l\n"
     ]
    }
   ],
   "source": [
    "print(c[2])"
   ]
  },
  {
   "cell_type": "code",
   "execution_count": 32,
   "id": "7ea1747b-2190-4690-b010-5df7455e12ca",
   "metadata": {},
   "outputs": [
    {
     "name": "stdout",
     "output_type": "stream",
     "text": [
      "llo bro\n"
     ]
    }
   ],
   "source": [
    "print(c[2:])#hahahaha"
   ]
  },
  {
   "cell_type": "code",
   "execution_count": 33,
   "id": "2a5a1f94-4d4a-460d-8528-3fd3fb890fe4",
   "metadata": {},
   "outputs": [
    {
     "name": "stdout",
     "output_type": "stream",
     "text": [
      "lo\n"
     ]
    }
   ],
   "source": [
    "print(c[2:6:2])"
   ]
  },
  {
   "cell_type": "code",
   "execution_count": 34,
   "id": "6f96041c-ac5c-464a-831e-88377ec97762",
   "metadata": {},
   "outputs": [
    {
     "name": "stdout",
     "output_type": "stream",
     "text": [
      "P\n",
      "n\n",
      "h\n"
     ]
    }
   ],
   "source": [
    "text = \"Python\"\n",
    "\n",
    "print(text[0])  \n",
    "print(text[-1])  #negative indexing from right\n",
    "print(text[3])   #positive indexing from left"
   ]
  },
  {
   "cell_type": "markdown",
   "id": "f8a25138-a648-4f1f-a0f7-46a38aac91f5",
   "metadata": {},
   "source": [
    "**Slicing with Negative Indexes**"
   ]
  },
  {
   "cell_type": "code",
   "execution_count": 38,
   "id": "4457e1d0-a3fd-4651-ae72-44172c9aff08",
   "metadata": {},
   "outputs": [
    {
     "name": "stdout",
     "output_type": "stream",
     "text": [
      "stan\n",
      "tan\n"
     ]
    }
   ],
   "source": [
    "text = \"Pakistan\"\n",
    "\n",
    "print(text[-4:1])  \n",
    "print(text[-3:])    "
   ]
  },
  {
   "cell_type": "code",
   "execution_count": 40,
   "id": "898837aa-6803-4d8f-9243-f7a73bd7fb1e",
   "metadata": {},
   "outputs": [
    {
     "data": {
      "text/plain": [
       "'Pks'"
      ]
     },
     "execution_count": 40,
     "metadata": {},
     "output_type": "execute_result"
    }
   ],
   "source": [
    "#string[start : stop : step]\n",
    "text[0:5:2]"
   ]
  },
  {
   "cell_type": "code",
   "execution_count": 47,
   "id": "6bb2175a-ac41-4064-8565-7c3f7f5e6e3d",
   "metadata": {},
   "outputs": [
    {
     "data": {
      "text/plain": [
       "'nt'"
      ]
     },
     "execution_count": 47,
     "metadata": {},
     "output_type": "execute_result"
    }
   ],
   "source": [
    "text = \"Pakistan\"\n",
    "text[-1:-5:-2]"
   ]
  },
  {
   "cell_type": "code",
   "execution_count": 48,
   "id": "0791f2b8-9839-4417-b0ac-71eb82101890",
   "metadata": {},
   "outputs": [
    {
     "data": {
      "text/plain": [
       "''"
      ]
     },
     "execution_count": 48,
     "metadata": {},
     "output_type": "execute_result"
    }
   ],
   "source": [
    "text = \"Pakistan\"\n",
    "text[1:5:-2]#when working with positive we can not take steps negative"
   ]
  },
  {
   "cell_type": "code",
   "execution_count": 44,
   "id": "8fbb38cf-b85a-44db-9273-948e4fc70459",
   "metadata": {},
   "outputs": [
    {
     "data": {
      "text/plain": [
       "'natsikaP'"
      ]
     },
     "execution_count": 44,
     "metadata": {},
     "output_type": "execute_result"
    }
   ],
   "source": [
    "text[::-1]#string get reversed aur ya ek famous case ha"
   ]
  },
  {
   "cell_type": "code",
   "execution_count": 45,
   "id": "73d2108b-6e85-4255-ad86-471969de60c8",
   "metadata": {},
   "outputs": [
    {
     "data": {
      "text/plain": [
       "'tia'"
      ]
     },
     "execution_count": 45,
     "metadata": {},
     "output_type": "execute_result"
    }
   ],
   "source": [
    "text[5:0:-2]"
   ]
  },
  {
   "cell_type": "code",
   "execution_count": null,
   "id": "cb4cf5aa-ac33-4baa-b400-8f0cab77d1ad",
   "metadata": {},
   "outputs": [],
   "source": []
  }
 ],
 "metadata": {
  "kernelspec": {
   "display_name": "Python 3 (ipykernel)",
   "language": "python",
   "name": "python3"
  },
  "language_info": {
   "codemirror_mode": {
    "name": "ipython",
    "version": 3
   },
   "file_extension": ".py",
   "mimetype": "text/x-python",
   "name": "python",
   "nbconvert_exporter": "python",
   "pygments_lexer": "ipython3",
   "version": "3.10.9"
  }
 },
 "nbformat": 4,
 "nbformat_minor": 5
}
